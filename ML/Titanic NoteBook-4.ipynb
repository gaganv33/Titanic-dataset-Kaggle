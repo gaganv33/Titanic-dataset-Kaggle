{
 "cells": [
  {
   "cell_type": "code",
   "execution_count": 1,
   "id": "957aa22b",
   "metadata": {},
   "outputs": [],
   "source": [
    "import numpy as np\n",
    "import pandas as pd\n",
    "import matplotlib.pyplot as plt"
   ]
  },
  {
   "cell_type": "code",
   "execution_count": 2,
   "id": "481c043e",
   "metadata": {},
   "outputs": [],
   "source": [
    "def sigmoid(z):\n",
    "    g = 1.0 / (1 + np.exp(-z))\n",
    "    return g"
   ]
  },
  {
   "cell_type": "code",
   "execution_count": 34,
   "id": "557d9e9a",
   "metadata": {},
   "outputs": [],
   "source": [
    "def compute_cost_logistic(x, y, w, b):\n",
    "    m ,n = x.shape\n",
    "    z = np.dot(x, w) + b\n",
    "    f_wb = sigmoid(z)\n",
    "    \n",
    "    cost = -(1.0 / m) * np.sum(y * np.log(f_wb) + (1 - y) * np.log(1 - f_wb))\n",
    "    return cost"
   ]
  },
  {
   "cell_type": "code",
   "execution_count": 35,
   "id": "f29bb077",
   "metadata": {},
   "outputs": [],
   "source": [
    "def compute_gradient(x, y, w, b):\n",
    "    m,n = x.shape\n",
    "    \n",
    "    dw = np.zeros((n, ))\n",
    "    db = 0.0\n",
    "    \n",
    "    for i in range(m):\n",
    "        z_i = np.dot(x[i], w) + b\n",
    "        f_wb_i = sigmoid(z_i)\n",
    "        err_i = f_wb_i - y[i]\n",
    "        for j in range(n):\n",
    "            dw[j] = dw[j] + err_i * x[i, j]\n",
    "        db = db + err_i\n",
    "    dw = dw / m\n",
    "    db = db / m\n",
    "    return dw, db"
   ]
  },
  {
   "cell_type": "code",
   "execution_count": 36,
   "id": "758b9d33",
   "metadata": {},
   "outputs": [],
   "source": [
    "def gradient_descent(x, y, alpha=1e-2, max_iter=10000):\n",
    "    m, n = x.shape\n",
    "    \n",
    "    w = np.zeros((n, ))\n",
    "    b = 0.0\n",
    "    J_hist = []\n",
    "    \n",
    "    for i in range(max_iter):\n",
    "        # Fiding the value of the gradient change\n",
    "        dw, db = compute_gradient(x, y ,w, b)\n",
    "        \n",
    "        # Updating the value of the parameters w and b\n",
    "        w = w - (alpha * dw)\n",
    "        b = b - (alpha * db)\n",
    "        \n",
    "        # Finding the value of the cost\n",
    "        J_hist.append(compute_cost_logistic(x, y, w, b))\n",
    "        \n",
    "        if i%50 == 0:\n",
    "            print(f\"Iteration: {i}; Cost: {J_hist[i]}\")\n",
    "    # Plotting the learning curve\n",
    "    plt.plot(range(max_iter), J_hist)\n",
    "    plt.xlabel('Iteration')\n",
    "    plt.ylabel('Cost')\n",
    "    plt.title(\"Learning Curve\")\n",
    "    plt.show()\n",
    "    \n",
    "    return w, b"
   ]
  },
  {
   "cell_type": "code",
   "execution_count": 37,
   "id": "7ec43d75",
   "metadata": {},
   "outputs": [],
   "source": [
    "train = pd.read_csv('train.csv')"
   ]
  },
  {
   "cell_type": "code",
   "execution_count": 38,
   "id": "15117035",
   "metadata": {},
   "outputs": [
    {
     "data": {
      "text/html": [
       "<div>\n",
       "<style scoped>\n",
       "    .dataframe tbody tr th:only-of-type {\n",
       "        vertical-align: middle;\n",
       "    }\n",
       "\n",
       "    .dataframe tbody tr th {\n",
       "        vertical-align: top;\n",
       "    }\n",
       "\n",
       "    .dataframe thead th {\n",
       "        text-align: right;\n",
       "    }\n",
       "</style>\n",
       "<table border=\"1\" class=\"dataframe\">\n",
       "  <thead>\n",
       "    <tr style=\"text-align: right;\">\n",
       "      <th></th>\n",
       "      <th>PassengerId</th>\n",
       "      <th>Survived</th>\n",
       "      <th>Pclass</th>\n",
       "      <th>Name</th>\n",
       "      <th>Sex</th>\n",
       "      <th>Age</th>\n",
       "      <th>SibSp</th>\n",
       "      <th>Parch</th>\n",
       "      <th>Ticket</th>\n",
       "      <th>Fare</th>\n",
       "      <th>Cabin</th>\n",
       "      <th>Embarked</th>\n",
       "    </tr>\n",
       "  </thead>\n",
       "  <tbody>\n",
       "    <tr>\n",
       "      <th>0</th>\n",
       "      <td>1</td>\n",
       "      <td>0</td>\n",
       "      <td>3</td>\n",
       "      <td>Braund, Mr. Owen Harris</td>\n",
       "      <td>male</td>\n",
       "      <td>22.0</td>\n",
       "      <td>1</td>\n",
       "      <td>0</td>\n",
       "      <td>A/5 21171</td>\n",
       "      <td>7.2500</td>\n",
       "      <td>NaN</td>\n",
       "      <td>S</td>\n",
       "    </tr>\n",
       "    <tr>\n",
       "      <th>1</th>\n",
       "      <td>2</td>\n",
       "      <td>1</td>\n",
       "      <td>1</td>\n",
       "      <td>Cumings, Mrs. John Bradley (Florence Briggs Th...</td>\n",
       "      <td>female</td>\n",
       "      <td>38.0</td>\n",
       "      <td>1</td>\n",
       "      <td>0</td>\n",
       "      <td>PC 17599</td>\n",
       "      <td>71.2833</td>\n",
       "      <td>C85</td>\n",
       "      <td>C</td>\n",
       "    </tr>\n",
       "    <tr>\n",
       "      <th>2</th>\n",
       "      <td>3</td>\n",
       "      <td>1</td>\n",
       "      <td>3</td>\n",
       "      <td>Heikkinen, Miss. Laina</td>\n",
       "      <td>female</td>\n",
       "      <td>26.0</td>\n",
       "      <td>0</td>\n",
       "      <td>0</td>\n",
       "      <td>STON/O2. 3101282</td>\n",
       "      <td>7.9250</td>\n",
       "      <td>NaN</td>\n",
       "      <td>S</td>\n",
       "    </tr>\n",
       "    <tr>\n",
       "      <th>3</th>\n",
       "      <td>4</td>\n",
       "      <td>1</td>\n",
       "      <td>1</td>\n",
       "      <td>Futrelle, Mrs. Jacques Heath (Lily May Peel)</td>\n",
       "      <td>female</td>\n",
       "      <td>35.0</td>\n",
       "      <td>1</td>\n",
       "      <td>0</td>\n",
       "      <td>113803</td>\n",
       "      <td>53.1000</td>\n",
       "      <td>C123</td>\n",
       "      <td>S</td>\n",
       "    </tr>\n",
       "    <tr>\n",
       "      <th>4</th>\n",
       "      <td>5</td>\n",
       "      <td>0</td>\n",
       "      <td>3</td>\n",
       "      <td>Allen, Mr. William Henry</td>\n",
       "      <td>male</td>\n",
       "      <td>35.0</td>\n",
       "      <td>0</td>\n",
       "      <td>0</td>\n",
       "      <td>373450</td>\n",
       "      <td>8.0500</td>\n",
       "      <td>NaN</td>\n",
       "      <td>S</td>\n",
       "    </tr>\n",
       "  </tbody>\n",
       "</table>\n",
       "</div>"
      ],
      "text/plain": [
       "   PassengerId  Survived  Pclass  \\\n",
       "0            1         0       3   \n",
       "1            2         1       1   \n",
       "2            3         1       3   \n",
       "3            4         1       1   \n",
       "4            5         0       3   \n",
       "\n",
       "                                                Name     Sex   Age  SibSp  \\\n",
       "0                            Braund, Mr. Owen Harris    male  22.0      1   \n",
       "1  Cumings, Mrs. John Bradley (Florence Briggs Th...  female  38.0      1   \n",
       "2                             Heikkinen, Miss. Laina  female  26.0      0   \n",
       "3       Futrelle, Mrs. Jacques Heath (Lily May Peel)  female  35.0      1   \n",
       "4                           Allen, Mr. William Henry    male  35.0      0   \n",
       "\n",
       "   Parch            Ticket     Fare Cabin Embarked  \n",
       "0      0         A/5 21171   7.2500   NaN        S  \n",
       "1      0          PC 17599  71.2833   C85        C  \n",
       "2      0  STON/O2. 3101282   7.9250   NaN        S  \n",
       "3      0            113803  53.1000  C123        S  \n",
       "4      0            373450   8.0500   NaN        S  "
      ]
     },
     "execution_count": 38,
     "metadata": {},
     "output_type": "execute_result"
    }
   ],
   "source": [
    "train.head()"
   ]
  },
  {
   "cell_type": "code",
   "execution_count": 39,
   "id": "ffdb9b40",
   "metadata": {},
   "outputs": [],
   "source": [
    "train['Sex'].replace({\n",
    "    'male' : 1,\n",
    "    'female' : 0\n",
    "}, inplace=True)"
   ]
  },
  {
   "cell_type": "code",
   "execution_count": 40,
   "id": "f3cb903a",
   "metadata": {},
   "outputs": [],
   "source": [
    "# Sorting the dataset based on SibSp Column\n",
    "sibsp = train.groupby(['SibSp'])"
   ]
  },
  {
   "cell_type": "code",
   "execution_count": 41,
   "id": "835a0bc0",
   "metadata": {},
   "outputs": [
    {
     "data": {
      "text/plain": [
       "SibSp  Survived\n",
       "0      0           398\n",
       "       1           210\n",
       "1      1           112\n",
       "       0            97\n",
       "2      0            15\n",
       "       1            13\n",
       "3      0            12\n",
       "       1             4\n",
       "4      0            15\n",
       "       1             3\n",
       "5      0             5\n",
       "8      0             7\n",
       "dtype: int64"
      ]
     },
     "execution_count": 41,
     "metadata": {},
     "output_type": "execute_result"
    }
   ],
   "source": [
    "sibsp[['Survived']].value_counts()"
   ]
  },
  {
   "cell_type": "code",
   "execution_count": 42,
   "id": "dd6fbb3a",
   "metadata": {},
   "outputs": [],
   "source": [
    "# Sorting the dataset based on Parch\n",
    "parch = train.groupby(['Parch'])"
   ]
  },
  {
   "cell_type": "code",
   "execution_count": 43,
   "id": "fa749673",
   "metadata": {},
   "outputs": [
    {
     "data": {
      "text/plain": [
       "Parch  Survived\n",
       "0      0           445\n",
       "       1           233\n",
       "1      1            65\n",
       "       0            53\n",
       "2      0            40\n",
       "       1            40\n",
       "3      1             3\n",
       "       0             2\n",
       "4      0             4\n",
       "5      0             4\n",
       "       1             1\n",
       "6      0             1\n",
       "Name: Survived, dtype: int64"
      ]
     },
     "execution_count": 43,
     "metadata": {},
     "output_type": "execute_result"
    }
   ],
   "source": [
    "parch['Survived'].value_counts()"
   ]
  },
  {
   "cell_type": "code",
   "execution_count": 44,
   "id": "f538c3c1",
   "metadata": {},
   "outputs": [],
   "source": [
    "mean_age = np.sum(train['Age']) / train.shape[0]"
   ]
  },
  {
   "cell_type": "code",
   "execution_count": 45,
   "id": "2db126eb",
   "metadata": {},
   "outputs": [
    {
     "data": {
      "text/plain": [
       "23.79929292929293"
      ]
     },
     "execution_count": 45,
     "metadata": {},
     "output_type": "execute_result"
    }
   ],
   "source": [
    "mean_age"
   ]
  },
  {
   "cell_type": "code",
   "execution_count": 46,
   "id": "ccdd53a8",
   "metadata": {},
   "outputs": [
    {
     "data": {
      "text/plain": [
       "array([22.  , 38.  , 26.  , 35.  ,   nan, 54.  ,  2.  , 27.  , 14.  ,\n",
       "        4.  , 58.  , 20.  , 39.  , 55.  , 31.  , 34.  , 15.  , 28.  ,\n",
       "        8.  , 19.  , 40.  , 66.  , 42.  , 21.  , 18.  ,  3.  ,  7.  ,\n",
       "       49.  , 29.  , 65.  , 28.5 ,  5.  , 11.  , 45.  , 17.  , 32.  ,\n",
       "       16.  , 25.  ,  0.83, 30.  , 33.  , 23.  , 24.  , 46.  , 59.  ,\n",
       "       71.  , 37.  , 47.  , 14.5 , 70.5 , 32.5 , 12.  ,  9.  , 36.5 ,\n",
       "       51.  , 55.5 , 40.5 , 44.  ,  1.  , 61.  , 56.  , 50.  , 36.  ,\n",
       "       45.5 , 20.5 , 62.  , 41.  , 52.  , 63.  , 23.5 ,  0.92, 43.  ,\n",
       "       60.  , 10.  , 64.  , 13.  , 48.  ,  0.75, 53.  , 57.  , 80.  ,\n",
       "       70.  , 24.5 ,  6.  ,  0.67, 30.5 ,  0.42, 34.5 , 74.  ])"
      ]
     },
     "execution_count": 46,
     "metadata": {},
     "output_type": "execute_result"
    }
   ],
   "source": [
    "train['Age'].unique()"
   ]
  },
  {
   "cell_type": "code",
   "execution_count": 47,
   "id": "2d15e682",
   "metadata": {},
   "outputs": [],
   "source": [
    "train['Age'].replace({\n",
    "    np.nan : mean_age\n",
    "}, inplace=True)"
   ]
  },
  {
   "cell_type": "code",
   "execution_count": 48,
   "id": "4a29a580",
   "metadata": {},
   "outputs": [
    {
     "data": {
      "text/plain": [
       "array([22.        , 38.        , 26.        , 35.        , 23.79929293,\n",
       "       54.        ,  2.        , 27.        , 14.        ,  4.        ,\n",
       "       58.        , 20.        , 39.        , 55.        , 31.        ,\n",
       "       34.        , 15.        , 28.        ,  8.        , 19.        ,\n",
       "       40.        , 66.        , 42.        , 21.        , 18.        ,\n",
       "        3.        ,  7.        , 49.        , 29.        , 65.        ,\n",
       "       28.5       ,  5.        , 11.        , 45.        , 17.        ,\n",
       "       32.        , 16.        , 25.        ,  0.83      , 30.        ,\n",
       "       33.        , 23.        , 24.        , 46.        , 59.        ,\n",
       "       71.        , 37.        , 47.        , 14.5       , 70.5       ,\n",
       "       32.5       , 12.        ,  9.        , 36.5       , 51.        ,\n",
       "       55.5       , 40.5       , 44.        ,  1.        , 61.        ,\n",
       "       56.        , 50.        , 36.        , 45.5       , 20.5       ,\n",
       "       62.        , 41.        , 52.        , 63.        , 23.5       ,\n",
       "        0.92      , 43.        , 60.        , 10.        , 64.        ,\n",
       "       13.        , 48.        ,  0.75      , 53.        , 57.        ,\n",
       "       80.        , 70.        , 24.5       ,  6.        ,  0.67      ,\n",
       "       30.5       ,  0.42      , 34.5       , 74.        ])"
      ]
     },
     "execution_count": 48,
     "metadata": {},
     "output_type": "execute_result"
    }
   ],
   "source": [
    "train['Age'].unique()"
   ]
  },
  {
   "cell_type": "code",
   "execution_count": 49,
   "id": "57ffcdb4",
   "metadata": {},
   "outputs": [],
   "source": [
    "X = np.array(train[['Pclass', 'Sex', 'Age', 'SibSp', 'Parch']])"
   ]
  },
  {
   "cell_type": "code",
   "execution_count": 50,
   "id": "5c5cfb3b",
   "metadata": {},
   "outputs": [
    {
     "data": {
      "text/plain": [
       "(891, 5)"
      ]
     },
     "execution_count": 50,
     "metadata": {},
     "output_type": "execute_result"
    }
   ],
   "source": [
    "X.shape"
   ]
  },
  {
   "cell_type": "code",
   "execution_count": 51,
   "id": "6e3bf5fe",
   "metadata": {},
   "outputs": [],
   "source": [
    "Y = np.array(train['Survived'])"
   ]
  },
  {
   "cell_type": "code",
   "execution_count": 52,
   "id": "98af41ef",
   "metadata": {},
   "outputs": [
    {
     "data": {
      "text/plain": [
       "(891,)"
      ]
     },
     "execution_count": 52,
     "metadata": {},
     "output_type": "execute_result"
    }
   ],
   "source": [
    "Y.shape"
   ]
  },
  {
   "cell_type": "code",
   "execution_count": 53,
   "id": "3e79ef46",
   "metadata": {},
   "outputs": [],
   "source": [
    "# Normalizing the X complete dataset\n",
    "mu_X =np.mean(X, axis=0)\n",
    "sigma_X = np.std(X, axis=0)\n",
    "X = ((X - mu_X) / sigma_X)"
   ]
  },
  {
   "cell_type": "code",
   "execution_count": 54,
   "id": "7290db59",
   "metadata": {},
   "outputs": [
    {
     "data": {
      "text/plain": [
       "6.974147318082627"
      ]
     },
     "execution_count": 54,
     "metadata": {},
     "output_type": "execute_result"
    }
   ],
   "source": [
    "X.max()"
   ]
  },
  {
   "cell_type": "code",
   "execution_count": 55,
   "id": "62d655b4",
   "metadata": {},
   "outputs": [
    {
     "name": "stdout",
     "output_type": "stream",
     "text": [
      "Iteration: 0; Cost: 0.6920194513709746\n",
      "Iteration: 50; Cost: 0.6429347526604247\n",
      "Iteration: 100; Cost: 0.6055843875766714\n",
      "Iteration: 150; Cost: 0.5768701077281916\n",
      "Iteration: 200; Cost: 0.554525061851689\n",
      "Iteration: 250; Cost: 0.5369140607441834\n",
      "Iteration: 300; Cost: 0.522859722732628\n",
      "Iteration: 350; Cost: 0.5115098703362433\n",
      "Iteration: 400; Cost: 0.5022421094392878\n",
      "Iteration: 450; Cost: 0.49459687491107845\n",
      "Iteration: 500; Cost: 0.4882308402824571\n",
      "Iteration: 550; Cost: 0.48288447092789416\n",
      "Iteration: 600; Cost: 0.47835929386095877\n",
      "Iteration: 650; Cost: 0.4745018364530235\n",
      "Iteration: 700; Cost: 0.47119216315367535\n",
      "Iteration: 750; Cost: 0.46833560654750417\n",
      "Iteration: 800; Cost: 0.46585673815912343\n",
      "Iteration: 850; Cost: 0.4636949254889313\n",
      "Iteration: 900; Cost: 0.46180102406535134\n",
      "Iteration: 950; Cost: 0.4601348900251695\n",
      "Iteration: 1000; Cost: 0.45866349186179883\n",
      "Iteration: 1050; Cost: 0.4573594639794778\n",
      "Iteration: 1100; Cost: 0.45619998908678006\n",
      "Iteration: 1150; Cost: 0.45516592755603474\n",
      "Iteration: 1200; Cost: 0.4542411338604277\n",
      "Iteration: 1250; Cost: 0.45341191589149576\n",
      "Iteration: 1300; Cost: 0.452666604260488\n",
      "Iteration: 1350; Cost: 0.45199520689758915\n",
      "Iteration: 1400; Cost: 0.4513891302788476\n",
      "Iteration: 1450; Cost: 0.4508409530542972\n",
      "Iteration: 1500; Cost: 0.4503442411587142\n",
      "Iteration: 1550; Cost: 0.4498933959674025\n",
      "Iteration: 1600; Cost: 0.44948352893347066\n",
      "Iteration: 1650; Cost: 0.44911035756847667\n",
      "Iteration: 1700; Cost: 0.4487701187196662\n",
      "Iteration: 1750; Cost: 0.4484594959379279\n",
      "Iteration: 1800; Cost: 0.44817555838249107\n",
      "Iteration: 1850; Cost: 0.4479157092167537\n",
      "Iteration: 1900; Cost: 0.44767764184830694\n",
      "Iteration: 1950; Cost: 0.4474593026806001\n",
      "Iteration: 2000; Cost: 0.4472588592928966\n",
      "Iteration: 2050; Cost: 0.4470746731637234\n",
      "Iteration: 2100; Cost: 0.4469052762119828\n",
      "Iteration: 2150; Cost: 0.4467493505577784\n",
      "Iteration: 2200; Cost: 0.4466057110083379\n",
      "Iteration: 2250; Cost: 0.4464732898582972\n",
      "Iteration: 2300; Cost: 0.4463511236619634\n",
      "Iteration: 2350; Cost: 0.4462383416911329\n",
      "Iteration: 2400; Cost: 0.4461341558380054\n",
      "Iteration: 2450; Cost: 0.44603785176064686\n",
      "Iteration: 2500; Cost: 0.44594878109984315\n",
      "Iteration: 2550; Cost: 0.4458663546222511\n",
      "Iteration: 2600; Cost: 0.4457900361664872\n",
      "Iteration: 2650; Cost: 0.4457193372869628\n",
      "Iteration: 2700; Cost: 0.4456538125055228\n",
      "Iteration: 2750; Cost: 0.44559305509376995\n",
      "Iteration: 2800; Cost: 0.44553669331978407\n",
      "Iteration: 2850; Cost: 0.4454843871021081\n",
      "Iteration: 2900; Cost: 0.44543582502165213\n",
      "Iteration: 2950; Cost: 0.44539072164878063\n",
      "Iteration: 3000; Cost: 0.44534881514849667\n",
      "Iteration: 3050; Cost: 0.44530986513146625\n",
      "Iteration: 3100; Cost: 0.44527365072276526\n",
      "Iteration: 3150; Cost: 0.4452399688237903\n",
      "Iteration: 3200; Cost: 0.44520863254583976\n",
      "Iteration: 3250; Cost: 0.445179469796517\n",
      "Iteration: 3300; Cost: 0.4451523220023955\n",
      "Iteration: 3350; Cost: 0.4451270429533725\n",
      "Iteration: 3400; Cost: 0.44510349775585756\n",
      "Iteration: 3450; Cost: 0.44508156188344555\n",
      "Iteration: 3500; Cost: 0.4450611203150309\n",
      "Iteration: 3550; Cost: 0.4450420667514612\n",
      "Iteration: 3600; Cost: 0.44502430290283024\n",
      "Iteration: 3650; Cost: 0.44500773783938774\n",
      "Iteration: 3700; Cost: 0.444992287399811\n",
      "Iteration: 3750; Cost: 0.44497787365126323\n",
      "Iteration: 3800; Cost: 0.44496442439626094\n",
      "Iteration: 3850; Cost: 0.4449518727218956\n",
      "Iteration: 3900; Cost: 0.4449401565874275\n",
      "Iteration: 3950; Cost: 0.4449292184466757\n",
      "Iteration: 4000; Cost: 0.4449190049019954\n",
      "Iteration: 4050; Cost: 0.44490946638696305\n",
      "Iteration: 4100; Cost: 0.44490055687516933\n",
      "Iteration: 4150; Cost: 0.44489223361278746\n",
      "Iteration: 4200; Cost: 0.44488445687280387\n",
      "Iteration: 4250; Cost: 0.44487718972901047\n",
      "Iteration: 4300; Cost: 0.44487039784803467\n",
      "Iteration: 4350; Cost: 0.44486404929785217\n",
      "Iteration: 4400; Cost: 0.4448581143713689\n",
      "Iteration: 4450; Cost: 0.4448525654237947\n",
      "Iteration: 4500; Cost: 0.44484737672264696\n",
      "Iteration: 4550; Cost: 0.444842524309329\n",
      "Iteration: 4600; Cost: 0.4448379858713231\n",
      "Iteration: 4650; Cost: 0.4448337406241278\n",
      "Iteration: 4700; Cost: 0.44482976920214007\n",
      "Iteration: 4750; Cost: 0.4448260535577615\n",
      "Iteration: 4800; Cost: 0.44482257686806254\n",
      "Iteration: 4850; Cost: 0.44481932344840547\n",
      "Iteration: 4900; Cost: 0.4448162786724682\n",
      "Iteration: 4950; Cost: 0.4448134288981698\n",
      "Iteration: 5000; Cost: 0.44481076139903125\n",
      "Iteration: 5050; Cost: 0.44480826430054976\n",
      "Iteration: 5100; Cost: 0.444805926521199\n",
      "Iteration: 5150; Cost: 0.4448037377176987\n",
      "Iteration: 5200; Cost: 0.4448016882342275\n",
      "Iteration: 5250; Cost: 0.4447997690552788\n",
      "Iteration: 5300; Cost: 0.444797971761885\n",
      "Iteration: 5350; Cost: 0.4447962884909557\n",
      "Iteration: 5400; Cost: 0.44479471189749664\n",
      "Iteration: 5450; Cost: 0.44479323511949753\n",
      "Iteration: 5500; Cost: 0.44479185174528674\n",
      "Iteration: 5550; Cost: 0.44479055578317533\n",
      "Iteration: 5600; Cost: 0.44478934163321915\n",
      "Iteration: 5650; Cost: 0.4447882040609469\n",
      "Iteration: 5700; Cost: 0.444787138172909\n",
      "Iteration: 5750; Cost: 0.44478613939391703\n",
      "Iteration: 5800; Cost: 0.4447852034458515\n",
      "Iteration: 5850; Cost: 0.4447843263279246\n",
      "Iteration: 5900; Cost: 0.44478350429829533\n",
      "Iteration: 5950; Cost: 0.44478273385693945\n",
      "Iteration: 6000; Cost: 0.4447820117296858\n",
      "Iteration: 6050; Cost: 0.44478133485333665\n",
      "Iteration: 6100; Cost: 0.4447807003617957\n",
      "Iteration: 6150; Cost: 0.4447801055731321\n",
      "Iteration: 6200; Cost: 0.4447795479775175\n",
      "Iteration: 6250; Cost: 0.44477902522597185\n",
      "Iteration: 6300; Cost: 0.4447785351198648\n",
      "Iteration: 6350; Cost: 0.4447780756011188\n",
      "Iteration: 6400; Cost: 0.4447776447430661\n",
      "Iteration: 6450; Cost: 0.44477724074191366\n",
      "Iteration: 6500; Cost: 0.4447768619087758\n",
      "Iteration: 6550; Cost: 0.44477650666223517\n",
      "Iteration: 6600; Cost: 0.4447761735213944\n",
      "Iteration: 6650; Cost: 0.44477586109938866\n",
      "Iteration: 6700; Cost: 0.44477556809732255\n",
      "Iteration: 6750; Cost: 0.44477529329860954\n",
      "Iteration: 6800; Cost: 0.4447750355636797\n",
      "Iteration: 6850; Cost: 0.4447747938250352\n",
      "Iteration: 6900; Cost: 0.44477456708263063\n",
      "Iteration: 6950; Cost: 0.4447743543995522\n",
      "Iteration: 7000; Cost: 0.4447741548979811\n",
      "Iteration: 7050; Cost: 0.44477396775541794\n",
      "Iteration: 7100; Cost: 0.4447737922011533\n",
      "Iteration: 7150; Cost: 0.44477362751296684\n",
      "Iteration: 7200; Cost: 0.4447734730140401\n",
      "Iteration: 7250; Cost: 0.4447733280700694\n",
      "Iteration: 7300; Cost: 0.4447731920865651\n",
      "Iteration: 7350; Cost: 0.4447730645063245\n",
      "Iteration: 7400; Cost: 0.444772944807068\n",
      "Iteration: 7450; Cost: 0.44477283249922733\n",
      "Iteration: 7500; Cost: 0.4447727271238752\n",
      "Iteration: 7550; Cost: 0.4447726282507889\n",
      "Iteration: 7600; Cost: 0.4447725354766364\n",
      "Iteration: 7650; Cost: 0.4447724484232801\n",
      "Iteration: 7700; Cost: 0.44477236673618814\n",
      "Iteration: 7750; Cost: 0.44477229008294683\n",
      "Iteration: 7800; Cost: 0.44477221815186896\n",
      "Iteration: 7850; Cost: 0.4447721506506899\n",
      "Iteration: 7900; Cost: 0.4447720873053468\n",
      "Iteration: 7950; Cost: 0.4447720278588359\n",
      "Iteration: 8000; Cost: 0.44477197207014185\n",
      "Iteration: 8050; Cost: 0.444771919713235\n",
      "Iteration: 8100; Cost: 0.44477187057613243\n",
      "Iteration: 8150; Cost: 0.44477182446001867\n",
      "Iteration: 8200; Cost: 0.44477178117842137\n",
      "Iteration: 8250; Cost: 0.44477174055643925\n",
      "Iteration: 8300; Cost: 0.4447717024300197\n",
      "Iteration: 8350; Cost: 0.44477166664528034\n",
      "Iteration: 8400; Cost: 0.44477163305787504\n",
      "Iteration: 8450; Cost: 0.44477160153239853\n",
      "Iteration: 8500; Cost: 0.4447715719418289\n",
      "Iteration: 8550; Cost: 0.44477154416700593\n",
      "Iteration: 8600; Cost: 0.4447715180961409\n",
      "Iteration: 8650; Cost: 0.4447714936243578\n",
      "Iteration: 8700; Cost: 0.444771470653264\n",
      "Iteration: 8750; Cost: 0.4447714490905463\n",
      "Iteration: 8800; Cost: 0.4447714288495938\n",
      "Iteration: 8850; Cost: 0.44477140984914326\n",
      "Iteration: 8900; Cost: 0.4447713920129476\n",
      "Iteration: 8950; Cost: 0.44477137526946403\n",
      "Iteration: 9000; Cost: 0.44477135955156305\n",
      "Iteration: 9050; Cost: 0.4447713447962543\n",
      "Iteration: 9100; Cost: 0.44477133094443017\n",
      "Iteration: 9150; Cost: 0.44477131794062535\n",
      "Iteration: 9200; Cost: 0.4447713057327916\n",
      "Iteration: 9250; Cost: 0.44477129427208556\n",
      "Iteration: 9300; Cost: 0.4447712835126714\n",
      "Iteration: 9350; Cost: 0.44477127341153433\n",
      "Iteration: 9400; Cost: 0.4447712639283059\n",
      "Iteration: 9450; Cost: 0.4447712550251015\n",
      "Iteration: 9500; Cost: 0.4447712466663658\n",
      "Iteration: 9550; Cost: 0.4447712388187298\n",
      "Iteration: 9600; Cost: 0.4447712314508752\n",
      "Iteration: 9650; Cost: 0.4447712245334085\n"
     ]
    },
    {
     "name": "stdout",
     "output_type": "stream",
     "text": [
      "Iteration: 9700; Cost: 0.44477121803874164\n",
      "Iteration: 9750; Cost: 0.44477121194098146\n",
      "Iteration: 9800; Cost: 0.44477120621582444\n",
      "Iteration: 9850; Cost: 0.44477120084045896\n",
      "Iteration: 9900; Cost: 0.44477119579347396\n",
      "Iteration: 9950; Cost: 0.44477119105477186\n"
     ]
    },
    {
     "data": {
      "image/png": "[encoded data removed]",
      "text/plain": [
       "<Figure size 432x288 with 1 Axes>"
      ]
     },
     "metadata": {
      "needs_background": "light"
     },
     "output_type": "display_data"
    }
   ],
   "source": [
    "w, b = gradient_descent(X, Y)"
   ]
  },
  {
   "cell_type": "code",
   "execution_count": 56,
   "id": "62ab8cdd",
   "metadata": {},
   "outputs": [],
   "source": [
    "test = pd.read_csv('test.csv')"
   ]
  },
  {
   "cell_type": "code",
   "execution_count": 57,
   "id": "da9a5989",
   "metadata": {},
   "outputs": [
    {
     "data": {
      "text/html": [
       "<div>\n",
       "<style scoped>\n",
       "    .dataframe tbody tr th:only-of-type {\n",
       "        vertical-align: middle;\n",
       "    }\n",
       "\n",
       "    .dataframe tbody tr th {\n",
       "        vertical-align: top;\n",
       "    }\n",
       "\n",
       "    .dataframe thead th {\n",
       "        text-align: right;\n",
       "    }\n",
       "</style>\n",
       "<table border=\"1\" class=\"dataframe\">\n",
       "  <thead>\n",
       "    <tr style=\"text-align: right;\">\n",
       "      <th></th>\n",
       "      <th>PassengerId</th>\n",
       "      <th>Pclass</th>\n",
       "      <th>Name</th>\n",
       "      <th>Sex</th>\n",
       "      <th>Age</th>\n",
       "      <th>SibSp</th>\n",
       "      <th>Parch</th>\n",
       "      <th>Ticket</th>\n",
       "      <th>Fare</th>\n",
       "      <th>Cabin</th>\n",
       "      <th>Embarked</th>\n",
       "    </tr>\n",
       "  </thead>\n",
       "  <tbody>\n",
       "    <tr>\n",
       "      <th>0</th>\n",
       "      <td>892</td>\n",
       "      <td>3</td>\n",
       "      <td>Kelly, Mr. James</td>\n",
       "      <td>male</td>\n",
       "      <td>34.5</td>\n",
       "      <td>0</td>\n",
       "      <td>0</td>\n",
       "      <td>330911</td>\n",
       "      <td>7.8292</td>\n",
       "      <td>NaN</td>\n",
       "      <td>Q</td>\n",
       "    </tr>\n",
       "    <tr>\n",
       "      <th>1</th>\n",
       "      <td>893</td>\n",
       "      <td>3</td>\n",
       "      <td>Wilkes, Mrs. James (Ellen Needs)</td>\n",
       "      <td>female</td>\n",
       "      <td>47.0</td>\n",
       "      <td>1</td>\n",
       "      <td>0</td>\n",
       "      <td>363272</td>\n",
       "      <td>7.0000</td>\n",
       "      <td>NaN</td>\n",
       "      <td>S</td>\n",
       "    </tr>\n",
       "    <tr>\n",
       "      <th>2</th>\n",
       "      <td>894</td>\n",
       "      <td>2</td>\n",
       "      <td>Myles, Mr. Thomas Francis</td>\n",
       "      <td>male</td>\n",
       "      <td>62.0</td>\n",
       "      <td>0</td>\n",
       "      <td>0</td>\n",
       "      <td>240276</td>\n",
       "      <td>9.6875</td>\n",
       "      <td>NaN</td>\n",
       "      <td>Q</td>\n",
       "    </tr>\n",
       "    <tr>\n",
       "      <th>3</th>\n",
       "      <td>895</td>\n",
       "      <td>3</td>\n",
       "      <td>Wirz, Mr. Albert</td>\n",
       "      <td>male</td>\n",
       "      <td>27.0</td>\n",
       "      <td>0</td>\n",
       "      <td>0</td>\n",
       "      <td>315154</td>\n",
       "      <td>8.6625</td>\n",
       "      <td>NaN</td>\n",
       "      <td>S</td>\n",
       "    </tr>\n",
       "    <tr>\n",
       "      <th>4</th>\n",
       "      <td>896</td>\n",
       "      <td>3</td>\n",
       "      <td>Hirvonen, Mrs. Alexander (Helga E Lindqvist)</td>\n",
       "      <td>female</td>\n",
       "      <td>22.0</td>\n",
       "      <td>1</td>\n",
       "      <td>1</td>\n",
       "      <td>3101298</td>\n",
       "      <td>12.2875</td>\n",
       "      <td>NaN</td>\n",
       "      <td>S</td>\n",
       "    </tr>\n",
       "  </tbody>\n",
       "</table>\n",
       "</div>"
      ],
      "text/plain": [
       "   PassengerId  Pclass                                          Name     Sex  \\\n",
       "0          892       3                              Kelly, Mr. James    male   \n",
       "1          893       3              Wilkes, Mrs. James (Ellen Needs)  female   \n",
       "2          894       2                     Myles, Mr. Thomas Francis    male   \n",
       "3          895       3                              Wirz, Mr. Albert    male   \n",
       "4          896       3  Hirvonen, Mrs. Alexander (Helga E Lindqvist)  female   \n",
       "\n",
       "    Age  SibSp  Parch   Ticket     Fare Cabin Embarked  \n",
       "0  34.5      0      0   330911   7.8292   NaN        Q  \n",
       "1  47.0      1      0   363272   7.0000   NaN        S  \n",
       "2  62.0      0      0   240276   9.6875   NaN        Q  \n",
       "3  27.0      0      0   315154   8.6625   NaN        S  \n",
       "4  22.0      1      1  3101298  12.2875   NaN        S  "
      ]
     },
     "execution_count": 57,
     "metadata": {},
     "output_type": "execute_result"
    }
   ],
   "source": [
    "test.head()"
   ]
  },
  {
   "cell_type": "code",
   "execution_count": 58,
   "id": "e6146462",
   "metadata": {},
   "outputs": [],
   "source": [
    "PassengerId = np.array(test['PassengerId'])"
   ]
  },
  {
   "cell_type": "code",
   "execution_count": 59,
   "id": "c30cb1a3",
   "metadata": {},
   "outputs": [],
   "source": [
    "test['Age'].replace({\n",
    "    np.nan : np.sum(test['Age']) / test.shape[0]\n",
    "}, inplace=True)"
   ]
  },
  {
   "cell_type": "code",
   "execution_count": 60,
   "id": "7f40496f",
   "metadata": {},
   "outputs": [
    {
     "data": {
      "text/plain": [
       "array([34.5       , 47.        , 62.        , 27.        , 22.        ,\n",
       "       14.        , 30.        , 26.        , 18.        , 21.        ,\n",
       "       24.04425837, 46.        , 23.        , 63.        , 24.        ,\n",
       "       35.        , 45.        , 55.        ,  9.        , 48.        ,\n",
       "       50.        , 22.5       , 41.        , 33.        , 18.5       ,\n",
       "       25.        , 39.        , 60.        , 36.        , 20.        ,\n",
       "       28.        , 10.        , 17.        , 32.        , 13.        ,\n",
       "       31.        , 29.        , 28.5       , 32.5       ,  6.        ,\n",
       "       67.        , 49.        ,  2.        , 76.        , 43.        ,\n",
       "       16.        ,  1.        , 12.        , 42.        , 53.        ,\n",
       "       26.5       , 40.        , 61.        , 60.5       ,  7.        ,\n",
       "       15.        , 54.        , 64.        , 37.        , 34.        ,\n",
       "       11.5       ,  8.        ,  0.33      , 38.        , 57.        ,\n",
       "       40.5       ,  0.92      , 19.        , 36.5       ,  0.75      ,\n",
       "        0.83      , 58.        ,  0.17      , 59.        , 14.5       ,\n",
       "       44.        ,  5.        , 51.        ,  3.        , 38.5       ])"
      ]
     },
     "execution_count": 60,
     "metadata": {},
     "output_type": "execute_result"
    }
   ],
   "source": [
    "test['Age'].unique()"
   ]
  },
  {
   "cell_type": "code",
   "execution_count": 62,
   "id": "5f95b5e3",
   "metadata": {},
   "outputs": [],
   "source": [
    "test['Sex'].replace({\n",
    "    'male' : 1,\n",
    "    'female' : 0\n",
    "}, inplace=True)"
   ]
  },
  {
   "cell_type": "code",
   "execution_count": 63,
   "id": "be2b57ca",
   "metadata": {},
   "outputs": [
    {
     "data": {
      "text/plain": [
       "array([1, 0], dtype=int64)"
      ]
     },
     "execution_count": 63,
     "metadata": {},
     "output_type": "execute_result"
    }
   ],
   "source": [
    "test['Sex'].unique()"
   ]
  },
  {
   "cell_type": "code",
   "execution_count": 64,
   "id": "24f6ff35",
   "metadata": {},
   "outputs": [
    {
     "data": {
      "text/plain": [
       "array([0, 1, 2, 3, 4, 5, 8], dtype=int64)"
      ]
     },
     "execution_count": 64,
     "metadata": {},
     "output_type": "execute_result"
    }
   ],
   "source": [
    "test['SibSp'].unique()"
   ]
  },
  {
   "cell_type": "code",
   "execution_count": 65,
   "id": "f9ed53fe",
   "metadata": {},
   "outputs": [
    {
     "data": {
      "text/plain": [
       "array([0, 1, 3, 2, 4, 6, 5, 9], dtype=int64)"
      ]
     },
     "execution_count": 65,
     "metadata": {},
     "output_type": "execute_result"
    }
   ],
   "source": [
    "test['Parch'].unique()"
   ]
  },
  {
   "cell_type": "code",
   "execution_count": 66,
   "id": "6c3b81b4",
   "metadata": {},
   "outputs": [],
   "source": [
    "X_test = np.array(test[['Pclass', 'Sex', 'Age', 'SibSp', 'Parch']])"
   ]
  },
  {
   "cell_type": "code",
   "execution_count": 75,
   "id": "a0eaa131",
   "metadata": {},
   "outputs": [
    {
     "data": {
      "text/plain": [
       "(418, 5)"
      ]
     },
     "execution_count": 75,
     "metadata": {},
     "output_type": "execute_result"
    }
   ],
   "source": [
    "X_test.shape"
   ]
  },
  {
   "cell_type": "code",
   "execution_count": 77,
   "id": "1b13b023",
   "metadata": {},
   "outputs": [],
   "source": [
    "# Predicting the training dataset\n",
    "output_train = []\n",
    "for i in range(X.shape[0]):\n",
    "    value = sigmoid(np.dot(X[i], w) + b)\n",
    "    if value >= 0.65:\n",
    "        output_train.append(1)\n",
    "    else:\n",
    "        output_train.append(0)"
   ]
  },
  {
   "cell_type": "code",
   "execution_count": 81,
   "id": "962bd32e",
   "metadata": {},
   "outputs": [],
   "source": [
    "count_train = 0\n",
    "for i in range(Y.shape[0]):\n",
    "    if output_train[i] != Y[i]:\n",
    "        count_train += 1"
   ]
  },
  {
   "cell_type": "code",
   "execution_count": 82,
   "id": "b192489c",
   "metadata": {},
   "outputs": [
    {
     "data": {
      "text/plain": [
       "168"
      ]
     },
     "execution_count": 82,
     "metadata": {},
     "output_type": "execute_result"
    }
   ],
   "source": [
    "count_train"
   ]
  },
  {
   "cell_type": "code",
   "execution_count": 83,
   "id": "1160d06a",
   "metadata": {},
   "outputs": [
    {
     "data": {
      "text/plain": [
       "81.14478114478115"
      ]
     },
     "execution_count": 83,
     "metadata": {},
     "output_type": "execute_result"
    }
   ],
   "source": [
    "# Finding the accuracy for the training dataset\n",
    "((X.shape[0]-count_train) / X.shape[0]) * 100"
   ]
  },
  {
   "cell_type": "code",
   "execution_count": 87,
   "id": "6b7af558",
   "metadata": {},
   "outputs": [],
   "source": [
    "mu_X_test = np.mean(X_test, axis=0)\n",
    "sigma_X_test = np.std(X_test, axis=0)\n",
    "X_test = (X_test - mu_X_test) / sigma_X_test"
   ]
  },
  {
   "cell_type": "code",
   "execution_count": 89,
   "id": "38ca80e6",
   "metadata": {},
   "outputs": [],
   "source": [
    "output_test = []\n",
    "for i in range(X_test.shape[0]):\n",
    "    value_test = sigmoid(np.dot(X_test[i], w) + b)\n",
    "    if value_test >= 0.65:\n",
    "        output_test.append(1)\n",
    "    else:\n",
    "        output_test.append(0)"
   ]
  },
  {
   "cell_type": "code",
   "execution_count": 95,
   "id": "035b48f6",
   "metadata": {},
   "outputs": [],
   "source": [
    "output_test = np.array(output_test)"
   ]
  },
  {
   "cell_type": "code",
   "execution_count": 96,
   "id": "542efbf3",
   "metadata": {},
   "outputs": [
    {
     "data": {
      "text/plain": [
       "(418,)"
      ]
     },
     "execution_count": 96,
     "metadata": {},
     "output_type": "execute_result"
    }
   ],
   "source": [
    "output_test.shape"
   ]
  },
  {
   "cell_type": "code",
   "execution_count": 97,
   "id": "b8e4bc05",
   "metadata": {},
   "outputs": [],
   "source": [
    "final_df = pd.DataFrame([PassengerId, output_test])"
   ]
  },
  {
   "cell_type": "code",
   "execution_count": 99,
   "id": "71ab7829",
   "metadata": {},
   "outputs": [],
   "source": [
    "final_df = final_df.T"
   ]
  },
  {
   "cell_type": "code",
   "execution_count": 102,
   "id": "fdb02465",
   "metadata": {},
   "outputs": [],
   "source": [
    "final_df.rename(columns = {0:'PassengerId', 1:'Survived'}, inplace = True)"
   ]
  },
  {
   "cell_type": "code",
   "execution_count": 103,
   "id": "78cfebe3",
   "metadata": {},
   "outputs": [
    {
     "data": {
      "text/html": [
       "<div>\n",
       "<style scoped>\n",
       "    .dataframe tbody tr th:only-of-type {\n",
       "        vertical-align: middle;\n",
       "    }\n",
       "\n",
       "    .dataframe tbody tr th {\n",
       "        vertical-align: top;\n",
       "    }\n",
       "\n",
       "    .dataframe thead th {\n",
       "        text-align: right;\n",
       "    }\n",
       "</style>\n",
       "<table border=\"1\" class=\"dataframe\">\n",
       "  <thead>\n",
       "    <tr style=\"text-align: right;\">\n",
       "      <th></th>\n",
       "      <th>PassengerId</th>\n",
       "      <th>Survived</th>\n",
       "    </tr>\n",
       "  </thead>\n",
       "  <tbody>\n",
       "    <tr>\n",
       "      <th>0</th>\n",
       "      <td>892</td>\n",
       "      <td>0</td>\n",
       "    </tr>\n",
       "    <tr>\n",
       "      <th>1</th>\n",
       "      <td>893</td>\n",
       "      <td>0</td>\n",
       "    </tr>\n",
       "    <tr>\n",
       "      <th>2</th>\n",
       "      <td>894</td>\n",
       "      <td>0</td>\n",
       "    </tr>\n",
       "    <tr>\n",
       "      <th>3</th>\n",
       "      <td>895</td>\n",
       "      <td>0</td>\n",
       "    </tr>\n",
       "    <tr>\n",
       "      <th>4</th>\n",
       "      <td>896</td>\n",
       "      <td>0</td>\n",
       "    </tr>\n",
       "    <tr>\n",
       "      <th>...</th>\n",
       "      <td>...</td>\n",
       "      <td>...</td>\n",
       "    </tr>\n",
       "    <tr>\n",
       "      <th>413</th>\n",
       "      <td>1305</td>\n",
       "      <td>0</td>\n",
       "    </tr>\n",
       "    <tr>\n",
       "      <th>414</th>\n",
       "      <td>1306</td>\n",
       "      <td>1</td>\n",
       "    </tr>\n",
       "    <tr>\n",
       "      <th>415</th>\n",
       "      <td>1307</td>\n",
       "      <td>0</td>\n",
       "    </tr>\n",
       "    <tr>\n",
       "      <th>416</th>\n",
       "      <td>1308</td>\n",
       "      <td>0</td>\n",
       "    </tr>\n",
       "    <tr>\n",
       "      <th>417</th>\n",
       "      <td>1309</td>\n",
       "      <td>0</td>\n",
       "    </tr>\n",
       "  </tbody>\n",
       "</table>\n",
       "<p>418 rows × 2 columns</p>\n",
       "</div>"
      ],
      "text/plain": [
       "     PassengerId  Survived\n",
       "0            892         0\n",
       "1            893         0\n",
       "2            894         0\n",
       "3            895         0\n",
       "4            896         0\n",
       "..           ...       ...\n",
       "413         1305         0\n",
       "414         1306         1\n",
       "415         1307         0\n",
       "416         1308         0\n",
       "417         1309         0\n",
       "\n",
       "[418 rows x 2 columns]"
      ]
     },
     "execution_count": 103,
     "metadata": {},
     "output_type": "execute_result"
    }
   ],
   "source": [
    "final_df"
   ]
  },
  {
   "cell_type": "code",
   "execution_count": 104,
   "id": "90bf2717",
   "metadata": {},
   "outputs": [],
   "source": [
    "final_df.to_csv('gender_submission.csv', index=False)"
   ]
  },
  {
   "cell_type": "code",
   "execution_count": null,
   "id": "f72c821a",
   "metadata": {},
   "outputs": [],
   "source": []
  }
 ],
 "metadata": {
  "kernelspec": {
   "display_name": "Python 3 (ipykernel)",
   "language": "python",
   "name": "python3"
  },
  "language_info": {
   "codemirror_mode": {
    "name": "ipython",
    "version": 3
   },
   "file_extension": ".py",
   "mimetype": "text/x-python",
   "name": "python",
   "nbconvert_exporter": "python",
   "pygments_lexer": "ipython3",
   "version": "3.9.12"
  }
 },
 "nbformat": 4,
 "nbformat_minor": 5
}
