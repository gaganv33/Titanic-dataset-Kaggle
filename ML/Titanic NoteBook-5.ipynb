{
 "cells": [
  {
   "cell_type": "code",
   "execution_count": 66,
   "id": "825d1764",
   "metadata": {},
   "outputs": [],
   "source": [
    "import numpy as np\n",
    "import pandas as pd\n",
    "import seaborn as sns\n",
    "import matplotlib.pyplot as plt"
   ]
  },
  {
   "cell_type": "code",
   "execution_count": 67,
   "id": "7ad9783b",
   "metadata": {},
   "outputs": [],
   "source": [
    "train = pd.read_csv('train.csv')"
   ]
  },
  {
   "cell_type": "code",
   "execution_count": 68,
   "id": "9ae480c3",
   "metadata": {},
   "outputs": [],
   "source": [
    "train['Sex'].replace({\n",
    "    'male':1,\n",
    "    'female':0\n",
    "}, inplace=True)"
   ]
  },
  {
   "cell_type": "code",
   "execution_count": 69,
   "id": "e259fc49",
   "metadata": {},
   "outputs": [],
   "source": [
    "train['Age'].replace({\n",
    "    np.nan : np.sum(train['Age']) / train.shape[0]\n",
    "}, inplace=True)"
   ]
  },
  {
   "cell_type": "code",
   "execution_count": 70,
   "id": "526cbd5d",
   "metadata": {},
   "outputs": [
    {
     "data": {
      "text/plain": [
       "array([22.        , 38.        , 26.        , 35.        , 23.79929293,\n",
       "       54.        ,  2.        , 27.        , 14.        ,  4.        ,\n",
       "       58.        , 20.        , 39.        , 55.        , 31.        ,\n",
       "       34.        , 15.        , 28.        ,  8.        , 19.        ,\n",
       "       40.        , 66.        , 42.        , 21.        , 18.        ,\n",
       "        3.        ,  7.        , 49.        , 29.        , 65.        ,\n",
       "       28.5       ,  5.        , 11.        , 45.        , 17.        ,\n",
       "       32.        , 16.        , 25.        ,  0.83      , 30.        ,\n",
       "       33.        , 23.        , 24.        , 46.        , 59.        ,\n",
       "       71.        , 37.        , 47.        , 14.5       , 70.5       ,\n",
       "       32.5       , 12.        ,  9.        , 36.5       , 51.        ,\n",
       "       55.5       , 40.5       , 44.        ,  1.        , 61.        ,\n",
       "       56.        , 50.        , 36.        , 45.5       , 20.5       ,\n",
       "       62.        , 41.        , 52.        , 63.        , 23.5       ,\n",
       "        0.92      , 43.        , 60.        , 10.        , 64.        ,\n",
       "       13.        , 48.        ,  0.75      , 53.        , 57.        ,\n",
       "       80.        , 70.        , 24.5       ,  6.        ,  0.67      ,\n",
       "       30.5       ,  0.42      , 34.5       , 74.        ])"
      ]
     },
     "execution_count": 70,
     "metadata": {},
     "output_type": "execute_result"
    }
   ],
   "source": [
    "train['Age'].unique()"
   ]
  },
  {
   "cell_type": "code",
   "execution_count": 71,
   "id": "9d2907b7",
   "metadata": {},
   "outputs": [
    {
     "data": {
      "text/plain": [
       "PassengerId      0\n",
       "Survived         0\n",
       "Pclass           0\n",
       "Name             0\n",
       "Sex              0\n",
       "Age              0\n",
       "SibSp            0\n",
       "Parch            0\n",
       "Ticket           0\n",
       "Fare             0\n",
       "Cabin          687\n",
       "Embarked         2\n",
       "dtype: int64"
      ]
     },
     "execution_count": 71,
     "metadata": {},
     "output_type": "execute_result"
    }
   ],
   "source": [
    "train.isnull().sum()"
   ]
  },
  {
   "cell_type": "code",
   "execution_count": 72,
   "id": "c1e5a190",
   "metadata": {},
   "outputs": [
    {
     "data": {
      "text/html": [
       "<div>\n",
       "<style scoped>\n",
       "    .dataframe tbody tr th:only-of-type {\n",
       "        vertical-align: middle;\n",
       "    }\n",
       "\n",
       "    .dataframe tbody tr th {\n",
       "        vertical-align: top;\n",
       "    }\n",
       "\n",
       "    .dataframe thead th {\n",
       "        text-align: right;\n",
       "    }\n",
       "</style>\n",
       "<table border=\"1\" class=\"dataframe\">\n",
       "  <thead>\n",
       "    <tr style=\"text-align: right;\">\n",
       "      <th></th>\n",
       "      <th>PassengerId</th>\n",
       "      <th>Survived</th>\n",
       "      <th>Pclass</th>\n",
       "      <th>Sex</th>\n",
       "      <th>Age</th>\n",
       "      <th>SibSp</th>\n",
       "      <th>Parch</th>\n",
       "      <th>Fare</th>\n",
       "    </tr>\n",
       "  </thead>\n",
       "  <tbody>\n",
       "    <tr>\n",
       "      <th>count</th>\n",
       "      <td>891.000000</td>\n",
       "      <td>891.000000</td>\n",
       "      <td>891.000000</td>\n",
       "      <td>891.000000</td>\n",
       "      <td>891.000000</td>\n",
       "      <td>891.000000</td>\n",
       "      <td>891.000000</td>\n",
       "      <td>891.000000</td>\n",
       "    </tr>\n",
       "    <tr>\n",
       "      <th>mean</th>\n",
       "      <td>446.000000</td>\n",
       "      <td>0.383838</td>\n",
       "      <td>2.308642</td>\n",
       "      <td>0.647587</td>\n",
       "      <td>28.527099</td>\n",
       "      <td>0.523008</td>\n",
       "      <td>0.381594</td>\n",
       "      <td>32.204208</td>\n",
       "    </tr>\n",
       "    <tr>\n",
       "      <th>std</th>\n",
       "      <td>257.353842</td>\n",
       "      <td>0.486592</td>\n",
       "      <td>0.836071</td>\n",
       "      <td>0.477990</td>\n",
       "      <td>13.213618</td>\n",
       "      <td>1.102743</td>\n",
       "      <td>0.806057</td>\n",
       "      <td>49.693429</td>\n",
       "    </tr>\n",
       "    <tr>\n",
       "      <th>min</th>\n",
       "      <td>1.000000</td>\n",
       "      <td>0.000000</td>\n",
       "      <td>1.000000</td>\n",
       "      <td>0.000000</td>\n",
       "      <td>0.420000</td>\n",
       "      <td>0.000000</td>\n",
       "      <td>0.000000</td>\n",
       "      <td>0.000000</td>\n",
       "    </tr>\n",
       "    <tr>\n",
       "      <th>25%</th>\n",
       "      <td>223.500000</td>\n",
       "      <td>0.000000</td>\n",
       "      <td>2.000000</td>\n",
       "      <td>0.000000</td>\n",
       "      <td>22.000000</td>\n",
       "      <td>0.000000</td>\n",
       "      <td>0.000000</td>\n",
       "      <td>7.910400</td>\n",
       "    </tr>\n",
       "    <tr>\n",
       "      <th>50%</th>\n",
       "      <td>446.000000</td>\n",
       "      <td>0.000000</td>\n",
       "      <td>3.000000</td>\n",
       "      <td>1.000000</td>\n",
       "      <td>24.000000</td>\n",
       "      <td>0.000000</td>\n",
       "      <td>0.000000</td>\n",
       "      <td>14.454200</td>\n",
       "    </tr>\n",
       "    <tr>\n",
       "      <th>75%</th>\n",
       "      <td>668.500000</td>\n",
       "      <td>1.000000</td>\n",
       "      <td>3.000000</td>\n",
       "      <td>1.000000</td>\n",
       "      <td>35.000000</td>\n",
       "      <td>1.000000</td>\n",
       "      <td>0.000000</td>\n",
       "      <td>31.000000</td>\n",
       "    </tr>\n",
       "    <tr>\n",
       "      <th>max</th>\n",
       "      <td>891.000000</td>\n",
       "      <td>1.000000</td>\n",
       "      <td>3.000000</td>\n",
       "      <td>1.000000</td>\n",
       "      <td>80.000000</td>\n",
       "      <td>8.000000</td>\n",
       "      <td>6.000000</td>\n",
       "      <td>512.329200</td>\n",
       "    </tr>\n",
       "  </tbody>\n",
       "</table>\n",
       "</div>"
      ],
      "text/plain": [
       "       PassengerId    Survived      Pclass         Sex         Age  \\\n",
       "count   891.000000  891.000000  891.000000  891.000000  891.000000   \n",
       "mean    446.000000    0.383838    2.308642    0.647587   28.527099   \n",
       "std     257.353842    0.486592    0.836071    0.477990   13.213618   \n",
       "min       1.000000    0.000000    1.000000    0.000000    0.420000   \n",
       "25%     223.500000    0.000000    2.000000    0.000000   22.000000   \n",
       "50%     446.000000    0.000000    3.000000    1.000000   24.000000   \n",
       "75%     668.500000    1.000000    3.000000    1.000000   35.000000   \n",
       "max     891.000000    1.000000    3.000000    1.000000   80.000000   \n",
       "\n",
       "            SibSp       Parch        Fare  \n",
       "count  891.000000  891.000000  891.000000  \n",
       "mean     0.523008    0.381594   32.204208  \n",
       "std      1.102743    0.806057   49.693429  \n",
       "min      0.000000    0.000000    0.000000  \n",
       "25%      0.000000    0.000000    7.910400  \n",
       "50%      0.000000    0.000000   14.454200  \n",
       "75%      1.000000    0.000000   31.000000  \n",
       "max      8.000000    6.000000  512.329200  "
      ]
     },
     "execution_count": 72,
     "metadata": {},
     "output_type": "execute_result"
    }
   ],
   "source": [
    "train.describe()"
   ]
  },
  {
   "cell_type": "code",
   "execution_count": 73,
   "id": "f4a59458",
   "metadata": {},
   "outputs": [
    {
     "data": {
      "text/html": [
       "<div>\n",
       "<style scoped>\n",
       "    .dataframe tbody tr th:only-of-type {\n",
       "        vertical-align: middle;\n",
       "    }\n",
       "\n",
       "    .dataframe tbody tr th {\n",
       "        vertical-align: top;\n",
       "    }\n",
       "\n",
       "    .dataframe thead th {\n",
       "        text-align: right;\n",
       "    }\n",
       "</style>\n",
       "<table border=\"1\" class=\"dataframe\">\n",
       "  <thead>\n",
       "    <tr style=\"text-align: right;\">\n",
       "      <th></th>\n",
       "      <th>PassengerId</th>\n",
       "      <th>Survived</th>\n",
       "      <th>Pclass</th>\n",
       "      <th>Name</th>\n",
       "      <th>Sex</th>\n",
       "      <th>Age</th>\n",
       "      <th>SibSp</th>\n",
       "      <th>Parch</th>\n",
       "      <th>Ticket</th>\n",
       "      <th>Fare</th>\n",
       "      <th>Cabin</th>\n",
       "      <th>Embarked</th>\n",
       "    </tr>\n",
       "  </thead>\n",
       "  <tbody>\n",
       "    <tr>\n",
       "      <th>0</th>\n",
       "      <td>1</td>\n",
       "      <td>0</td>\n",
       "      <td>3</td>\n",
       "      <td>Braund, Mr. Owen Harris</td>\n",
       "      <td>1</td>\n",
       "      <td>22.0</td>\n",
       "      <td>1</td>\n",
       "      <td>0</td>\n",
       "      <td>A/5 21171</td>\n",
       "      <td>7.2500</td>\n",
       "      <td>NaN</td>\n",
       "      <td>S</td>\n",
       "    </tr>\n",
       "    <tr>\n",
       "      <th>1</th>\n",
       "      <td>2</td>\n",
       "      <td>1</td>\n",
       "      <td>1</td>\n",
       "      <td>Cumings, Mrs. John Bradley (Florence Briggs Th...</td>\n",
       "      <td>0</td>\n",
       "      <td>38.0</td>\n",
       "      <td>1</td>\n",
       "      <td>0</td>\n",
       "      <td>PC 17599</td>\n",
       "      <td>71.2833</td>\n",
       "      <td>C85</td>\n",
       "      <td>C</td>\n",
       "    </tr>\n",
       "    <tr>\n",
       "      <th>2</th>\n",
       "      <td>3</td>\n",
       "      <td>1</td>\n",
       "      <td>3</td>\n",
       "      <td>Heikkinen, Miss. Laina</td>\n",
       "      <td>0</td>\n",
       "      <td>26.0</td>\n",
       "      <td>0</td>\n",
       "      <td>0</td>\n",
       "      <td>STON/O2. 3101282</td>\n",
       "      <td>7.9250</td>\n",
       "      <td>NaN</td>\n",
       "      <td>S</td>\n",
       "    </tr>\n",
       "    <tr>\n",
       "      <th>3</th>\n",
       "      <td>4</td>\n",
       "      <td>1</td>\n",
       "      <td>1</td>\n",
       "      <td>Futrelle, Mrs. Jacques Heath (Lily May Peel)</td>\n",
       "      <td>0</td>\n",
       "      <td>35.0</td>\n",
       "      <td>1</td>\n",
       "      <td>0</td>\n",
       "      <td>113803</td>\n",
       "      <td>53.1000</td>\n",
       "      <td>C123</td>\n",
       "      <td>S</td>\n",
       "    </tr>\n",
       "    <tr>\n",
       "      <th>4</th>\n",
       "      <td>5</td>\n",
       "      <td>0</td>\n",
       "      <td>3</td>\n",
       "      <td>Allen, Mr. William Henry</td>\n",
       "      <td>1</td>\n",
       "      <td>35.0</td>\n",
       "      <td>0</td>\n",
       "      <td>0</td>\n",
       "      <td>373450</td>\n",
       "      <td>8.0500</td>\n",
       "      <td>NaN</td>\n",
       "      <td>S</td>\n",
       "    </tr>\n",
       "  </tbody>\n",
       "</table>\n",
       "</div>"
      ],
      "text/plain": [
       "   PassengerId  Survived  Pclass  \\\n",
       "0            1         0       3   \n",
       "1            2         1       1   \n",
       "2            3         1       3   \n",
       "3            4         1       1   \n",
       "4            5         0       3   \n",
       "\n",
       "                                                Name  Sex   Age  SibSp  Parch  \\\n",
       "0                            Braund, Mr. Owen Harris    1  22.0      1      0   \n",
       "1  Cumings, Mrs. John Bradley (Florence Briggs Th...    0  38.0      1      0   \n",
       "2                             Heikkinen, Miss. Laina    0  26.0      0      0   \n",
       "3       Futrelle, Mrs. Jacques Heath (Lily May Peel)    0  35.0      1      0   \n",
       "4                           Allen, Mr. William Henry    1  35.0      0      0   \n",
       "\n",
       "             Ticket     Fare Cabin Embarked  \n",
       "0         A/5 21171   7.2500   NaN        S  \n",
       "1          PC 17599  71.2833   C85        C  \n",
       "2  STON/O2. 3101282   7.9250   NaN        S  \n",
       "3            113803  53.1000  C123        S  \n",
       "4            373450   8.0500   NaN        S  "
      ]
     },
     "execution_count": 73,
     "metadata": {},
     "output_type": "execute_result"
    }
   ],
   "source": [
    "train.head()"
   ]
  },
  {
   "cell_type": "code",
   "execution_count": 74,
   "id": "e355a5b4",
   "metadata": {},
   "outputs": [
    {
     "data": {
      "image/png": "[encoded data removed]",
      "text/plain": [
       "<Figure size 432x288 with 1 Axes>"
      ]
     },
     "metadata": {
      "needs_background": "light"
     },
     "output_type": "display_data"
    }
   ],
   "source": [
    "sns.barplot(x=train['Sex'], y=train['Survived'])\n",
    "plt.show()"
   ]
  },
  {
   "cell_type": "code",
   "execution_count": 75,
   "id": "a50aff80",
   "metadata": {},
   "outputs": [
    {
     "data": {
      "image/png": "[encoded data removed]",
      "text/plain": [
       "<Figure size 432x288 with 1 Axes>"
      ]
     },
     "metadata": {
      "needs_background": "light"
     },
     "output_type": "display_data"
    }
   ],
   "source": [
    "sns.barplot(x=train['SibSp'], y=train['Survived'])\n",
    "plt.show()"
   ]
  },
  {
   "cell_type": "code",
   "execution_count": 76,
   "id": "fe89f785",
   "metadata": {},
   "outputs": [
    {
     "data": {
      "image/png": "[encoded data removed]",
      "text/plain": [
       "<Figure size 432x288 with 1 Axes>"
      ]
     },
     "metadata": {
      "needs_background": "light"
     },
     "output_type": "display_data"
    }
   ],
   "source": [
    "sns.barplot(x=train['Parch'], y=train['Survived'])\n",
    "plt.show()"
   ]
  },
  {
   "cell_type": "code",
   "execution_count": 77,
   "id": "f3e1fe34",
   "metadata": {},
   "outputs": [
    {
     "data": {
      "image/png": "[encoded data removed]",
      "text/plain": [
       "<Figure size 432x288 with 1 Axes>"
      ]
     },
     "metadata": {
      "needs_background": "light"
     },
     "output_type": "display_data"
    }
   ],
   "source": [
    "sns.barplot(x=train['Sex'], y=train['Fare'])\n",
    "plt.show()"
   ]
  },
  {
   "cell_type": "code",
   "execution_count": 78,
   "id": "3b6ec910",
   "metadata": {},
   "outputs": [],
   "source": [
    "def sigmoid(z):\n",
    "    g = 1.0 / (1 + np.exp(-z))\n",
    "    return g"
   ]
  },
  {
   "cell_type": "code",
   "execution_count": 79,
   "id": "0d1cee92",
   "metadata": {},
   "outputs": [],
   "source": [
    "def compute_cost(x, y, w, b, lambda_=0.001):\n",
    "    m, n = x.shape\n",
    "    z = np.dot(x, w) + b\n",
    "    f_wb = sigmoid(z)\n",
    "    \n",
    "    cost = (-(1.0 / m) * np.sum(y * np.log(f_wb) + (1 - y) * np.log(1 - f_wb))) + (lambda_/(2*m))*np.sum(np.square(w))\n",
    "    return cost"
   ]
  },
  {
   "cell_type": "code",
   "execution_count": 80,
   "id": "2bed2883",
   "metadata": {},
   "outputs": [],
   "source": [
    "def compute_gradient(x, y, w, b, lambda_=0.001):\n",
    "    m ,n = x.shape\n",
    "    \n",
    "    dw = np.zeros((n ,))\n",
    "    db = 0.0\n",
    "    \n",
    "    for i in range(m):\n",
    "        z_i = np.dot(x[i], w) + b\n",
    "        f_wb_i = sigmoid(z_i)\n",
    "        err_i = f_wb_i - y[i]\n",
    "        for j in range(n):\n",
    "            dw[j] = dw[j] + err_i * x[i, j]\n",
    "        db = db + err_i\n",
    "    dw = dw / m\n",
    "    db = db / m\n",
    "    \n",
    "    for i in range(n):\n",
    "        dw[i] = dw[i] + (lambda_ / m) * w[j]\n",
    "    return dw, db"
   ]
  },
  {
   "cell_type": "code",
   "execution_count": 126,
   "id": "521a39e2",
   "metadata": {},
   "outputs": [],
   "source": [
    "def gradient_descent(x, y, max_iter):\n",
    "    m ,n = x.shape\n",
    "    alpha = 1e-2\n",
    "    w = np.zeros((n ,))\n",
    "    b = 0.0\n",
    "    \n",
    "    J_hist = []\n",
    "    for i in range(max_iter):\n",
    "        # Finding the value of the change i.e., dw and db\n",
    "        dw, db = compute_gradient(x, y, w, b)\n",
    "        \n",
    "        # Updating the value of the parameters w and b\n",
    "        w = w - (alpha * dw)\n",
    "        b = b - (alpha * db)\n",
    "        \n",
    "        # Finding the value of the cost function\n",
    "        J_hist.append(compute_cost(x, y, w, b))\n",
    "        \n",
    "        if i%50 == 0:\n",
    "            print(f\"Iteration: {i}; Cost: {J_hist[i]}\")\n",
    "            \n",
    "    # Plotting the learning curve\n",
    "    plt.plot(range(max_iter), J_hist)\n",
    "    plt.xlabel(\"Number of Iterations\")\n",
    "    plt.ylabel(\"Cost Function Value\")\n",
    "    plt.title(\"Learning Curve\")\n",
    "    plt.show()\n",
    "    return w,b"
   ]
  },
  {
   "cell_type": "code",
   "execution_count": 127,
   "id": "efe12f56",
   "metadata": {},
   "outputs": [
    {
     "data": {
      "text/html": [
       "<div>\n",
       "<style scoped>\n",
       "    .dataframe tbody tr th:only-of-type {\n",
       "        vertical-align: middle;\n",
       "    }\n",
       "\n",
       "    .dataframe tbody tr th {\n",
       "        vertical-align: top;\n",
       "    }\n",
       "\n",
       "    .dataframe thead th {\n",
       "        text-align: right;\n",
       "    }\n",
       "</style>\n",
       "<table border=\"1\" class=\"dataframe\">\n",
       "  <thead>\n",
       "    <tr style=\"text-align: right;\">\n",
       "      <th></th>\n",
       "      <th>PassengerId</th>\n",
       "      <th>Survived</th>\n",
       "      <th>Pclass</th>\n",
       "      <th>Name</th>\n",
       "      <th>Sex</th>\n",
       "      <th>Age</th>\n",
       "      <th>SibSp</th>\n",
       "      <th>Parch</th>\n",
       "      <th>Ticket</th>\n",
       "      <th>Fare</th>\n",
       "      <th>Cabin</th>\n",
       "      <th>Embarked</th>\n",
       "    </tr>\n",
       "  </thead>\n",
       "  <tbody>\n",
       "    <tr>\n",
       "      <th>0</th>\n",
       "      <td>1</td>\n",
       "      <td>0</td>\n",
       "      <td>3</td>\n",
       "      <td>Braund, Mr. Owen Harris</td>\n",
       "      <td>1</td>\n",
       "      <td>22.0</td>\n",
       "      <td>1</td>\n",
       "      <td>0</td>\n",
       "      <td>A/5 21171</td>\n",
       "      <td>7.2500</td>\n",
       "      <td>NaN</td>\n",
       "      <td>S</td>\n",
       "    </tr>\n",
       "    <tr>\n",
       "      <th>1</th>\n",
       "      <td>2</td>\n",
       "      <td>1</td>\n",
       "      <td>1</td>\n",
       "      <td>Cumings, Mrs. John Bradley (Florence Briggs Th...</td>\n",
       "      <td>0</td>\n",
       "      <td>38.0</td>\n",
       "      <td>1</td>\n",
       "      <td>0</td>\n",
       "      <td>PC 17599</td>\n",
       "      <td>71.2833</td>\n",
       "      <td>C85</td>\n",
       "      <td>C</td>\n",
       "    </tr>\n",
       "    <tr>\n",
       "      <th>2</th>\n",
       "      <td>3</td>\n",
       "      <td>1</td>\n",
       "      <td>3</td>\n",
       "      <td>Heikkinen, Miss. Laina</td>\n",
       "      <td>0</td>\n",
       "      <td>26.0</td>\n",
       "      <td>0</td>\n",
       "      <td>0</td>\n",
       "      <td>STON/O2. 3101282</td>\n",
       "      <td>7.9250</td>\n",
       "      <td>NaN</td>\n",
       "      <td>S</td>\n",
       "    </tr>\n",
       "    <tr>\n",
       "      <th>3</th>\n",
       "      <td>4</td>\n",
       "      <td>1</td>\n",
       "      <td>1</td>\n",
       "      <td>Futrelle, Mrs. Jacques Heath (Lily May Peel)</td>\n",
       "      <td>0</td>\n",
       "      <td>35.0</td>\n",
       "      <td>1</td>\n",
       "      <td>0</td>\n",
       "      <td>113803</td>\n",
       "      <td>53.1000</td>\n",
       "      <td>C123</td>\n",
       "      <td>S</td>\n",
       "    </tr>\n",
       "    <tr>\n",
       "      <th>4</th>\n",
       "      <td>5</td>\n",
       "      <td>0</td>\n",
       "      <td>3</td>\n",
       "      <td>Allen, Mr. William Henry</td>\n",
       "      <td>1</td>\n",
       "      <td>35.0</td>\n",
       "      <td>0</td>\n",
       "      <td>0</td>\n",
       "      <td>373450</td>\n",
       "      <td>8.0500</td>\n",
       "      <td>NaN</td>\n",
       "      <td>S</td>\n",
       "    </tr>\n",
       "  </tbody>\n",
       "</table>\n",
       "</div>"
      ],
      "text/plain": [
       "   PassengerId  Survived  Pclass  \\\n",
       "0            1         0       3   \n",
       "1            2         1       1   \n",
       "2            3         1       3   \n",
       "3            4         1       1   \n",
       "4            5         0       3   \n",
       "\n",
       "                                                Name  Sex   Age  SibSp  Parch  \\\n",
       "0                            Braund, Mr. Owen Harris    1  22.0      1      0   \n",
       "1  Cumings, Mrs. John Bradley (Florence Briggs Th...    0  38.0      1      0   \n",
       "2                             Heikkinen, Miss. Laina    0  26.0      0      0   \n",
       "3       Futrelle, Mrs. Jacques Heath (Lily May Peel)    0  35.0      1      0   \n",
       "4                           Allen, Mr. William Henry    1  35.0      0      0   \n",
       "\n",
       "             Ticket     Fare Cabin Embarked  \n",
       "0         A/5 21171   7.2500   NaN        S  \n",
       "1          PC 17599  71.2833   C85        C  \n",
       "2  STON/O2. 3101282   7.9250   NaN        S  \n",
       "3            113803  53.1000  C123        S  \n",
       "4            373450   8.0500   NaN        S  "
      ]
     },
     "execution_count": 127,
     "metadata": {},
     "output_type": "execute_result"
    }
   ],
   "source": [
    "train.head()"
   ]
  },
  {
   "cell_type": "code",
   "execution_count": 128,
   "id": "807fd0fb",
   "metadata": {},
   "outputs": [
    {
     "data": {
      "text/plain": [
       "PassengerId      0\n",
       "Survived         0\n",
       "Pclass           0\n",
       "Name             0\n",
       "Sex              0\n",
       "Age              0\n",
       "SibSp            0\n",
       "Parch            0\n",
       "Ticket           0\n",
       "Fare             0\n",
       "Cabin          687\n",
       "Embarked         2\n",
       "dtype: int64"
      ]
     },
     "execution_count": 128,
     "metadata": {},
     "output_type": "execute_result"
    }
   ],
   "source": [
    "train.isnull().sum()"
   ]
  },
  {
   "cell_type": "code",
   "execution_count": 129,
   "id": "fe9a0c20",
   "metadata": {},
   "outputs": [],
   "source": [
    "X = np.array(train[['Pclass', 'Sex', 'Age','SibSp', 'Parch']])"
   ]
  },
  {
   "cell_type": "code",
   "execution_count": 130,
   "id": "cb46c7a0",
   "metadata": {},
   "outputs": [
    {
     "data": {
      "text/plain": [
       "(891, 5)"
      ]
     },
     "execution_count": 130,
     "metadata": {},
     "output_type": "execute_result"
    }
   ],
   "source": [
    "X.shape"
   ]
  },
  {
   "cell_type": "code",
   "execution_count": 131,
   "id": "738df6d5",
   "metadata": {},
   "outputs": [
    {
     "data": {
      "text/plain": [
       "array([[ 3.        ,  1.        , 22.        ,  1.        ,  0.        ],\n",
       "       [ 1.        ,  0.        , 38.        ,  1.        ,  0.        ],\n",
       "       [ 3.        ,  0.        , 26.        ,  0.        ,  0.        ],\n",
       "       ...,\n",
       "       [ 3.        ,  0.        , 23.79929293,  1.        ,  2.        ],\n",
       "       [ 1.        ,  1.        , 26.        ,  0.        ,  0.        ],\n",
       "       [ 3.        ,  1.        , 32.        ,  0.        ,  0.        ]])"
      ]
     },
     "execution_count": 131,
     "metadata": {},
     "output_type": "execute_result"
    }
   ],
   "source": [
    "X"
   ]
  },
  {
   "cell_type": "code",
   "execution_count": 132,
   "id": "a67afc7e",
   "metadata": {},
   "outputs": [],
   "source": [
    "Y = np.array(train['Survived'])"
   ]
  },
  {
   "cell_type": "code",
   "execution_count": 133,
   "id": "04a4bcd8",
   "metadata": {},
   "outputs": [
    {
     "data": {
      "text/plain": [
       "(891,)"
      ]
     },
     "execution_count": 133,
     "metadata": {},
     "output_type": "execute_result"
    }
   ],
   "source": [
    "Y.shape"
   ]
  },
  {
   "cell_type": "code",
   "execution_count": 134,
   "id": "e346819c",
   "metadata": {},
   "outputs": [
    {
     "data": {
      "text/plain": [
       "array([0, 1, 1, 1, 0, 0, 0, 0, 1, 1], dtype=int64)"
      ]
     },
     "execution_count": 134,
     "metadata": {},
     "output_type": "execute_result"
    }
   ],
   "source": [
    "Y[:10]"
   ]
  },
  {
   "cell_type": "code",
   "execution_count": 135,
   "id": "1d51921d",
   "metadata": {},
   "outputs": [
    {
     "data": {
      "text/plain": [
       "array([0, 1, 1, 1, 0, 0, 0, 0, 1, 1, 1, 1, 0, 0, 0], dtype=int64)"
      ]
     },
     "execution_count": 135,
     "metadata": {},
     "output_type": "execute_result"
    }
   ],
   "source": [
    "Y[:15]"
   ]
  },
  {
   "cell_type": "code",
   "execution_count": 136,
   "id": "08ffc6be",
   "metadata": {},
   "outputs": [],
   "source": [
    "# Normalizing the training dataset\n",
    "mu_X = np.mean(X, axis=0)\n",
    "sigma_X = np.std(X, axis=0)\n",
    "X = (X - mu_X) / sigma_X"
   ]
  },
  {
   "cell_type": "code",
   "execution_count": 137,
   "id": "c00cd7be",
   "metadata": {},
   "outputs": [
    {
     "data": {
      "text/plain": [
       "(891, 5)"
      ]
     },
     "execution_count": 137,
     "metadata": {},
     "output_type": "execute_result"
    }
   ],
   "source": [
    "X.shape"
   ]
  },
  {
   "cell_type": "code",
   "execution_count": 138,
   "id": "46308a3b",
   "metadata": {},
   "outputs": [
    {
     "data": {
      "text/plain": [
       "6.974147318082627"
      ]
     },
     "execution_count": 138,
     "metadata": {},
     "output_type": "execute_result"
    }
   ],
   "source": [
    "X.max()"
   ]
  },
  {
   "cell_type": "code",
   "execution_count": 139,
   "id": "5d9cbf30",
   "metadata": {},
   "outputs": [
    {
     "data": {
      "text/plain": [
       "array([[ 0.82737724,  0.73769513, -0.49424498,  0.43279337, -0.47367361],\n",
       "       [-1.56610693, -1.35557354,  0.71730707,  0.43279337, -0.47367361],\n",
       "       [ 0.82737724, -1.35557354, -0.19135697, -0.4745452 , -0.47367361],\n",
       "       ...,\n",
       "       [ 0.82737724, -1.35557354, -0.35799892,  0.43279337,  2.00893337],\n",
       "       [-1.56610693,  0.73769513, -0.19135697, -0.4745452 , -0.47367361],\n",
       "       [ 0.82737724,  0.73769513,  0.26297505, -0.4745452 , -0.47367361]])"
      ]
     },
     "execution_count": 139,
     "metadata": {},
     "output_type": "execute_result"
    }
   ],
   "source": [
    "X"
   ]
  },
  {
   "cell_type": "code",
   "execution_count": 140,
   "id": "27ce2930",
   "metadata": {},
   "outputs": [
    {
     "name": "stdout",
     "output_type": "stream",
     "text": [
      "Iteration: 0; Cost: 0.6920194513765547\n",
      "Iteration: 50; Cost: 0.642934763354552\n",
      "Iteration: 100; Cost: 0.6055844248544703\n",
      "Iteration: 150; Cost: 0.5768701821961557\n",
      "Iteration: 200; Cost: 0.5545251803355999\n",
      "Iteration: 250; Cost: 0.5369142274006667\n",
      "Iteration: 300; Cost: 0.5228599398499099\n",
      "Iteration: 350; Cost: 0.511510138903156\n",
      "Iteration: 400; Cost: 0.5022424295467425\n",
      "Iteration: 450; Cost: 0.49459724603456723\n",
      "Iteration: 500; Cost: 0.48823126148084567\n",
      "Iteration: 550; Cost: 0.4828849409835092\n",
      "Iteration: 600; Cost: 0.4783598113785009\n",
      "Iteration: 650; Cost: 0.4745023999295236\n",
      "Iteration: 700; Cost: 0.47119277102801116\n",
      "Iteration: 750; Cost: 0.4683362572354203\n",
      "Iteration: 800; Cost: 0.46585743007791997\n",
      "Iteration: 850; Cost: 0.4636956570747537\n",
      "Iteration: 900; Cost: 0.46180179378515807\n",
      "Iteration: 950; Cost: 0.4601356963848562\n",
      "Iteration: 1000; Cost: 0.4586643334115361\n",
      "Iteration: 1050; Cost: 0.4573603393170273\n",
      "Iteration: 1100; Cost: 0.4562008968593405\n",
      "Iteration: 1150; Cost: 0.4551668664610205\n",
      "Iteration: 1200; Cost: 0.45424210264547593\n",
      "Iteration: 1250; Cost: 0.4534129133539177\n",
      "Iteration: 1300; Cost: 0.452667629246326\n",
      "Iteration: 1350; Cost: 0.4519962583003978\n",
      "Iteration: 1400; Cost: 0.4513902070382881\n",
      "Iteration: 1450; Cost: 0.4508420541546101\n",
      "Iteration: 1500; Cost: 0.4503453656271209\n",
      "Iteration: 1550; Cost: 0.44989454287247044\n",
      "Iteration: 1600; Cost: 0.44948469738347024\n",
      "Iteration: 1650; Cost: 0.449111546709751\n",
      "Iteration: 1700; Cost: 0.4487713277350262\n",
      "Iteration: 1750; Cost: 0.448460724045084\n",
      "Iteration: 1800; Cost: 0.4481768048325302\n",
      "Iteration: 1850; Cost: 0.4479169732926648\n",
      "Iteration: 1900; Cost: 0.447678922863559\n",
      "Iteration: 1950; Cost: 0.44746059997777476\n",
      "Iteration: 2000; Cost: 0.44726017224237563\n",
      "Iteration: 2050; Cost: 0.44707600116243135\n",
      "Iteration: 2100; Cost: 0.44690661868218395\n",
      "Iteration: 2150; Cost: 0.44675070694592706\n",
      "Iteration: 2200; Cost: 0.44660708078398137\n",
      "Iteration: 2250; Cost: 0.4464746725130281\n",
      "Iteration: 2300; Cost: 0.4463525187084219\n",
      "Iteration: 2350; Cost: 0.4462397486620557\n",
      "Iteration: 2400; Cost: 0.44613557428531875\n",
      "Iteration: 2450; Cost: 0.4460392812546039\n",
      "Iteration: 2500; Cost: 0.44595022122820227\n",
      "Iteration: 2550; Cost: 0.44586780498949335\n",
      "Iteration: 2600; Cost: 0.4457914963930715\n",
      "Iteration: 2650; Cost: 0.4457208070086169\n",
      "Iteration: 2700; Cost: 0.4456552913725689\n",
      "Iteration: 2750; Cost: 0.4455945427704814\n",
      "Iteration: 2800; Cost: 0.445538189483774\n",
      "Iteration: 2850; Cost: 0.44548589144374734\n",
      "Iteration: 2900; Cost: 0.44543733724351436\n",
      "Iteration: 2950; Cost: 0.44539224146511436\n",
      "Iteration: 3000; Cost: 0.445350342284722\n",
      "Iteration: 3050; Cost: 0.44531139932369584\n",
      "Iteration: 3100; Cost: 0.44527519171734764\n",
      "Iteration: 3150; Cost: 0.4452415163768748\n",
      "Iteration: 3200; Cost: 0.44521018642296184\n",
      "Iteration: 3250; Cost: 0.44518102977220253\n",
      "Iteration: 3300; Cost: 0.44515388785978394\n",
      "Iteration: 3350; Cost: 0.4451286144838573\n",
      "Iteration: 3400; Cost: 0.44510507475874317\n",
      "Iteration: 3450; Cost: 0.4450831441656199\n",
      "Iteration: 3500; Cost: 0.4450627076906533\n",
      "Iteration: 3550; Cost: 0.44504365904166376\n",
      "Iteration: 3600; Cost: 0.4450258999354338\n",
      "Iteration: 3650; Cost: 0.4450093394486295\n",
      "Iteration: 3700; Cost: 0.444993893426085\n",
      "Iteration: 3750; Cost: 0.4449794839408723\n",
      "Iteration: 3800; Cost: 0.4449660388011792\n",
      "Iteration: 3850; Cost: 0.4449534910995423\n",
      "Iteration: 3900; Cost: 0.4449417788004504\n",
      "Iteration: 3950; Cost: 0.44493084436274327\n",
      "Iteration: 4000; Cost: 0.4449206343935995\n",
      "Iteration: 4050; Cost: 0.4449110993312285\n",
      "Iteration: 4100; Cost: 0.4449021931536733\n",
      "Iteration: 4150; Cost: 0.44489387311138534\n",
      "Iteration: 4200; Cost: 0.4448860994814631\n",
      "Iteration: 4250; Cost: 0.4448788353416518\n",
      "Iteration: 4300; Cost: 0.44487204636237937\n",
      "Iteration: 4350; Cost: 0.44486570061527625\n",
      "Iteration: 4400; Cost: 0.44485976839676317\n",
      "Iteration: 4450; Cost: 0.444854222065431\n",
      "Iteration: 4500; Cost: 0.44484903589204955\n",
      "Iteration: 4550; Cost: 0.44484418592115127\n",
      "Iteration: 4600; Cost: 0.4448396498432301\n",
      "Iteration: 4650; Cost: 0.4448354068766823\n",
      "Iteration: 4700; Cost: 0.4448314376586949\n",
      "Iteration: 4750; Cost: 0.44482772414435406\n",
      "Iteration: 4800; Cost: 0.4448242495133165\n",
      "Iteration: 4850; Cost: 0.4448209980834335\n",
      "Iteration: 4900; Cost: 0.44481795523078066\n",
      "Iteration: 4950; Cost: 0.4448151073155861\n",
      "Iteration: 5000; Cost: 0.4448124416135952\n",
      "Iteration: 5050; Cost: 0.44480994625244763\n",
      "Iteration: 5100; Cost: 0.44480761015268167\n",
      "Iteration: 5150; Cost: 0.44480542297300646\n",
      "Iteration: 5200; Cost: 0.44480337505951767\n",
      "Iteration: 5250; Cost: 0.4448014573985562\n",
      "Iteration: 5300; Cost: 0.44479966157293555\n",
      "Iteration: 5350; Cost: 0.44479797972128193\n",
      "Iteration: 5400; Cost: 0.44479640450025637\n",
      "Iteration: 5450; Cost: 0.44479492904944445\n",
      "Iteration: 5500; Cost: 0.44479354695871326\n",
      "Iteration: 5550; Cost: 0.44479225223785784\n",
      "Iteration: 5600; Cost: 0.44479103928836544\n",
      "Iteration: 5650; Cost: 0.4447899028771452\n",
      "Iteration: 5700; Cost: 0.4447888381120791\n",
      "Iteration: 5750; Cost: 0.4447878404192636\n",
      "Iteration: 5800; Cost: 0.4447869055218185\n",
      "Iteration: 5850; Cost: 0.44478602942015194\n",
      "Iteration: 5900; Cost: 0.44478520837357705\n",
      "Iteration: 5950; Cost: 0.4447844388831832\n",
      "Iteration: 6000; Cost: 0.44478371767587394\n",
      "Iteration: 6050; Cost: 0.444783041689489\n",
      "Iteration: 6100; Cost: 0.44478240805893327\n",
      "Iteration: 6150; Cost: 0.44478181410324297\n",
      "Iteration: 6200; Cost: 0.4447812573135225\n",
      "Iteration: 6250; Cost: 0.44478073534169305\n",
      "Iteration: 6300; Cost: 0.4447802459899938\n",
      "Iteration: 6350; Cost: 0.4447797872011876\n",
      "Iteration: 6400; Cost: 0.4447793570494175\n",
      "Iteration: 6450; Cost: 0.44477895373167387\n",
      "Iteration: 6500; Cost: 0.4447785755598277\n",
      "Iteration: 6550; Cost: 0.44477822095319214\n",
      "Iteration: 6600; Cost: 0.44477788843157584\n",
      "Iteration: 6650; Cost: 0.4447775766087954\n",
      "Iteration: 6700; Cost: 0.4447772841866145\n",
      "Iteration: 6750; Cost: 0.44477700994908237\n",
      "Iteration: 6800; Cost: 0.44477675275724404\n",
      "Iteration: 6850; Cost: 0.4447765115441956\n",
      "Iteration: 6900; Cost: 0.44477628531046537\n",
      "Iteration: 6950; Cost: 0.4447760731196941\n",
      "Iteration: 7000; Cost: 0.44477587409459896\n",
      "Iteration: 7050; Cost: 0.4447756874131983\n",
      "Iteration: 7100; Cost: 0.4447755123052831\n",
      "Iteration: 7150; Cost: 0.4447753480491167\n",
      "Iteration: 7200; Cost: 0.4447751939683482\n",
      "Iteration: 7250; Cost: 0.44477504942912593\n",
      "Iteration: 7300; Cost: 0.4447749138373966\n",
      "Iteration: 7350; Cost: 0.44477478663638004\n",
      "Iteration: 7400; Cost: 0.44477466730420473\n",
      "Iteration: 7450; Cost: 0.4447745553516969\n",
      "Iteration: 7500; Cost: 0.44477445032031077\n",
      "Iteration: 7550; Cost: 0.4447743517801923\n",
      "Iteration: 7600; Cost: 0.4447742593283661\n",
      "Iteration: 7650; Cost: 0.44477417258703955\n",
      "Iteration: 7700; Cost: 0.44477409120201383\n",
      "Iteration: 7750; Cost: 0.4447740148411978\n",
      "Iteration: 7800; Cost: 0.44477394319321584\n",
      "Iteration: 7850; Cost: 0.44477387596610485\n",
      "Iteration: 7900; Cost: 0.44477381288609347\n",
      "Iteration: 7950; Cost: 0.44477375369645994\n",
      "Iteration: 8000; Cost: 0.4447736981564613\n",
      "Iteration: 8050; Cost: 0.4447736460403319\n",
      "Iteration: 8100; Cost: 0.4447735971363438\n",
      "Iteration: 8150; Cost: 0.444773551245928\n",
      "Iteration: 8200; Cost: 0.4447735081828509\n",
      "Iteration: 8250; Cost: 0.44477346777244225\n",
      "Iteration: 8300; Cost: 0.44477342985087237\n",
      "Iteration: 8350; Cost: 0.44477339426447504\n",
      "Iteration: 8400; Cost: 0.444773360869113\n",
      "Iteration: 8450; Cost: 0.444773329529583\n",
      "Iteration: 8500; Cost: 0.44477330011905886\n",
      "Iteration: 8550; Cost: 0.4447732725185693\n",
      "Iteration: 8600; Cost: 0.4447732466165086\n",
      "Iteration: 8650; Cost: 0.4447732223081782\n",
      "Iteration: 8700; Cost: 0.4447731994953561\n",
      "Iteration: 8750; Cost: 0.44477317808589556\n",
      "Iteration: 8800; Cost: 0.4447731579933455\n",
      "Iteration: 8850; Cost: 0.44477313913659816\n",
      "Iteration: 8900; Cost: 0.44477312143955644\n",
      "Iteration: 8950; Cost: 0.44477310483082294\n",
      "Iteration: 9000; Cost: 0.44477308924340886\n",
      "Iteration: 9050; Cost: 0.44477307461445953\n",
      "Iteration: 9100; Cost: 0.4447730608849993\n",
      "Iteration: 9150; Cost: 0.44477304799969014\n",
      "Iteration: 9200; Cost: 0.44477303590660694\n",
      "Iteration: 9250; Cost: 0.4447730245570261\n",
      "Iteration: 9300; Cost: 0.44477301390522683\n",
      "Iteration: 9350; Cost: 0.4447730039083061\n",
      "Iteration: 9400; Cost: 0.444772994526004\n",
      "Iteration: 9450; Cost: 0.44477298572054\n",
      "Iteration: 9500; Cost: 0.4447729774564606\n",
      "Iteration: 9550; Cost: 0.44477296970049457\n",
      "Iteration: 9600; Cost: 0.4447729624214186\n",
      "Iteration: 9650; Cost: 0.44477295558993096\n"
     ]
    },
    {
     "name": "stdout",
     "output_type": "stream",
     "text": [
      "Iteration: 9700; Cost: 0.4447729491785327\n",
      "Iteration: 9750; Cost: 0.44477294316141647\n",
      "Iteration: 9800; Cost: 0.444772937514362\n",
      "Iteration: 9850; Cost: 0.4447729322146387\n",
      "Iteration: 9900; Cost: 0.44477292724091305\n",
      "Iteration: 9950; Cost: 0.4447729225731633\n"
     ]
    },
    {
     "data": {
      "image/png": "[encoded data removed]",
      "text/plain": [
       "<Figure size 432x288 with 1 Axes>"
      ]
     },
     "metadata": {
      "needs_background": "light"
     },
     "output_type": "display_data"
    }
   ],
   "source": [
    "# Fitting the training dataset to the logistic regression model\n",
    "w, b = gradient_descent(X, Y, 10000)"
   ]
  },
  {
   "cell_type": "code",
   "execution_count": 141,
   "id": "67e4b109",
   "metadata": {},
   "outputs": [],
   "source": [
    "output_train = []\n",
    "for i in range(X.shape[0]):\n",
    "    value_train = sigmoid(np.dot(X[i], w) + b)\n",
    "    if value_train >= 0.5:\n",
    "        output_train.append(1)\n",
    "    else:\n",
    "        output_train.append(0)"
   ]
  },
  {
   "cell_type": "code",
   "execution_count": 143,
   "id": "057ee82e",
   "metadata": {},
   "outputs": [],
   "source": [
    "count_train = 0\n",
    "for i in range(X.shape[0]):\n",
    "    if output_train[i] != Y[i]:\n",
    "        count_train += 1"
   ]
  },
  {
   "cell_type": "code",
   "execution_count": 144,
   "id": "b7cbfc31",
   "metadata": {},
   "outputs": [
    {
     "data": {
      "text/plain": [
       "187"
      ]
     },
     "execution_count": 144,
     "metadata": {},
     "output_type": "execute_result"
    }
   ],
   "source": [
    "count_train"
   ]
  },
  {
   "cell_type": "code",
   "execution_count": 163,
   "id": "05c99662",
   "metadata": {},
   "outputs": [
    {
     "data": {
      "text/plain": [
       "79.01234567901234"
      ]
     },
     "execution_count": 163,
     "metadata": {},
     "output_type": "execute_result"
    }
   ],
   "source": [
    "# Accuracy of the training model\n",
    "((X.shape[0] - count_train) / X.shape[0]) * 100"
   ]
  },
  {
   "cell_type": "code",
   "execution_count": 164,
   "id": "01776aa2",
   "metadata": {},
   "outputs": [],
   "source": [
    "def map_feature(x1, x2, degree):\n",
    "    x1 = np.atleast_1d(x1)\n",
    "    x2 = np.atleast_1d(x2)\n",
    "    \n",
    "    out = []\n",
    "    for i in range(1, degree + 1):\n",
    "        for j in range(i + 1):\n",
    "            out.append((x1 ** (i - j)) * (x2 ** j))\n",
    "    return np.stack(out, axis=1)"
   ]
  },
  {
   "cell_type": "code",
   "execution_count": 165,
   "id": "e0887ebf",
   "metadata": {},
   "outputs": [],
   "source": [
    "X_train_1 = map_feature(X[:, 0], X[:, 1], 2)"
   ]
  },
  {
   "cell_type": "code",
   "execution_count": 166,
   "id": "1c08158e",
   "metadata": {},
   "outputs": [
    {
     "data": {
      "text/plain": [
       "array([[ 0.82737724,  0.73769513,  0.6845531 ,  0.61035216,  0.54419411],\n",
       "       [-1.56610693, -1.35557354,  2.4526909 ,  2.12297311,  1.83757962],\n",
       "       [ 0.82737724, -1.35557354,  0.6845531 , -1.1215707 ,  1.83757962],\n",
       "       ...,\n",
       "       [ 0.82737724, -1.35557354,  0.6845531 , -1.1215707 ,  1.83757962],\n",
       "       [-1.56610693,  0.73769513,  2.4526909 , -1.15530946,  0.54419411],\n",
       "       [ 0.82737724,  0.73769513,  0.6845531 ,  0.61035216,  0.54419411]])"
      ]
     },
     "execution_count": 166,
     "metadata": {},
     "output_type": "execute_result"
    }
   ],
   "source": [
    "X_train_1"
   ]
  },
  {
   "cell_type": "code",
   "execution_count": 167,
   "id": "6104ade1",
   "metadata": {},
   "outputs": [
    {
     "data": {
      "text/plain": [
       "array([[ True,  True, False, False, False],\n",
       "       [ True,  True, False, False, False],\n",
       "       [ True,  True, False, False, False],\n",
       "       ...,\n",
       "       [ True,  True, False, False, False],\n",
       "       [ True,  True, False, False, False],\n",
       "       [ True,  True, False, False, False]])"
      ]
     },
     "execution_count": 167,
     "metadata": {},
     "output_type": "execute_result"
    }
   ],
   "source": [
    "X_train_1 == X"
   ]
  },
  {
   "cell_type": "code",
   "execution_count": 169,
   "id": "2b4c78f9",
   "metadata": {},
   "outputs": [],
   "source": [
    "X_1 = np.column_stack((X_train_1[:, 0], X_train_1[:, 1], X_train_1[:, 2], X_train_1[:, 3], X_train_1[:, 4], X[:,2], X[:, 3], X[:, 4]))"
   ]
  },
  {
   "cell_type": "code",
   "execution_count": 170,
   "id": "ba43aa1c",
   "metadata": {},
   "outputs": [
    {
     "data": {
      "text/plain": [
       "(891, 8)"
      ]
     },
     "execution_count": 170,
     "metadata": {},
     "output_type": "execute_result"
    }
   ],
   "source": [
    "X_1.shape"
   ]
  },
  {
   "cell_type": "code",
   "execution_count": 171,
   "id": "4de374c1",
   "metadata": {},
   "outputs": [
    {
     "data": {
      "text/plain": [
       "6.974147318082627"
      ]
     },
     "execution_count": 171,
     "metadata": {},
     "output_type": "execute_result"
    }
   ],
   "source": [
    "X_1.max()"
   ]
  },
  {
   "cell_type": "code",
   "execution_count": 173,
   "id": "8f80cba6",
   "metadata": {},
   "outputs": [
    {
     "name": "stdout",
     "output_type": "stream",
     "text": [
      "Iteration: 0; Cost: 0.6919465437577982\n",
      "Iteration: 50; Cost: 0.6400307883660084\n",
      "Iteration: 100; Cost: 0.6009522892929343\n",
      "Iteration: 150; Cost: 0.5711448880486998\n",
      "Iteration: 200; Cost: 0.5480874286367977\n",
      "Iteration: 250; Cost: 0.5299988972640433\n",
      "Iteration: 300; Cost: 0.5156135001522951\n",
      "Iteration: 350; Cost: 0.5040234381141324\n",
      "Iteration: 400; Cost: 0.49457071226212634\n",
      "Iteration: 450; Cost: 0.48677290641119797\n",
      "Iteration: 500; Cost: 0.4802721517379554\n",
      "Iteration: 550; Cost: 0.4747998310300244\n",
      "Iteration: 600; Cost: 0.47015197665956887\n",
      "Iteration: 650; Cost: 0.46617196513882586\n",
      "Iteration: 700; Cost: 0.4627382235134907\n",
      "Iteration: 750; Cost: 0.4597554065115537\n",
      "Iteration: 800; Cost: 0.45714799916468246\n",
      "Iteration: 850; Cost: 0.4548556307103852\n",
      "Iteration: 900; Cost: 0.4528296076968746\n",
      "Iteration: 950; Cost: 0.45103032419065275\n",
      "Iteration: 1000; Cost: 0.4494253090419386\n",
      "Iteration: 1050; Cost: 0.44798774019697124\n",
      "Iteration: 1100; Cost: 0.4466953045315467\n",
      "Iteration: 1150; Cost: 0.44552931554882014\n",
      "Iteration: 1200; Cost: 0.4444740251548136\n",
      "Iteration: 1250; Cost: 0.44351608269722703\n",
      "Iteration: 1300; Cost: 0.44264410662460874\n",
      "Iteration: 1350; Cost: 0.4418483429247619\n",
      "Iteration: 1400; Cost: 0.4411203909180009\n",
      "Iteration: 1450; Cost: 0.44045298169553954\n",
      "Iteration: 1500; Cost: 0.4398397979836375\n",
      "Iteration: 1550; Cost: 0.4392753268170101\n",
      "Iteration: 1600; Cost: 0.43875473835978246\n",
      "Iteration: 1650; Cost: 0.4382737856903438\n",
      "Iteration: 1700; Cost: 0.4378287214914609\n",
      "Iteration: 1750; Cost: 0.43741622844873107\n",
      "Iteration: 1800; Cost: 0.43703336082459787\n",
      "Iteration: 1850; Cost: 0.4366774951900633\n",
      "Iteration: 1900; Cost: 0.4363462886977538\n",
      "Iteration: 1950; Cost: 0.4360376435948588\n",
      "Iteration: 2000; Cost: 0.4357496769226894\n",
      "Iteration: 2050; Cost: 0.43548069454634736\n",
      "Iteration: 2100; Cost: 0.43522916881470625\n",
      "Iteration: 2150; Cost: 0.4349937192763526\n",
      "Iteration: 2200; Cost: 0.4347730959780383\n",
      "Iteration: 2250; Cost: 0.4345661649537156\n",
      "Iteration: 2300; Cost: 0.434371895578399\n",
      "Iteration: 2350; Cost: 0.43418934951502813\n",
      "Iteration: 2400; Cost: 0.434017671026656\n",
      "Iteration: 2450; Cost: 0.433856078462566\n",
      "Iteration: 2500; Cost: 0.4337038567568528\n",
      "Iteration: 2550; Cost: 0.4335603508027932\n",
      "Iteration: 2600; Cost: 0.4334249595869386\n",
      "Iteration: 2650; Cost: 0.43329713098404243\n",
      "Iteration: 2700; Cost: 0.4331763571283266\n",
      "Iteration: 2750; Cost: 0.4330621702886659\n",
      "Iteration: 2800; Cost: 0.4329541391854496\n",
      "Iteration: 2850; Cost: 0.43285186569547457\n",
      "Iteration: 2900; Cost: 0.43275498189851597\n",
      "Iteration: 2950; Cost: 0.4326631474254181\n",
      "Iteration: 3000; Cost: 0.4325760470728244\n",
      "Iteration: 3050; Cost: 0.43249338865418624\n",
      "Iteration: 3100; Cost: 0.4324149010605534\n",
      "Iteration: 3150; Cost: 0.43234033250797815\n",
      "Iteration: 3200; Cost: 0.432269448951222\n",
      "Iteration: 3250; Cost: 0.4322020326459325\n",
      "Iteration: 3300; Cost: 0.43213788084359206\n",
      "Iteration: 3350; Cost: 0.43207680460539793\n",
      "Iteration: 3400; Cost: 0.4320186277228452\n",
      "Iteration: 3450; Cost: 0.4319631857341908\n",
      "Iteration: 3500; Cost: 0.4319103250272003\n",
      "Iteration: 3550; Cost: 0.43185990201965463\n",
      "Iteration: 3600; Cost: 0.4318117824100336\n",
      "Iteration: 3650; Cost: 0.43176584049161526\n",
      "Iteration: 3700; Cost: 0.4317219585239625\n",
      "Iteration: 3750; Cost: 0.43168002615640105\n",
      "Iteration: 3800; Cost: 0.4316399398986633\n",
      "Iteration: 3850; Cost: 0.4316016026343692\n",
      "Iteration: 3900; Cost: 0.43156492317345774\n",
      "Iteration: 3950; Cost: 0.43152981584007594\n",
      "Iteration: 4000; Cost: 0.43149620009278017\n",
      "Iteration: 4050; Cost: 0.4314640001742151\n",
      "Iteration: 4100; Cost: 0.43143314478771155\n",
      "Iteration: 4150; Cost: 0.4314035667984922\n",
      "Iteration: 4200; Cost: 0.43137520295739235\n",
      "Iteration: 4250; Cost: 0.4313479936452043\n",
      "Iteration: 4300; Cost: 0.4313218826359243\n",
      "Iteration: 4350; Cost: 0.43129681687734683\n",
      "Iteration: 4400; Cost: 0.4312727462875873\n",
      "Iteration: 4450; Cost: 0.43124962356624696\n",
      "Iteration: 4500; Cost: 0.43122740401904375\n",
      "Iteration: 4550; Cost: 0.4312060453948456\n",
      "Iteration: 4600; Cost: 0.43118550773412345\n",
      "Iteration: 4650; Cost: 0.4311657532279422\n",
      "Iteration: 4700; Cost: 0.43114674608666786\n",
      "Iteration: 4750; Cost: 0.43112845241765285\n",
      "Iteration: 4800; Cost: 0.43111084011121326\n",
      "Iteration: 4850; Cost: 0.431093878734278\n",
      "Iteration: 4900; Cost: 0.43107753943113447\n",
      "Iteration: 4950; Cost: 0.4310617948307453\n",
      "Iteration: 5000; Cost: 0.4310466189601565\n",
      "Iteration: 5050; Cost: 0.43103198716354973\n",
      "Iteration: 5100; Cost: 0.43101787602653474\n",
      "Iteration: 5150; Cost: 0.4310042633053019\n",
      "Iteration: 5200; Cost: 0.430991127860294\n",
      "Iteration: 5250; Cost: 0.4309784495940741\n",
      "Iteration: 5300; Cost: 0.43096620939309876\n",
      "Iteration: 5350; Cost: 0.43095438907312245\n",
      "Iteration: 5400; Cost: 0.43094297132798504\n",
      "Iteration: 5450; Cost: 0.4309319396815485\n",
      "Iteration: 5500; Cost: 0.4309212784425697\n",
      "Iteration: 5550; Cost: 0.430910972662312\n",
      "Iteration: 5600; Cost: 0.43090100809470866\n",
      "Iteration: 5650; Cost: 0.43089137115891274\n",
      "Iteration: 5700; Cost: 0.43088204890407233\n",
      "Iteration: 5750; Cost: 0.43087302897618596\n",
      "Iteration: 5800; Cost: 0.430864299586903\n",
      "Iteration: 5850; Cost: 0.4308558494841425\n",
      "Iteration: 5900; Cost: 0.4308476679244139\n",
      "Iteration: 5950; Cost: 0.43083974464673047\n",
      "Iteration: 6000; Cost: 0.4308320698480144\n",
      "Iteration: 6050; Cost: 0.4308246341598998\n",
      "Iteration: 6100; Cost: 0.4308174286268449\n",
      "Iteration: 6150; Cost: 0.4308104446854741\n",
      "Iteration: 6200; Cost: 0.4308036741450707\n",
      "Iteration: 6250; Cost: 0.43079710916915265\n",
      "Iteration: 6300; Cost: 0.4307907422580625\n",
      "Iteration: 6350; Cost: 0.43078456623251193\n",
      "Iteration: 6400; Cost: 0.4307785742180215\n",
      "Iteration: 6450; Cost: 0.43077275963020395\n",
      "Iteration: 6500; Cost: 0.4307671161608383\n",
      "Iteration: 6550; Cost: 0.43076163776469023\n",
      "Iteration: 6600; Cost: 0.43075631864703245\n",
      "Iteration: 6650; Cost: 0.43075115325182634\n",
      "Iteration: 6700; Cost: 0.43074613625052455\n",
      "Iteration: 6750; Cost: 0.43074126253145906\n",
      "Iteration: 6800; Cost: 0.4307365271897822\n",
      "Iteration: 6850; Cost: 0.4307319255179262\n",
      "Iteration: 6900; Cost: 0.4307274529965555\n",
      "Iteration: 6950; Cost: 0.4307231052859798\n",
      "Iteration: 7000; Cost: 0.4307188782180058\n",
      "Iteration: 7050; Cost: 0.4307147677881999\n",
      "Iteration: 7100; Cost: 0.4307107701485412\n",
      "Iteration: 7150; Cost: 0.43070688160044146\n",
      "Iteration: 7200; Cost: 0.4307030985881135\n",
      "Iteration: 7250; Cost: 0.4306994176922677\n",
      "Iteration: 7300; Cost: 0.4306958356241184\n",
      "Iteration: 7350; Cost: 0.43069234921968524\n",
      "Iteration: 7400; Cost: 0.43068895543437175\n",
      "Iteration: 7450; Cost: 0.43068565133780706\n",
      "Iteration: 7500; Cost: 0.4306824341089363\n",
      "Iteration: 7550; Cost: 0.43067930103134744\n",
      "Iteration: 7600; Cost: 0.4306762494888202\n",
      "Iteration: 7650; Cost: 0.43067327696108776\n",
      "Iteration: 7700; Cost: 0.43067038101979854\n",
      "Iteration: 7750; Cost: 0.4306675593246672\n",
      "Iteration: 7800; Cost: 0.43066480961980735\n",
      "Iteration: 7850; Cost: 0.4306621297302338\n",
      "Iteration: 7900; Cost: 0.4306595175585278\n",
      "Iteration: 7950; Cost: 0.4306569710816558\n",
      "Iteration: 8000; Cost: 0.43065448834793424\n",
      "Iteration: 8050; Cost: 0.4306520674741336\n",
      "Iteration: 8100; Cost: 0.4306497066427133\n",
      "Iteration: 8150; Cost: 0.43064740409918206\n",
      "Iteration: 8200; Cost: 0.4306451581495777\n",
      "Iteration: 8250; Cost: 0.43064296715805933\n",
      "Iteration: 8300; Cost: 0.43064082954460653\n",
      "Iteration: 8350; Cost: 0.430638743782822\n",
      "Iteration: 8400; Cost: 0.43063670839783047\n",
      "Iteration: 8450; Cost: 0.43063472196426966\n",
      "Iteration: 8500; Cost: 0.4306327831043701\n",
      "Iteration: 8550; Cost: 0.43063089048611847\n",
      "Iteration: 8600; Cost: 0.43062904282149983\n",
      "Iteration: 8650; Cost: 0.4306272388648167\n",
      "Iteration: 8700; Cost: 0.4306254774110797\n",
      "Iteration: 8750; Cost: 0.43062375729446806\n",
      "Iteration: 8800; Cost: 0.43062207738685426\n",
      "Iteration: 8850; Cost: 0.43062043659639226\n",
      "Iteration: 8900; Cost: 0.43061883386616495\n",
      "Iteration: 8950; Cost: 0.4306172681728888\n",
      "Iteration: 9000; Cost: 0.430615738525672\n",
      "Iteration: 9050; Cost: 0.430614243964825\n",
      "Iteration: 9100; Cost: 0.43061278356071986\n",
      "Iteration: 9150; Cost: 0.43061135641269727\n",
      "Iteration: 9200; Cost: 0.43060996164801735\n",
      "Iteration: 9250; Cost: 0.4306085984208553\n",
      "Iteration: 9300; Cost: 0.4306072659113352\n",
      "Iteration: 9350; Cost: 0.430605963324606\n",
      "Iteration: 9400; Cost: 0.4306046898899525\n",
      "Iteration: 9450; Cost: 0.43060344485994295\n",
      "Iteration: 9500; Cost: 0.43060222750961097\n",
      "Iteration: 9550; Cost: 0.43060103713567\n",
      "Iteration: 9600; Cost: 0.4305998730557577\n",
      "Iteration: 9650; Cost: 0.4305987346077123\n"
     ]
    },
    {
     "name": "stdout",
     "output_type": "stream",
     "text": [
      "Iteration: 9700; Cost: 0.43059762114887534\n",
      "Iteration: 9750; Cost: 0.4305965320554238\n",
      "Iteration: 9800; Cost: 0.43059546672172555\n",
      "Iteration: 9850; Cost: 0.4305944245597223\n",
      "Iteration: 9900; Cost: 0.4305934049983359\n",
      "Iteration: 9950; Cost: 0.4305924074828954\n"
     ]
    },
    {
     "data": {
      "image/png": "[encoded data removed]",
      "text/plain": [
       "<Figure size 432x288 with 1 Axes>"
      ]
     },
     "metadata": {
      "needs_background": "light"
     },
     "output_type": "display_data"
    }
   ],
   "source": [
    "w_1, b_1 = gradient_descent(X_1, Y, 10000)"
   ]
  },
  {
   "cell_type": "code",
   "execution_count": 174,
   "id": "096f8f00",
   "metadata": {},
   "outputs": [
    {
     "data": {
      "text/plain": [
       "(array([-1.04789518, -1.38844361,  0.17408572,  0.59315637,  0.10467473,\n",
       "        -0.54984124, -0.35711168, -0.01211883]),\n",
       " -0.7532156985489127)"
      ]
     },
     "execution_count": 174,
     "metadata": {},
     "output_type": "execute_result"
    }
   ],
   "source": [
    "w_1, b_1"
   ]
  },
  {
   "cell_type": "code",
   "execution_count": 181,
   "id": "56f04855",
   "metadata": {},
   "outputs": [],
   "source": [
    "test = pd.read_csv('test.csv')"
   ]
  },
  {
   "cell_type": "code",
   "execution_count": 182,
   "id": "73113755",
   "metadata": {},
   "outputs": [],
   "source": [
    "test['Sex'].replace({\n",
    "    'male' : 1,\n",
    "    'female' : 0\n",
    "}, inplace=True)"
   ]
  },
  {
   "cell_type": "code",
   "execution_count": 186,
   "id": "7f3c27e7",
   "metadata": {},
   "outputs": [],
   "source": [
    "test['Age'].replace({\n",
    "    np.nan : (np.sum(test['Age']) / test.shape[0])\n",
    "}, inplace=True)"
   ]
  },
  {
   "cell_type": "code",
   "execution_count": 187,
   "id": "27d06b8a",
   "metadata": {},
   "outputs": [
    {
     "data": {
      "text/plain": [
       "28.991163205970565"
      ]
     },
     "execution_count": 187,
     "metadata": {},
     "output_type": "execute_result"
    }
   ],
   "source": [
    "np.sum(test['Age']) / test.shape[0]"
   ]
  },
  {
   "cell_type": "code",
   "execution_count": 188,
   "id": "00c709f2",
   "metadata": {},
   "outputs": [
    {
     "data": {
      "text/plain": [
       "array([34.5       , 47.        , 62.        , 27.        , 22.        ,\n",
       "       14.        , 30.        , 26.        , 18.        , 21.        ,\n",
       "       24.04425837, 46.        , 23.        , 63.        , 24.        ,\n",
       "       35.        , 45.        , 55.        ,  9.        , 48.        ,\n",
       "       50.        , 22.5       , 41.        , 33.        , 18.5       ,\n",
       "       25.        , 39.        , 60.        , 36.        , 20.        ,\n",
       "       28.        , 10.        , 17.        , 32.        , 13.        ,\n",
       "       31.        , 29.        , 28.5       , 32.5       ,  6.        ,\n",
       "       67.        , 49.        ,  2.        , 76.        , 43.        ,\n",
       "       16.        ,  1.        , 12.        , 42.        , 53.        ,\n",
       "       26.5       , 40.        , 61.        , 60.5       ,  7.        ,\n",
       "       15.        , 54.        , 64.        , 37.        , 34.        ,\n",
       "       11.5       ,  8.        ,  0.33      , 38.        , 57.        ,\n",
       "       40.5       ,  0.92      , 19.        , 36.5       ,  0.75      ,\n",
       "        0.83      , 58.        ,  0.17      , 59.        , 14.5       ,\n",
       "       44.        ,  5.        , 51.        ,  3.        , 38.5       ])"
      ]
     },
     "execution_count": 188,
     "metadata": {},
     "output_type": "execute_result"
    }
   ],
   "source": [
    "test['Age'].unique()"
   ]
  },
  {
   "cell_type": "code",
   "execution_count": 189,
   "id": "480cc7b3",
   "metadata": {},
   "outputs": [
    {
     "data": {
      "text/plain": [
       "418"
      ]
     },
     "execution_count": 189,
     "metadata": {},
     "output_type": "execute_result"
    }
   ],
   "source": [
    "test.shape[0]"
   ]
  },
  {
   "cell_type": "code",
   "execution_count": 190,
   "id": "00cd474b",
   "metadata": {},
   "outputs": [
    {
     "data": {
      "text/plain": [
       "12118.306220095696"
      ]
     },
     "execution_count": 190,
     "metadata": {},
     "output_type": "execute_result"
    }
   ],
   "source": [
    "np.sum(test['Age'])"
   ]
  },
  {
   "cell_type": "code",
   "execution_count": 191,
   "id": "e770f3bc",
   "metadata": {},
   "outputs": [
    {
     "data": {
      "text/plain": [
       "28.991163205970565"
      ]
     },
     "execution_count": 191,
     "metadata": {},
     "output_type": "execute_result"
    }
   ],
   "source": [
    "12118.306220095696 / 418"
   ]
  },
  {
   "cell_type": "code",
   "execution_count": 192,
   "id": "4eb4d111",
   "metadata": {},
   "outputs": [
    {
     "data": {
      "text/plain": [
       "array([34.5       , 47.        , 62.        , 27.        , 22.        ,\n",
       "       14.        , 30.        , 26.        , 18.        , 21.        ,\n",
       "       24.04425837, 46.        , 23.        , 63.        , 24.        ,\n",
       "       35.        , 45.        , 55.        ,  9.        , 48.        ,\n",
       "       50.        , 22.5       , 41.        , 33.        , 18.5       ,\n",
       "       25.        , 39.        , 60.        , 36.        , 20.        ,\n",
       "       28.        , 10.        , 17.        , 32.        , 13.        ,\n",
       "       31.        , 29.        , 28.5       , 32.5       ,  6.        ,\n",
       "       67.        , 49.        ,  2.        , 76.        , 43.        ,\n",
       "       16.        ,  1.        , 12.        , 42.        , 53.        ,\n",
       "       26.5       , 40.        , 61.        , 60.5       ,  7.        ,\n",
       "       15.        , 54.        , 64.        , 37.        , 34.        ,\n",
       "       11.5       ,  8.        ,  0.33      , 38.        , 57.        ,\n",
       "       40.5       ,  0.92      , 19.        , 36.5       ,  0.75      ,\n",
       "        0.83      , 58.        ,  0.17      , 59.        , 14.5       ,\n",
       "       44.        ,  5.        , 51.        ,  3.        , 38.5       ])"
      ]
     },
     "execution_count": 192,
     "metadata": {},
     "output_type": "execute_result"
    }
   ],
   "source": [
    "test['Age'].unique()"
   ]
  },
  {
   "cell_type": "code",
   "execution_count": 193,
   "id": "0eb9d0bc",
   "metadata": {},
   "outputs": [
    {
     "data": {
      "text/plain": [
       "array([1, 0], dtype=int64)"
      ]
     },
     "execution_count": 193,
     "metadata": {},
     "output_type": "execute_result"
    }
   ],
   "source": [
    "test['Sex'].unique()"
   ]
  },
  {
   "cell_type": "code",
   "execution_count": 194,
   "id": "077582cf",
   "metadata": {},
   "outputs": [
    {
     "data": {
      "text/plain": [
       "PassengerId      0\n",
       "Pclass           0\n",
       "Name             0\n",
       "Sex              0\n",
       "Age              0\n",
       "SibSp            0\n",
       "Parch            0\n",
       "Ticket           0\n",
       "Fare             1\n",
       "Cabin          327\n",
       "Embarked         0\n",
       "dtype: int64"
      ]
     },
     "execution_count": 194,
     "metadata": {},
     "output_type": "execute_result"
    }
   ],
   "source": [
    "test.isnull().sum()"
   ]
  },
  {
   "cell_type": "code",
   "execution_count": 195,
   "id": "b3ab4d1e",
   "metadata": {},
   "outputs": [
    {
     "data": {
      "text/html": [
       "<div>\n",
       "<style scoped>\n",
       "    .dataframe tbody tr th:only-of-type {\n",
       "        vertical-align: middle;\n",
       "    }\n",
       "\n",
       "    .dataframe tbody tr th {\n",
       "        vertical-align: top;\n",
       "    }\n",
       "\n",
       "    .dataframe thead th {\n",
       "        text-align: right;\n",
       "    }\n",
       "</style>\n",
       "<table border=\"1\" class=\"dataframe\">\n",
       "  <thead>\n",
       "    <tr style=\"text-align: right;\">\n",
       "      <th></th>\n",
       "      <th>PassengerId</th>\n",
       "      <th>Pclass</th>\n",
       "      <th>Name</th>\n",
       "      <th>Sex</th>\n",
       "      <th>Age</th>\n",
       "      <th>SibSp</th>\n",
       "      <th>Parch</th>\n",
       "      <th>Ticket</th>\n",
       "      <th>Fare</th>\n",
       "      <th>Cabin</th>\n",
       "      <th>Embarked</th>\n",
       "    </tr>\n",
       "  </thead>\n",
       "  <tbody>\n",
       "    <tr>\n",
       "      <th>0</th>\n",
       "      <td>892</td>\n",
       "      <td>3</td>\n",
       "      <td>Kelly, Mr. James</td>\n",
       "      <td>1</td>\n",
       "      <td>34.5</td>\n",
       "      <td>0</td>\n",
       "      <td>0</td>\n",
       "      <td>330911</td>\n",
       "      <td>7.8292</td>\n",
       "      <td>NaN</td>\n",
       "      <td>Q</td>\n",
       "    </tr>\n",
       "    <tr>\n",
       "      <th>1</th>\n",
       "      <td>893</td>\n",
       "      <td>3</td>\n",
       "      <td>Wilkes, Mrs. James (Ellen Needs)</td>\n",
       "      <td>0</td>\n",
       "      <td>47.0</td>\n",
       "      <td>1</td>\n",
       "      <td>0</td>\n",
       "      <td>363272</td>\n",
       "      <td>7.0000</td>\n",
       "      <td>NaN</td>\n",
       "      <td>S</td>\n",
       "    </tr>\n",
       "    <tr>\n",
       "      <th>2</th>\n",
       "      <td>894</td>\n",
       "      <td>2</td>\n",
       "      <td>Myles, Mr. Thomas Francis</td>\n",
       "      <td>1</td>\n",
       "      <td>62.0</td>\n",
       "      <td>0</td>\n",
       "      <td>0</td>\n",
       "      <td>240276</td>\n",
       "      <td>9.6875</td>\n",
       "      <td>NaN</td>\n",
       "      <td>Q</td>\n",
       "    </tr>\n",
       "    <tr>\n",
       "      <th>3</th>\n",
       "      <td>895</td>\n",
       "      <td>3</td>\n",
       "      <td>Wirz, Mr. Albert</td>\n",
       "      <td>1</td>\n",
       "      <td>27.0</td>\n",
       "      <td>0</td>\n",
       "      <td>0</td>\n",
       "      <td>315154</td>\n",
       "      <td>8.6625</td>\n",
       "      <td>NaN</td>\n",
       "      <td>S</td>\n",
       "    </tr>\n",
       "    <tr>\n",
       "      <th>4</th>\n",
       "      <td>896</td>\n",
       "      <td>3</td>\n",
       "      <td>Hirvonen, Mrs. Alexander (Helga E Lindqvist)</td>\n",
       "      <td>0</td>\n",
       "      <td>22.0</td>\n",
       "      <td>1</td>\n",
       "      <td>1</td>\n",
       "      <td>3101298</td>\n",
       "      <td>12.2875</td>\n",
       "      <td>NaN</td>\n",
       "      <td>S</td>\n",
       "    </tr>\n",
       "  </tbody>\n",
       "</table>\n",
       "</div>"
      ],
      "text/plain": [
       "   PassengerId  Pclass                                          Name  Sex  \\\n",
       "0          892       3                              Kelly, Mr. James    1   \n",
       "1          893       3              Wilkes, Mrs. James (Ellen Needs)    0   \n",
       "2          894       2                     Myles, Mr. Thomas Francis    1   \n",
       "3          895       3                              Wirz, Mr. Albert    1   \n",
       "4          896       3  Hirvonen, Mrs. Alexander (Helga E Lindqvist)    0   \n",
       "\n",
       "    Age  SibSp  Parch   Ticket     Fare Cabin Embarked  \n",
       "0  34.5      0      0   330911   7.8292   NaN        Q  \n",
       "1  47.0      1      0   363272   7.0000   NaN        S  \n",
       "2  62.0      0      0   240276   9.6875   NaN        Q  \n",
       "3  27.0      0      0   315154   8.6625   NaN        S  \n",
       "4  22.0      1      1  3101298  12.2875   NaN        S  "
      ]
     },
     "execution_count": 195,
     "metadata": {},
     "output_type": "execute_result"
    }
   ],
   "source": [
    "test.head()"
   ]
  },
  {
   "cell_type": "code",
   "execution_count": 196,
   "id": "a6f4e5cf",
   "metadata": {},
   "outputs": [],
   "source": [
    "X_test = np.array(test[['Pclass', 'Sex', 'Age', 'SibSp', 'Parch']])"
   ]
  },
  {
   "cell_type": "code",
   "execution_count": 197,
   "id": "e2323074",
   "metadata": {},
   "outputs": [
    {
     "data": {
      "text/plain": [
       "(418, 5)"
      ]
     },
     "execution_count": 197,
     "metadata": {},
     "output_type": "execute_result"
    }
   ],
   "source": [
    "X_test.shape"
   ]
  },
  {
   "cell_type": "code",
   "execution_count": 198,
   "id": "09c57cd1",
   "metadata": {},
   "outputs": [],
   "source": [
    "mu_test = np.mean(X_test, axis=0)\n",
    "sigma_test = np.std(X_test, axis=0)\n",
    "X_test = (X_test - mu_test) / sigma_test"
   ]
  },
  {
   "cell_type": "code",
   "execution_count": 199,
   "id": "3616e970",
   "metadata": {},
   "outputs": [
    {
     "data": {
      "text/plain": [
       "array([[ 0.87348191,  0.75592895,  0.42809939, -0.49947002, -0.4002477 ],\n",
       "       [ 0.87348191, -1.32287566,  1.39949183,  0.61699237, -0.4002477 ],\n",
       "       [-0.31581919,  0.75592895,  2.56516276, -0.49947002, -0.4002477 ],\n",
       "       ...,\n",
       "       [ 0.87348191,  0.75592895,  0.73894497, -0.49947002, -0.4002477 ],\n",
       "       [ 0.87348191,  0.75592895, -0.38443088, -0.49947002, -0.4002477 ],\n",
       "       [ 0.87348191,  0.75592895, -0.38443088,  0.61699237,  0.61989583]])"
      ]
     },
     "execution_count": 199,
     "metadata": {},
     "output_type": "execute_result"
    }
   ],
   "source": [
    "X_test"
   ]
  },
  {
   "cell_type": "code",
   "execution_count": 200,
   "id": "a77b69a3",
   "metadata": {},
   "outputs": [],
   "source": [
    "X_test_map = map_feature(X_test[:, 0], X_test[:, 1], 2)"
   ]
  },
  {
   "cell_type": "code",
   "execution_count": 201,
   "id": "95af2203",
   "metadata": {},
   "outputs": [
    {
     "data": {
      "text/plain": [
       "(418, 5)"
      ]
     },
     "execution_count": 201,
     "metadata": {},
     "output_type": "execute_result"
    }
   ],
   "source": [
    "X_test_map.shape"
   ]
  },
  {
   "cell_type": "code",
   "execution_count": 202,
   "id": "c0aac6da",
   "metadata": {},
   "outputs": [
    {
     "data": {
      "text/plain": [
       "array([[ True,  True, False, False, False],\n",
       "       [ True,  True, False, False, False],\n",
       "       [ True,  True, False, False, False],\n",
       "       ...,\n",
       "       [ True,  True, False, False, False],\n",
       "       [ True,  True, False, False, False],\n",
       "       [ True,  True, False, False, False]])"
      ]
     },
     "execution_count": 202,
     "metadata": {},
     "output_type": "execute_result"
    }
   ],
   "source": [
    "X_test_map == X_test"
   ]
  },
  {
   "cell_type": "code",
   "execution_count": 203,
   "id": "ea22a1f7",
   "metadata": {},
   "outputs": [],
   "source": [
    "X_final_test=np.column_stack((X_test_map[:,0],X_test_map[:,1],X_test_map[:,2],X_test_map[:,3],X_test_map[:,4],X_test[:,2],X_test[:,3],X_test[:,4]))"
   ]
  },
  {
   "cell_type": "code",
   "execution_count": 204,
   "id": "833dc0e7",
   "metadata": {},
   "outputs": [
    {
     "data": {
      "text/plain": [
       "(418, 8)"
      ]
     },
     "execution_count": 204,
     "metadata": {},
     "output_type": "execute_result"
    }
   ],
   "source": [
    "X_final_test.shape"
   ]
  },
  {
   "cell_type": "code",
   "execution_count": 205,
   "id": "547cbc0e",
   "metadata": {},
   "outputs": [],
   "source": [
    "output_test = []\n",
    "for i in range(X_final_test.shape[0]):\n",
    "    value_test = sigmoid(np.dot(X_final_test[i], w_1) + b_1)\n",
    "    if value_test >= 0.5:\n",
    "        output_test.append(1)\n",
    "    else:\n",
    "        output_test.append(0)"
   ]
  },
  {
   "cell_type": "code",
   "execution_count": 207,
   "id": "dcfea6c9",
   "metadata": {},
   "outputs": [
    {
     "data": {
      "text/plain": [
       "128"
      ]
     },
     "execution_count": 207,
     "metadata": {},
     "output_type": "execute_result"
    }
   ],
   "source": [
    "output_test.count(1)"
   ]
  },
  {
   "cell_type": "code",
   "execution_count": 208,
   "id": "63c76ab2",
   "metadata": {},
   "outputs": [
    {
     "data": {
      "text/plain": [
       "290"
      ]
     },
     "execution_count": 208,
     "metadata": {},
     "output_type": "execute_result"
    }
   ],
   "source": [
    "output_test.count(0)"
   ]
  },
  {
   "cell_type": "code",
   "execution_count": 209,
   "id": "acfad996",
   "metadata": {},
   "outputs": [
    {
     "data": {
      "text/plain": [
       "418"
      ]
     },
     "execution_count": 209,
     "metadata": {},
     "output_type": "execute_result"
    }
   ],
   "source": [
    "290+128"
   ]
  },
  {
   "cell_type": "code",
   "execution_count": 210,
   "id": "c2e87ff0",
   "metadata": {},
   "outputs": [
    {
     "data": {
      "text/html": [
       "<div>\n",
       "<style scoped>\n",
       "    .dataframe tbody tr th:only-of-type {\n",
       "        vertical-align: middle;\n",
       "    }\n",
       "\n",
       "    .dataframe tbody tr th {\n",
       "        vertical-align: top;\n",
       "    }\n",
       "\n",
       "    .dataframe thead th {\n",
       "        text-align: right;\n",
       "    }\n",
       "</style>\n",
       "<table border=\"1\" class=\"dataframe\">\n",
       "  <thead>\n",
       "    <tr style=\"text-align: right;\">\n",
       "      <th></th>\n",
       "      <th>PassengerId</th>\n",
       "      <th>Pclass</th>\n",
       "      <th>Name</th>\n",
       "      <th>Sex</th>\n",
       "      <th>Age</th>\n",
       "      <th>SibSp</th>\n",
       "      <th>Parch</th>\n",
       "      <th>Ticket</th>\n",
       "      <th>Fare</th>\n",
       "      <th>Cabin</th>\n",
       "      <th>Embarked</th>\n",
       "    </tr>\n",
       "  </thead>\n",
       "  <tbody>\n",
       "    <tr>\n",
       "      <th>0</th>\n",
       "      <td>892</td>\n",
       "      <td>3</td>\n",
       "      <td>Kelly, Mr. James</td>\n",
       "      <td>1</td>\n",
       "      <td>34.5</td>\n",
       "      <td>0</td>\n",
       "      <td>0</td>\n",
       "      <td>330911</td>\n",
       "      <td>7.8292</td>\n",
       "      <td>NaN</td>\n",
       "      <td>Q</td>\n",
       "    </tr>\n",
       "  </tbody>\n",
       "</table>\n",
       "</div>"
      ],
      "text/plain": [
       "   PassengerId  Pclass              Name  Sex   Age  SibSp  Parch  Ticket  \\\n",
       "0          892       3  Kelly, Mr. James    1  34.5      0      0  330911   \n",
       "\n",
       "     Fare Cabin Embarked  \n",
       "0  7.8292   NaN        Q  "
      ]
     },
     "execution_count": 210,
     "metadata": {},
     "output_type": "execute_result"
    }
   ],
   "source": [
    "test.head(1)"
   ]
  },
  {
   "cell_type": "code",
   "execution_count": 211,
   "id": "0806dcf2",
   "metadata": {},
   "outputs": [],
   "source": [
    "PassengerId = np.array(test['PassengerId'])"
   ]
  },
  {
   "cell_type": "code",
   "execution_count": 212,
   "id": "534f7d08",
   "metadata": {},
   "outputs": [
    {
     "data": {
      "text/plain": [
       "(418,)"
      ]
     },
     "execution_count": 212,
     "metadata": {},
     "output_type": "execute_result"
    }
   ],
   "source": [
    "PassengerId.shape"
   ]
  },
  {
   "cell_type": "code",
   "execution_count": 215,
   "id": "837bdb1d",
   "metadata": {},
   "outputs": [
    {
     "data": {
      "text/plain": [
       "128"
      ]
     },
     "execution_count": 215,
     "metadata": {},
     "output_type": "execute_result"
    }
   ],
   "source": [
    "output_test.count(1)"
   ]
  },
  {
   "cell_type": "code",
   "execution_count": 216,
   "id": "967a0c67",
   "metadata": {},
   "outputs": [],
   "source": [
    "output_test = np.array(output_test)"
   ]
  },
  {
   "cell_type": "code",
   "execution_count": 217,
   "id": "b6975522",
   "metadata": {},
   "outputs": [
    {
     "data": {
      "text/plain": [
       "(418,)"
      ]
     },
     "execution_count": 217,
     "metadata": {},
     "output_type": "execute_result"
    }
   ],
   "source": [
    "output_test.shape"
   ]
  },
  {
   "cell_type": "code",
   "execution_count": 228,
   "id": "6b330dbb",
   "metadata": {},
   "outputs": [],
   "source": [
    "final_dataframe = pd.DataFrame([PassengerId, output_test])"
   ]
  },
  {
   "cell_type": "code",
   "execution_count": 229,
   "id": "40752c00",
   "metadata": {},
   "outputs": [],
   "source": [
    "final_dataframe = final_dataframe.T"
   ]
  },
  {
   "cell_type": "code",
   "execution_count": 230,
   "id": "5607e5d5",
   "metadata": {},
   "outputs": [
    {
     "data": {
      "text/html": [
       "<div>\n",
       "<style scoped>\n",
       "    .dataframe tbody tr th:only-of-type {\n",
       "        vertical-align: middle;\n",
       "    }\n",
       "\n",
       "    .dataframe tbody tr th {\n",
       "        vertical-align: top;\n",
       "    }\n",
       "\n",
       "    .dataframe thead th {\n",
       "        text-align: right;\n",
       "    }\n",
       "</style>\n",
       "<table border=\"1\" class=\"dataframe\">\n",
       "  <thead>\n",
       "    <tr style=\"text-align: right;\">\n",
       "      <th></th>\n",
       "      <th>0</th>\n",
       "      <th>1</th>\n",
       "    </tr>\n",
       "  </thead>\n",
       "  <tbody>\n",
       "    <tr>\n",
       "      <th>0</th>\n",
       "      <td>892</td>\n",
       "      <td>0</td>\n",
       "    </tr>\n",
       "    <tr>\n",
       "      <th>1</th>\n",
       "      <td>893</td>\n",
       "      <td>0</td>\n",
       "    </tr>\n",
       "    <tr>\n",
       "      <th>2</th>\n",
       "      <td>894</td>\n",
       "      <td>0</td>\n",
       "    </tr>\n",
       "    <tr>\n",
       "      <th>3</th>\n",
       "      <td>895</td>\n",
       "      <td>0</td>\n",
       "    </tr>\n",
       "    <tr>\n",
       "      <th>4</th>\n",
       "      <td>896</td>\n",
       "      <td>0</td>\n",
       "    </tr>\n",
       "  </tbody>\n",
       "</table>\n",
       "</div>"
      ],
      "text/plain": [
       "     0  1\n",
       "0  892  0\n",
       "1  893  0\n",
       "2  894  0\n",
       "3  895  0\n",
       "4  896  0"
      ]
     },
     "execution_count": 230,
     "metadata": {},
     "output_type": "execute_result"
    }
   ],
   "source": [
    "final_dataframe.head()"
   ]
  },
  {
   "cell_type": "code",
   "execution_count": 231,
   "id": "12c80ac8",
   "metadata": {},
   "outputs": [],
   "source": [
    "final_dataframe.rename(columns = {0:'PassengerId', 1:'Survived'}, inplace = True)"
   ]
  },
  {
   "cell_type": "code",
   "execution_count": 233,
   "id": "1d953751",
   "metadata": {},
   "outputs": [
    {
     "data": {
      "text/html": [
       "<div>\n",
       "<style scoped>\n",
       "    .dataframe tbody tr th:only-of-type {\n",
       "        vertical-align: middle;\n",
       "    }\n",
       "\n",
       "    .dataframe tbody tr th {\n",
       "        vertical-align: top;\n",
       "    }\n",
       "\n",
       "    .dataframe thead th {\n",
       "        text-align: right;\n",
       "    }\n",
       "</style>\n",
       "<table border=\"1\" class=\"dataframe\">\n",
       "  <thead>\n",
       "    <tr style=\"text-align: right;\">\n",
       "      <th></th>\n",
       "      <th>PassengerId</th>\n",
       "      <th>Survived</th>\n",
       "    </tr>\n",
       "  </thead>\n",
       "  <tbody>\n",
       "    <tr>\n",
       "      <th>0</th>\n",
       "      <td>892</td>\n",
       "      <td>0</td>\n",
       "    </tr>\n",
       "    <tr>\n",
       "      <th>1</th>\n",
       "      <td>893</td>\n",
       "      <td>0</td>\n",
       "    </tr>\n",
       "    <tr>\n",
       "      <th>2</th>\n",
       "      <td>894</td>\n",
       "      <td>0</td>\n",
       "    </tr>\n",
       "    <tr>\n",
       "      <th>3</th>\n",
       "      <td>895</td>\n",
       "      <td>0</td>\n",
       "    </tr>\n",
       "    <tr>\n",
       "      <th>4</th>\n",
       "      <td>896</td>\n",
       "      <td>0</td>\n",
       "    </tr>\n",
       "  </tbody>\n",
       "</table>\n",
       "</div>"
      ],
      "text/plain": [
       "   PassengerId  Survived\n",
       "0          892         0\n",
       "1          893         0\n",
       "2          894         0\n",
       "3          895         0\n",
       "4          896         0"
      ]
     },
     "execution_count": 233,
     "metadata": {},
     "output_type": "execute_result"
    }
   ],
   "source": [
    "final_dataframe.head()"
   ]
  },
  {
   "cell_type": "code",
   "execution_count": 234,
   "id": "b28c776c",
   "metadata": {},
   "outputs": [],
   "source": [
    "final_dataframe.to_csv('gender_submission.csv', index=False)"
   ]
  },
  {
   "cell_type": "code",
   "execution_count": null,
   "id": "2bd485f0",
   "metadata": {},
   "outputs": [],
   "source": []
  }
 ],
 "metadata": {
  "kernelspec": {
   "display_name": "Python 3 (ipykernel)",
   "language": "python",
   "name": "python3"
  },
  "language_info": {
   "codemirror_mode": {
    "name": "ipython",
    "version": 3
   },
   "file_extension": ".py",
   "mimetype": "text/x-python",
   "name": "python",
   "nbconvert_exporter": "python",
   "pygments_lexer": "ipython3",
   "version": "3.9.12"
  }
 },
 "nbformat": 4,
 "nbformat_minor": 5
}
