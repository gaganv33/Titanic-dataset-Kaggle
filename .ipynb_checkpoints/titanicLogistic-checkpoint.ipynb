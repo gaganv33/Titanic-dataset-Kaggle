{
 "cells": [
  {
   "cell_type": "code",
   "execution_count": 1,
   "id": "c57a57cf",
   "metadata": {},
   "outputs": [],
   "source": [
    "import numpy as np\n",
    "import pandas as pd\n",
    "import seaborn as sns\n",
    "import matplotlib.pyplot as plt"
   ]
  },
  {
   "cell_type": "code",
   "execution_count": 2,
   "id": "42d7ece4",
   "metadata": {},
   "outputs": [],
   "source": [
    "train = pd.read_csv('train.csv')"
   ]
  },
  {
   "cell_type": "code",
   "execution_count": 3,
   "id": "cb9b7ed4",
   "metadata": {},
   "outputs": [],
   "source": [
    "train['Sex'].replace({\n",
    "    'male':1,\n",
    "    'female':0\n",
    "},inplace=True)"
   ]
  },
  {
   "cell_type": "code",
   "execution_count": 4,
   "id": "39729250",
   "metadata": {},
   "outputs": [],
   "source": [
    "train['Age'].replace({\n",
    "    np.nan : np.sum(train['Age']) / train.shape[0]\n",
    "}, inplace=True)"
   ]
  },
  {
   "cell_type": "code",
   "execution_count": 5,
   "id": "4fbe5c94",
   "metadata": {},
   "outputs": [
    {
     "data": {
      "text/plain": [
       "array([22.        , 38.        , 26.        , 35.        , 23.79929293,\n",
       "       54.        ,  2.        , 27.        , 14.        ,  4.        ,\n",
       "       58.        , 20.        , 39.        , 55.        , 31.        ,\n",
       "       34.        , 15.        , 28.        ,  8.        , 19.        ,\n",
       "       40.        , 66.        , 42.        , 21.        , 18.        ,\n",
       "        3.        ,  7.        , 49.        , 29.        , 65.        ,\n",
       "       28.5       ,  5.        , 11.        , 45.        , 17.        ,\n",
       "       32.        , 16.        , 25.        ,  0.83      , 30.        ,\n",
       "       33.        , 23.        , 24.        , 46.        , 59.        ,\n",
       "       71.        , 37.        , 47.        , 14.5       , 70.5       ,\n",
       "       32.5       , 12.        ,  9.        , 36.5       , 51.        ,\n",
       "       55.5       , 40.5       , 44.        ,  1.        , 61.        ,\n",
       "       56.        , 50.        , 36.        , 45.5       , 20.5       ,\n",
       "       62.        , 41.        , 52.        , 63.        , 23.5       ,\n",
       "        0.92      , 43.        , 60.        , 10.        , 64.        ,\n",
       "       13.        , 48.        ,  0.75      , 53.        , 57.        ,\n",
       "       80.        , 70.        , 24.5       ,  6.        ,  0.67      ,\n",
       "       30.5       ,  0.42      , 34.5       , 74.        ])"
      ]
     },
     "execution_count": 5,
     "metadata": {},
     "output_type": "execute_result"
    }
   ],
   "source": [
    "train['Age'].unique()"
   ]
  },
  {
   "cell_type": "code",
   "execution_count": 6,
   "id": "38b0040d",
   "metadata": {},
   "outputs": [
    {
     "data": {
      "text/plain": [
       "PassengerId      0\n",
       "Survived         0\n",
       "Pclass           0\n",
       "Name             0\n",
       "Sex              0\n",
       "Age              0\n",
       "SibSp            0\n",
       "Parch            0\n",
       "Ticket           0\n",
       "Fare             0\n",
       "Cabin          687\n",
       "Embarked         2\n",
       "dtype: int64"
      ]
     },
     "execution_count": 6,
     "metadata": {},
     "output_type": "execute_result"
    }
   ],
   "source": [
    "train.isnull().sum()"
   ]
  },
  {
   "cell_type": "code",
   "execution_count": 7,
   "id": "d92bb075",
   "metadata": {},
   "outputs": [],
   "source": [
    "X = np.array(train[['Pclass', 'Sex', 'Age']])"
   ]
  },
  {
   "cell_type": "code",
   "execution_count": 8,
   "id": "30a05ed5",
   "metadata": {},
   "outputs": [
    {
     "data": {
      "text/plain": [
       "(891, 3)"
      ]
     },
     "execution_count": 8,
     "metadata": {},
     "output_type": "execute_result"
    }
   ],
   "source": [
    "X.shape"
   ]
  },
  {
   "cell_type": "code",
   "execution_count": 9,
   "id": "80108bf2",
   "metadata": {},
   "outputs": [],
   "source": [
    "def map_feature(x1, x2, x3, degree):\n",
    "    x1 = np.atleast_1d(x1)\n",
    "    x2 = np.atleast_1d(x2)\n",
    "    x3 = np.atleast_1d(x3)\n",
    "    \n",
    "    out = []\n",
    "    for i in range(1 ,degree + 1):\n",
    "        for j in range(i+1):\n",
    "            out.append((x1 ** i) * (x2 ** (i - j)) * (x3 ** j))\n",
    "    return np.stack(out, axis=1)"
   ]
  },
  {
   "cell_type": "code",
   "execution_count": 10,
   "id": "9ae450cc",
   "metadata": {},
   "outputs": [],
   "source": [
    "# Normalizing the training dataset\n",
    "mu_X = np.mean(X, axis=0)\n",
    "sigma_X = np.std(X, axis=0)\n",
    "X = (X - mu_X) / sigma_X"
   ]
  },
  {
   "cell_type": "code",
   "execution_count": 11,
   "id": "a70644ed",
   "metadata": {},
   "outputs": [
    {
     "data": {
      "text/plain": [
       "3.8976312260468835"
      ]
     },
     "execution_count": 11,
     "metadata": {},
     "output_type": "execute_result"
    }
   ],
   "source": [
    "X.max()"
   ]
  },
  {
   "cell_type": "code",
   "execution_count": 12,
   "id": "4cabd6ab",
   "metadata": {},
   "outputs": [
    {
     "data": {
      "text/plain": [
       "(891, 3)"
      ]
     },
     "execution_count": 12,
     "metadata": {},
     "output_type": "execute_result"
    }
   ],
   "source": [
    "X.shape"
   ]
  },
  {
   "cell_type": "code",
   "execution_count": 13,
   "id": "e2730986",
   "metadata": {},
   "outputs": [],
   "source": [
    "X_train = map_feature(X[:, 0], X[:, 1], X[:, 2], 3)"
   ]
  },
  {
   "cell_type": "code",
   "execution_count": 20,
   "id": "33b91d9b",
   "metadata": {},
   "outputs": [
    {
     "data": {
      "text/plain": [
       "(891, 9)"
      ]
     },
     "execution_count": 20,
     "metadata": {},
     "output_type": "execute_result"
    }
   ],
   "source": [
    "X_train.shape"
   ]
  },
  {
   "cell_type": "code",
   "execution_count": 21,
   "id": "b1ef867e",
   "metadata": {},
   "outputs": [],
   "source": [
    "Y_train = np.array(train['Survived'])"
   ]
  },
  {
   "cell_type": "code",
   "execution_count": 22,
   "id": "ce4bfbe3",
   "metadata": {},
   "outputs": [
    {
     "data": {
      "text/plain": [
       "(891,)"
      ]
     },
     "execution_count": 22,
     "metadata": {},
     "output_type": "execute_result"
    }
   ],
   "source": [
    "Y_train.shape"
   ]
  },
  {
   "cell_type": "code",
   "execution_count": 23,
   "id": "9a7a7578",
   "metadata": {},
   "outputs": [],
   "source": [
    "# Definition for the sigmoid function\n",
    "def sigmoid(z):\n",
    "    g = 1.0 / (1 + np.exp(-z))\n",
    "    return g"
   ]
  },
  {
   "cell_type": "code",
   "execution_count": 42,
   "id": "d38b5e57",
   "metadata": {},
   "outputs": [],
   "source": [
    "# Function to find the Cost function Value\n",
    "def compute_cost(x, y, w, b, lambda_=1):\n",
    "    m, n = x.shape\n",
    "    \n",
    "    z = np.dot(x, w) + b\n",
    "    f_wb = sigmoid(z)\n",
    "    \n",
    "    cost = (-(1.0/m)*np.sum(y*np.log(f_wb) + (1-y)*np.log(1-f_wb))) + (lambda_/(2*m))*np.sum(np.square(w))\n",
    "    return cost"
   ]
  },
  {
   "cell_type": "code",
   "execution_count": 43,
   "id": "6022b28f",
   "metadata": {},
   "outputs": [],
   "source": [
    "# Function to find the gradient of the parameters\n",
    "def compute_gradient(x, y, w, b, lambda_=1):\n",
    "    m, n = x.shape\n",
    "    \n",
    "    dw = np.zeros((n, ))\n",
    "    db = 0.0\n",
    "    \n",
    "    for i in range(m):\n",
    "        z_i = np.dot(x[i], w) + b\n",
    "        f_wb_i = sigmoid(z_i)\n",
    "        err_i = f_wb_i - y[i]\n",
    "        for j in range(n):\n",
    "            dw[j] = dw[j] + err_i * x[i, j]\n",
    "        db = db + err_i\n",
    "    dw = dw / m\n",
    "    db = db / m\n",
    "    \n",
    "    # The Regularization Term\n",
    "    for j in range(n):\n",
    "        dw[j] = dw[j] + (lambda_/m) * w[j]\n",
    "    return dw, db"
   ]
  },
  {
   "cell_type": "code",
   "execution_count": 44,
   "id": "fd3cb0ac",
   "metadata": {},
   "outputs": [],
   "source": [
    "# Function to calulate the gradient descent\n",
    "def gradient_descent(x, y, max_iter):\n",
    "    m, n = x.shape\n",
    "    \n",
    "    alpha = 1e-2\n",
    "    w = np.zeros((n, ))\n",
    "    b = 0.0\n",
    "    \n",
    "    J_hist = []\n",
    "    \n",
    "    for i in range(max_iter):\n",
    "        # Finding the value of the gradient i.e., dw and db\n",
    "        dw, db = compute_gradient(x, y , w, b)\n",
    "        \n",
    "        # Updating the values of the parameters w and b\n",
    "        w = w - (alpha * dw)\n",
    "        b = b - (alpha * db)\n",
    "        \n",
    "        # Finding the value of the cost function\n",
    "        J_hist.append(compute_cost(x, y, w, b))\n",
    "        \n",
    "        # Printing the cost after every 50 iterations\n",
    "        if i%50==0:\n",
    "            print(f\"Iteration: {i}, Cost: {J_hist[i]}\")\n",
    "    \n",
    "    # Plotting the learning curve\n",
    "    plt.plot(range(max_iter), J_hist)\n",
    "    plt.xlabel(\"Iterations\")\n",
    "    plt.ylabel('Cost Function Value')\n",
    "    plt.title(\"Learning Curve\")\n",
    "    plt.show()\n",
    "    return w, b"
   ]
  },
  {
   "cell_type": "code",
   "execution_count": 45,
   "id": "dc74604c",
   "metadata": {},
   "outputs": [
    {
     "data": {
      "text/plain": [
       "(891, 9)"
      ]
     },
     "execution_count": 45,
     "metadata": {},
     "output_type": "execute_result"
    }
   ],
   "source": [
    "X_train.shape"
   ]
  },
  {
   "cell_type": "code",
   "execution_count": 46,
   "id": "f6a65ee7",
   "metadata": {},
   "outputs": [
    {
     "data": {
      "text/plain": [
       "(891,)"
      ]
     },
     "execution_count": 46,
     "metadata": {},
     "output_type": "execute_result"
    }
   ],
   "source": [
    "Y_train.shape"
   ]
  },
  {
   "cell_type": "code",
   "execution_count": 47,
   "id": "075e4594",
   "metadata": {
    "scrolled": true
   },
   "outputs": [
    {
     "name": "stdout",
     "output_type": "stream",
     "text": [
      "Iteration: 0, Cost: 0.6885505781976211\n",
      "Iteration: 50, Cost: 0.6392995330071446\n",
      "Iteration: 100, Cost: 0.6263155944246765\n",
      "Iteration: 150, Cost: 0.6170722835666925\n",
      "Iteration: 200, Cost: 0.6097113011906033\n",
      "Iteration: 250, Cost: 0.6036316657002845\n",
      "Iteration: 300, Cost: 0.5984966029873132\n",
      "Iteration: 350, Cost: 0.5940898741602443\n",
      "Iteration: 400, Cost: 0.5902643999386878\n",
      "Iteration: 450, Cost: 0.5869151100802243\n",
      "Iteration: 500, Cost: 0.583963652229257\n",
      "Iteration: 550, Cost: 0.5813494969316801\n",
      "Iteration: 600, Cost: 0.5790245481846187\n",
      "Iteration: 650, Cost: 0.5769497337956659\n",
      "Iteration: 700, Cost: 0.5750927561830707\n",
      "Iteration: 750, Cost: 0.5734265497376239\n",
      "Iteration: 800, Cost: 0.5719281846998935\n",
      "Iteration: 850, Cost: 0.570578063495644\n",
      "Iteration: 900, Cost: 0.5693593152254622\n",
      "Iteration: 950, Cost: 0.56825732870515\n",
      "Iteration: 1000, Cost: 0.5672593851973339\n",
      "Iteration: 1050, Cost: 0.5663543647335644\n",
      "Iteration: 1100, Cost: 0.5655325079963923\n",
      "Iteration: 1150, Cost: 0.5647852209769915\n",
      "Iteration: 1200, Cost: 0.5641049131254877\n",
      "Iteration: 1250, Cost: 0.5634848621080907\n",
      "Iteration: 1300, Cost: 0.5629190999653108\n",
      "Iteration: 1350, Cost: 0.5624023166695201\n",
      "Iteration: 1400, Cost: 0.5619297779603858\n",
      "Iteration: 1450, Cost: 0.561497254992097\n",
      "Iteration: 1500, Cost: 0.5611009638222878\n",
      "Iteration: 1550, Cost: 0.5607375131533263\n",
      "Iteration: 1600, Cost: 0.5604038590327454\n",
      "Iteration: 1650, Cost: 0.5600972654524563\n",
      "Iteration: 1700, Cost: 0.5598152699713529\n",
      "Iteration: 1750, Cost: 0.5595556536341633\n",
      "Iteration: 1800, Cost: 0.5593164145791435\n",
      "Iteration: 1850, Cost: 0.5590957448246404\n",
      "Iteration: 1900, Cost: 0.5588920098043221\n",
      "Iteration: 1950, Cost: 0.5587037302865802\n",
      "Iteration: 2000, Cost: 0.5585295663680325\n",
      "Iteration: 2050, Cost: 0.558368303276338\n",
      "Iteration: 2100, Cost: 0.5582188387554134\n",
      "Iteration: 2150, Cost: 0.5580801718379443\n",
      "Iteration: 2200, Cost: 0.5579513928369023\n",
      "Iteration: 2250, Cost: 0.5578316744104898\n",
      "Iteration: 2300, Cost: 0.5577202635742168\n",
      "Iteration: 2350, Cost: 0.557616474550263\n",
      "Iteration: 2400, Cost: 0.5575196823583422\n",
      "Iteration: 2450, Cost: 0.5574293170643546\n",
      "Iteration: 2500, Cost: 0.557344858613496\n",
      "Iteration: 2550, Cost: 0.5572658321834526\n",
      "Iteration: 2600, Cost: 0.5571918040010645\n",
      "Iteration: 2650, Cost: 0.5571223775725667\n",
      "Iteration: 2700, Cost: 0.5570571902833573\n",
      "Iteration: 2750, Cost: 0.5569959103283479\n",
      "Iteration: 2800, Cost: 0.5569382339383925\n",
      "Iteration: 2850, Cost: 0.5568838828721915\n",
      "Iteration: 2900, Cost: 0.556832602146484\n",
      "Iteration: 2950, Cost: 0.5567841579803364\n",
      "Iteration: 3000, Cost: 0.5567383359319859\n",
      "Iteration: 3050, Cost: 0.5566949392090162\n",
      "Iteration: 3100, Cost: 0.55665378713471\n",
      "Iteration: 3150, Cost: 0.5566147137552301\n",
      "Iteration: 3200, Cost: 0.5565775665739043\n",
      "Iteration: 3250, Cost: 0.5565422054003092\n",
      "Iteration: 3300, Cost: 0.556508501303119\n",
      "Iteration: 3350, Cost: 0.5564763356568216\n",
      "Iteration: 3400, Cost: 0.5564455992733978\n",
      "Iteration: 3450, Cost: 0.5564161916109643\n",
      "Iteration: 3500, Cost: 0.556388020052179\n",
      "Iteration: 3550, Cost: 0.556360999245919\n",
      "Iteration: 3600, Cost: 0.5563350505063834\n",
      "Iteration: 3650, Cost: 0.5563101012643447\n",
      "Iteration: 3700, Cost: 0.5562860845657831\n",
      "Iteration: 3750, Cost: 0.5562629386136011\n",
      "Iteration: 3800, Cost: 0.5562406063485281\n",
      "Iteration: 3850, Cost: 0.5562190350656883\n",
      "Iteration: 3900, Cost: 0.5561981760636525\n",
      "Iteration: 3950, Cost: 0.5561779843230813\n",
      "Iteration: 4000, Cost: 0.5561584182123431\n",
      "Iteration: 4050, Cost: 0.5561394392177359\n",
      "Iteration: 4100, Cost: 0.5561210116961555\n",
      "Iteration: 4150, Cost: 0.5561031026482562\n",
      "Iteration: 4200, Cost: 0.5560856815103281\n",
      "Iteration: 4250, Cost: 0.5560687199632726\n",
      "Iteration: 4300, Cost: 0.5560521917572103\n",
      "Iteration: 4350, Cost: 0.5560360725503837\n",
      "Iteration: 4400, Cost: 0.5560203397611367\n",
      "Iteration: 4450, Cost: 0.5560049724318651\n",
      "Iteration: 4500, Cost: 0.5559899511039255\n",
      "Iteration: 4550, Cost: 0.5559752577025837\n",
      "Iteration: 4600, Cost: 0.555960875431163\n",
      "Iteration: 4650, Cost: 0.5559467886736232\n",
      "Iteration: 4700, Cost: 0.5559329829048749\n",
      "Iteration: 4750, Cost: 0.5559194446081864\n",
      "Iteration: 4800, Cost: 0.5559061611991024\n",
      "Iteration: 4850, Cost: 0.5558931209553376\n",
      "Iteration: 4900, Cost: 0.555880312952161\n",
      "Iteration: 4950, Cost: 0.5558677270028206\n",
      "Iteration: 5000, Cost: 0.5558553536036019\n",
      "Iteration: 5050, Cost: 0.5558431838831481\n",
      "Iteration: 5100, Cost: 0.5558312095556934\n",
      "Iteration: 5150, Cost: 0.5558194228779024\n",
      "Iteration: 5200, Cost: 0.5558078166090228\n",
      "Iteration: 5250, Cost: 0.55579638397409\n",
      "Iteration: 5300, Cost: 0.5557851186299424\n",
      "Iteration: 5350, Cost: 0.5557740146338196\n",
      "Iteration: 5400, Cost: 0.5557630664143495\n",
      "Iteration: 5450, Cost: 0.5557522687447274\n",
      "Iteration: 5500, Cost: 0.555741616717921\n",
      "Iteration: 5550, Cost: 0.555731105723743\n",
      "Iteration: 5600, Cost: 0.5557207314276411\n",
      "Iteration: 5650, Cost: 0.5557104897510802\n",
      "Iteration: 5700, Cost: 0.5557003768533865\n",
      "Iteration: 5750, Cost: 0.5556903891149443\n",
      "Iteration: 5800, Cost: 0.555680523121642\n",
      "Iteration: 5850, Cost: 0.5556707756504687\n",
      "Iteration: 5900, Cost: 0.5556611436561771\n",
      "Iteration: 5950, Cost: 0.5556516242589278\n",
      "Iteration: 6000, Cost: 0.5556422147328433\n",
      "Iteration: 6050, Cost: 0.5556329124954016\n",
      "Iteration: 6100, Cost: 0.5556237150976056\n",
      "Iteration: 6150, Cost: 0.5556146202148696\n",
      "Iteration: 6200, Cost: 0.5556056256385705\n",
      "Iteration: 6250, Cost: 0.5555967292682126\n",
      "Iteration: 6300, Cost: 0.5555879291041589\n",
      "Iteration: 6350, Cost: 0.5555792232408898\n",
      "Iteration: 6400, Cost: 0.5555706098607476\n",
      "Iteration: 6450, Cost: 0.5555620872281294\n",
      "Iteration: 6500, Cost: 0.5555536536840994\n",
      "Iteration: 6550, Cost: 0.5555453076413855\n",
      "Iteration: 6600, Cost: 0.5555370475797335\n",
      "Iteration: 6650, Cost: 0.5555288720415928\n",
      "Iteration: 6700, Cost: 0.5555207796281088\n",
      "Iteration: 6750, Cost: 0.5555127689953983\n",
      "Iteration: 6800, Cost: 0.5555048388510907\n",
      "Iteration: 6850, Cost: 0.5554969879511112\n",
      "Iteration: 6900, Cost: 0.5554892150966915\n",
      "Iteration: 6950, Cost: 0.5554815191315893\n",
      "Iteration: 7000, Cost: 0.555473898939504\n",
      "Iteration: 7050, Cost: 0.5554663534416712\n",
      "Iteration: 7100, Cost: 0.5554588815946259\n",
      "Iteration: 7150, Cost: 0.5554514823881204\n",
      "Iteration: 7200, Cost: 0.5554441548431862\n",
      "Iteration: 7250, Cost: 0.5554368980103301\n",
      "Iteration: 7300, Cost: 0.5554297109678541\n",
      "Iteration: 7350, Cost: 0.5554225928202908\n",
      "Iteration: 7400, Cost: 0.5554155426969454\n",
      "Iteration: 7450, Cost: 0.5554085597505367\n",
      "Iteration: 7500, Cost: 0.5554016431559319\n",
      "Iteration: 7550, Cost: 0.5553947921089647\n",
      "Iteration: 7600, Cost: 0.5553880058253353\n",
      "Iteration: 7650, Cost: 0.5553812835395823\n",
      "Iteration: 7700, Cost: 0.5553746245041243\n",
      "Iteration: 7750, Cost: 0.5553680279883657\n",
      "Iteration: 7800, Cost: 0.5553614932778607\n",
      "Iteration: 7850, Cost: 0.555355019673533\n",
      "Iteration: 7900, Cost: 0.5553486064909465\n",
      "Iteration: 7950, Cost: 0.5553422530596245\n",
      "Iteration: 8000, Cost: 0.555335958722411\n",
      "Iteration: 8050, Cost: 0.5553297228348761\n",
      "Iteration: 8100, Cost: 0.5553235447647574\n",
      "Iteration: 8150, Cost: 0.5553174238914383\n",
      "Iteration: 8200, Cost: 0.5553113596054583\n",
      "Iteration: 8250, Cost: 0.5553053513080549\n",
      "Iteration: 8300, Cost: 0.5552993984107351\n",
      "Iteration: 8350, Cost: 0.5552935003348709\n",
      "Iteration: 8400, Cost: 0.5552876565113233\n",
      "Iteration: 8450, Cost: 0.5552818663800854\n",
      "Iteration: 8500, Cost: 0.5552761293899505\n",
      "Iteration: 8550, Cost: 0.555270444998199\n",
      "Iteration: 8600, Cost: 0.5552648126703027\n",
      "Iteration: 8650, Cost: 0.555259231879649\n",
      "Iteration: 8700, Cost: 0.5552537021072788\n",
      "Iteration: 8750, Cost: 0.555248222841642\n",
      "Iteration: 8800, Cost: 0.5552427935783648\n",
      "Iteration: 8850, Cost: 0.5552374138200316\n",
      "Iteration: 8900, Cost: 0.5552320830759786\n",
      "Iteration: 8950, Cost: 0.5552268008620995\n",
      "Iteration: 9000, Cost: 0.5552215667006603\n",
      "Iteration: 9050, Cost: 0.5552163801201255\n",
      "Iteration: 9100, Cost: 0.5552112406549938\n",
      "Iteration: 9150, Cost: 0.5552061478456405\n",
      "Iteration: 9200, Cost: 0.5552011012381707\n",
      "Iteration: 9250, Cost: 0.5551961003842772\n",
      "Iteration: 9300, Cost: 0.5551911448411088\n",
      "Iteration: 9350, Cost: 0.555186234171141\n",
      "Iteration: 9400, Cost: 0.5551813679420569\n",
      "Iteration: 9450, Cost: 0.5551765457266318\n",
      "Iteration: 9500, Cost: 0.5551717671026231\n",
      "Iteration: 9550, Cost: 0.5551670316526665\n",
      "Iteration: 9600, Cost: 0.5551623389641749\n",
      "Iteration: 9650, Cost: 0.5551576886292442\n",
      "Iteration: 9700, Cost: 0.5551530802445617\n",
      "Iteration: 9750, Cost: 0.555148513411318\n",
      "Iteration: 9800, Cost: 0.555143987735124\n"
     ]
    },
    {
     "name": "stdout",
     "output_type": "stream",
     "text": [
      "Iteration: 9850, Cost: 0.5551395028259305\n",
      "Iteration: 9900, Cost: 0.5551350582979504\n",
      "Iteration: 9950, Cost: 0.5551306537695857\n"
     ]
    },
    {
     "data": {
      "image/png": "[encoded data removed]",
      "text/plain": [
       "<Figure size 432x288 with 1 Axes>"
      ]
     },
     "metadata": {
      "needs_background": "light"
     },
     "output_type": "display_data"
    }
   ],
   "source": [
    "w, b = gradient_descent(X_train, Y_train, 10000)"
   ]
  },
  {
   "cell_type": "code",
   "execution_count": 48,
   "id": "d5eb1d78",
   "metadata": {},
   "outputs": [
    {
     "data": {
      "text/html": [
       "<div>\n",
       "<style scoped>\n",
       "    .dataframe tbody tr th:only-of-type {\n",
       "        vertical-align: middle;\n",
       "    }\n",
       "\n",
       "    .dataframe tbody tr th {\n",
       "        vertical-align: top;\n",
       "    }\n",
       "\n",
       "    .dataframe thead th {\n",
       "        text-align: right;\n",
       "    }\n",
       "</style>\n",
       "<table border=\"1\" class=\"dataframe\">\n",
       "  <thead>\n",
       "    <tr style=\"text-align: right;\">\n",
       "      <th></th>\n",
       "      <th>PassengerId</th>\n",
       "      <th>Survived</th>\n",
       "      <th>Pclass</th>\n",
       "      <th>Name</th>\n",
       "      <th>Sex</th>\n",
       "      <th>Age</th>\n",
       "      <th>SibSp</th>\n",
       "      <th>Parch</th>\n",
       "      <th>Ticket</th>\n",
       "      <th>Fare</th>\n",
       "      <th>Cabin</th>\n",
       "      <th>Embarked</th>\n",
       "    </tr>\n",
       "  </thead>\n",
       "  <tbody>\n",
       "    <tr>\n",
       "      <th>0</th>\n",
       "      <td>1</td>\n",
       "      <td>0</td>\n",
       "      <td>3</td>\n",
       "      <td>Braund, Mr. Owen Harris</td>\n",
       "      <td>1</td>\n",
       "      <td>22.0</td>\n",
       "      <td>1</td>\n",
       "      <td>0</td>\n",
       "      <td>A/5 21171</td>\n",
       "      <td>7.2500</td>\n",
       "      <td>NaN</td>\n",
       "      <td>S</td>\n",
       "    </tr>\n",
       "    <tr>\n",
       "      <th>1</th>\n",
       "      <td>2</td>\n",
       "      <td>1</td>\n",
       "      <td>1</td>\n",
       "      <td>Cumings, Mrs. John Bradley (Florence Briggs Th...</td>\n",
       "      <td>0</td>\n",
       "      <td>38.0</td>\n",
       "      <td>1</td>\n",
       "      <td>0</td>\n",
       "      <td>PC 17599</td>\n",
       "      <td>71.2833</td>\n",
       "      <td>C85</td>\n",
       "      <td>C</td>\n",
       "    </tr>\n",
       "    <tr>\n",
       "      <th>2</th>\n",
       "      <td>3</td>\n",
       "      <td>1</td>\n",
       "      <td>3</td>\n",
       "      <td>Heikkinen, Miss. Laina</td>\n",
       "      <td>0</td>\n",
       "      <td>26.0</td>\n",
       "      <td>0</td>\n",
       "      <td>0</td>\n",
       "      <td>STON/O2. 3101282</td>\n",
       "      <td>7.9250</td>\n",
       "      <td>NaN</td>\n",
       "      <td>S</td>\n",
       "    </tr>\n",
       "    <tr>\n",
       "      <th>3</th>\n",
       "      <td>4</td>\n",
       "      <td>1</td>\n",
       "      <td>1</td>\n",
       "      <td>Futrelle, Mrs. Jacques Heath (Lily May Peel)</td>\n",
       "      <td>0</td>\n",
       "      <td>35.0</td>\n",
       "      <td>1</td>\n",
       "      <td>0</td>\n",
       "      <td>113803</td>\n",
       "      <td>53.1000</td>\n",
       "      <td>C123</td>\n",
       "      <td>S</td>\n",
       "    </tr>\n",
       "    <tr>\n",
       "      <th>4</th>\n",
       "      <td>5</td>\n",
       "      <td>0</td>\n",
       "      <td>3</td>\n",
       "      <td>Allen, Mr. William Henry</td>\n",
       "      <td>1</td>\n",
       "      <td>35.0</td>\n",
       "      <td>0</td>\n",
       "      <td>0</td>\n",
       "      <td>373450</td>\n",
       "      <td>8.0500</td>\n",
       "      <td>NaN</td>\n",
       "      <td>S</td>\n",
       "    </tr>\n",
       "  </tbody>\n",
       "</table>\n",
       "</div>"
      ],
      "text/plain": [
       "   PassengerId  Survived  Pclass  \\\n",
       "0            1         0       3   \n",
       "1            2         1       1   \n",
       "2            3         1       3   \n",
       "3            4         1       1   \n",
       "4            5         0       3   \n",
       "\n",
       "                                                Name  Sex   Age  SibSp  Parch  \\\n",
       "0                            Braund, Mr. Owen Harris    1  22.0      1      0   \n",
       "1  Cumings, Mrs. John Bradley (Florence Briggs Th...    0  38.0      1      0   \n",
       "2                             Heikkinen, Miss. Laina    0  26.0      0      0   \n",
       "3       Futrelle, Mrs. Jacques Heath (Lily May Peel)    0  35.0      1      0   \n",
       "4                           Allen, Mr. William Henry    1  35.0      0      0   \n",
       "\n",
       "             Ticket     Fare Cabin Embarked  \n",
       "0         A/5 21171   7.2500   NaN        S  \n",
       "1          PC 17599  71.2833   C85        C  \n",
       "2  STON/O2. 3101282   7.9250   NaN        S  \n",
       "3            113803  53.1000  C123        S  \n",
       "4            373450   8.0500   NaN        S  "
      ]
     },
     "execution_count": 48,
     "metadata": {},
     "output_type": "execute_result"
    }
   ],
   "source": [
    "train.head()"
   ]
  },
  {
   "cell_type": "code",
   "execution_count": 49,
   "id": "e649e0f7",
   "metadata": {},
   "outputs": [
    {
     "data": {
      "text/plain": [
       "array(['S', 'C', 'Q', nan], dtype=object)"
      ]
     },
     "execution_count": 49,
     "metadata": {},
     "output_type": "execute_result"
    }
   ],
   "source": [
    "train['Embarked'].unique()"
   ]
  },
  {
   "cell_type": "code",
   "execution_count": 50,
   "id": "2fc2807b",
   "metadata": {},
   "outputs": [
    {
     "data": {
      "text/plain": [
       "PassengerId      0\n",
       "Survived         0\n",
       "Pclass           0\n",
       "Name             0\n",
       "Sex              0\n",
       "Age              0\n",
       "SibSp            0\n",
       "Parch            0\n",
       "Ticket           0\n",
       "Fare             0\n",
       "Cabin          687\n",
       "Embarked         2\n",
       "dtype: int64"
      ]
     },
     "execution_count": 50,
     "metadata": {},
     "output_type": "execute_result"
    }
   ],
   "source": [
    "train.isnull().sum()"
   ]
  },
  {
   "cell_type": "code",
   "execution_count": 52,
   "id": "4c14286b",
   "metadata": {},
   "outputs": [
    {
     "data": {
      "image/png": "[encoded data removed]",
      "text/plain": [
       "<Figure size 432x288 with 1 Axes>"
      ]
     },
     "metadata": {
      "needs_background": "light"
     },
     "output_type": "display_data"
    }
   ],
   "source": [
    "sns.barplot(x=train['Embarked'], y=train['Survived'])\n",
    "plt.show()"
   ]
  },
  {
   "cell_type": "code",
   "execution_count": 53,
   "id": "a4840dee",
   "metadata": {},
   "outputs": [],
   "source": [
    "X_train_2 = np.array(train[['Pclass', 'Sex', 'Age', 'SibSp', 'Parch']])"
   ]
  },
  {
   "cell_type": "code",
   "execution_count": 54,
   "id": "67953beb",
   "metadata": {},
   "outputs": [],
   "source": [
    "mu_X_2 = np.mean(X_train_2, axis=0)\n",
    "sigma_X_2 = np.std(X_train_2, axis=0)\n",
    "X_train_2 = (X_train_2 - mu_X_2) / sigma_X_2"
   ]
  },
  {
   "cell_type": "code",
   "execution_count": 56,
   "id": "2af402ab",
   "metadata": {},
   "outputs": [
    {
     "data": {
      "text/plain": [
       "6.974147318082627"
      ]
     },
     "execution_count": 56,
     "metadata": {},
     "output_type": "execute_result"
    }
   ],
   "source": [
    "X_train_2.max()"
   ]
  },
  {
   "cell_type": "code",
   "execution_count": 57,
   "id": "ca485dce",
   "metadata": {},
   "outputs": [
    {
     "name": "stdout",
     "output_type": "stream",
     "text": [
      "Iteration: 0, Cost: 0.6920194569510671\n",
      "Iteration: 50, Cost: 0.642958621133894\n",
      "Iteration: 100, Cost: 0.6056632152485433\n",
      "Iteration: 150, Cost: 0.5770195015998869\n",
      "Iteration: 200, Cost: 0.5547516203211437\n",
      "Iteration: 250, Cost: 0.5372192836251103\n",
      "Iteration: 300, Cost: 0.5232423000049214\n",
      "Iteration: 350, Cost: 0.5119670048660895\n",
      "Iteration: 400, Cost: 0.5027702772156889\n",
      "Iteration: 450, Cost: 0.4951922597321192\n",
      "Iteration: 500, Cost: 0.4888895796539072\n",
      "Iteration: 550, Cost: 0.48360279198672534\n",
      "Iteration: 600, Cost: 0.47913358500549524\n",
      "Iteration: 650, Cost: 0.4753286813905998\n",
      "Iteration: 700, Cost: 0.4720683531246094\n",
      "Iteration: 750, Cost: 0.4692581400911878\n",
      "Iteration: 800, Cost: 0.46682281401259035\n",
      "Iteration: 850, Cost: 0.46470193195447734\n",
      "Iteration: 900, Cost: 0.4628465268263162\n",
      "Iteration: 950, Cost: 0.46121661956622384\n",
      "Iteration: 1000, Cost: 0.45977933114994624\n",
      "Iteration: 1050, Cost: 0.45850743675836786\n",
      "Iteration: 1100, Cost: 0.45737824895387597\n",
      "Iteration: 1150, Cost: 0.4563727478834124\n",
      "Iteration: 1200, Cost: 0.4554748985570409\n",
      "Iteration: 1250, Cost: 0.4546711109699868\n",
      "Iteration: 1300, Cost: 0.4539498101540697\n",
      "Iteration: 1350, Cost: 0.45330109146532066\n",
      "Iteration: 1400, Cost: 0.45271644243648873\n",
      "Iteration: 1450, Cost: 0.45218851697020057\n",
      "Iteration: 1500, Cost: 0.4517109509582618\n",
      "Iteration: 1550, Cost: 0.4512782108943229\n",
      "Iteration: 1600, Cost: 0.4508854689213939\n",
      "Iteration: 1650, Cost: 0.45052849918096693\n",
      "Iteration: 1700, Cost: 0.450203591421531\n",
      "Iteration: 1750, Cost: 0.4499074786647704\n",
      "Iteration: 1800, Cost: 0.44963727637921125\n",
      "Iteration: 1850, Cost: 0.44939043111903004\n",
      "Iteration: 1900, Cost: 0.4491646769840307\n",
      "Iteration: 1950, Cost: 0.4489579985708178\n",
      "Iteration: 2000, Cost: 0.4487685993340884\n",
      "Iteration: 2050, Cost: 0.4485948744752311\n",
      "Iteration: 2100, Cost: 0.4484353876341486\n",
      "Iteration: 2150, Cost: 0.4482888507878827\n",
      "Iteration: 2200, Cost: 0.4481541068627716\n",
      "Iteration: 2250, Cost: 0.4480301146505792\n",
      "Iteration: 2300, Cost: 0.4479159356872625\n",
      "Iteration: 2350, Cost: 0.4478107228088661\n",
      "Iteration: 2400, Cost: 0.4477137101448979\n",
      "Iteration: 2450, Cost: 0.44762420434736283\n",
      "Iteration: 2500, Cost: 0.44754157688493074\n",
      "Iteration: 2550, Cost: 0.4474652572577182\n",
      "Iteration: 2600, Cost: 0.4473947270098297\n",
      "Iteration: 2650, Cost: 0.44732951443492314\n",
      "Iteration: 2700, Cost: 0.447269189885261\n",
      "Iteration: 2750, Cost: 0.4472133616074947\n",
      "Iteration: 2800, Cost: 0.4471616720392205\n",
      "Iteration: 2850, Cost: 0.4471137945094728\n",
      "Iteration: 2900, Cost: 0.44706943029407403\n",
      "Iteration: 2950, Cost: 0.4470283059833457\n",
      "Iteration: 3000, Cost: 0.4469901711253147\n",
      "Iteration: 3050, Cost: 0.4469547961123558\n",
      "Iteration: 3100, Cost: 0.4469219702833313\n",
      "Iteration: 3150, Cost: 0.4468915002168352\n",
      "Iteration: 3200, Cost: 0.4468632081941962\n",
      "Iteration: 3250, Cost: 0.446836930813529\n",
      "Iteration: 3300, Cost: 0.446812517738397\n",
      "Iteration: 3350, Cost: 0.44678983056662924\n",
      "Iteration: 3400, Cost: 0.4467687418065414\n",
      "Iteration: 3450, Cost: 0.4467491339493069\n",
      "Iteration: 3500, Cost: 0.44673089862752363\n",
      "Iteration: 3550, Cost: 0.44671393585115604\n",
      "Iteration: 3600, Cost: 0.44669815331302803\n",
      "Iteration: 3650, Cost: 0.44668346575691253\n",
      "Iteration: 3700, Cost: 0.44666979440202775\n",
      "Iteration: 3750, Cost: 0.44665706641842523\n",
      "Iteration: 3800, Cost: 0.4466452144483438\n",
      "Iteration: 3850, Cost: 0.4466341761691313\n",
      "Iteration: 3900, Cost: 0.44662389389379353\n",
      "Iteration: 3950, Cost: 0.44661431420564196\n",
      "Iteration: 4000, Cost: 0.4466053876238724\n",
      "Iteration: 4050, Cost: 0.4465970682972314\n",
      "Iteration: 4100, Cost: 0.44658931372320876\n",
      "Iteration: 4150, Cost: 0.4465820844904538\n",
      "Iteration: 4200, Cost: 0.4465753440423374\n",
      "Iteration: 4250, Cost: 0.4465690584597848\n",
      "Iteration: 4300, Cost: 0.44656319626168395\n",
      "Iteration: 4350, Cost: 0.4465577282213406\n",
      "Iteration: 4400, Cost: 0.44655262719758976\n",
      "Iteration: 4450, Cost: 0.4465478679793086\n",
      "Iteration: 4500, Cost: 0.44654342714219036\n",
      "Iteration: 4550, Cost: 0.4465392829167437\n",
      "Iteration: 4600, Cost: 0.4465354150665773\n",
      "Iteration: 4650, Cost: 0.44653180477611426\n",
      "Iteration: 4700, Cost: 0.44652843454695706\n",
      "Iteration: 4750, Cost: 0.44652528810219405\n",
      "Iteration: 4800, Cost: 0.4465223502980002\n",
      "Iteration: 4850, Cost: 0.44651960704194205\n",
      "Iteration: 4900, Cost: 0.4465170452174481\n",
      "Iteration: 4950, Cost: 0.44651465261395096\n",
      "Iteration: 5000, Cost: 0.44651241786225226\n",
      "Iteration: 5050, Cost: 0.44651033037469695\n",
      "Iteration: 5100, Cost: 0.4465083802897802\n",
      "Iteration: 5150, Cost: 0.4465065584208404\n",
      "Iteration: 5200, Cost: 0.4465048562085218\n",
      "Iteration: 5250, Cost: 0.44650326567671494\n",
      "Iteration: 5300, Cost: 0.4465017793917088\n",
      "Iteration: 5350, Cost: 0.44650039042430834\n",
      "Iteration: 5400, Cost: 0.4464990923146926\n",
      "Iteration: 5450, Cost: 0.4464978790398054\n",
      "Iteration: 5500, Cost: 0.4464967449830888\n",
      "Iteration: 5550, Cost: 0.44649568490638264\n",
      "Iteration: 5600, Cost: 0.4464946939238294\n",
      "Iteration: 5650, Cost: 0.4464937674776345\n",
      "Iteration: 5700, Cost: 0.4464929013155458\n",
      "Iteration: 5750, Cost: 0.44649209146992413\n",
      "Iteration: 5800, Cost: 0.44649133423828946\n",
      "Iteration: 5850, Cost: 0.4464906261652344\n",
      "Iteration: 5900, Cost: 0.44648996402560437\n",
      "Iteration: 5950, Cost: 0.44648934480885416\n",
      "Iteration: 6000, Cost: 0.44648876570449475\n",
      "Iteration: 6050, Cost: 0.4464882240885518\n",
      "Iteration: 6100, Cost: 0.44648771751096367\n",
      "Iteration: 6150, Cost: 0.4464872436838514\n",
      "Iteration: 6200, Cost: 0.44648680047059813\n",
      "Iteration: 6250, Cost: 0.44648638587568074\n",
      "Iteration: 6300, Cost: 0.44648599803520056\n",
      "Iteration: 6350, Cost: 0.44648563520806334\n",
      "Iteration: 6400, Cost: 0.446485295767762\n",
      "Iteration: 6450, Cost: 0.446484978194722\n",
      "Iteration: 6500, Cost: 0.44648468106916667\n",
      "Iteration: 6550, Cost: 0.4464844030644693\n",
      "Iteration: 6600, Cost: 0.44648414294095584\n",
      "Iteration: 6650, Cost: 0.4464838995401275\n",
      "Iteration: 6700, Cost: 0.44648367177927484\n",
      "Iteration: 6750, Cost: 0.44648345864645467\n",
      "Iteration: 6800, Cost: 0.4464832591958064\n",
      "Iteration: 6850, Cost: 0.44648307254318315\n",
      "Iteration: 6900, Cost: 0.4464828978620763\n",
      "Iteration: 6950, Cost: 0.4464827343798145\n",
      "Iteration: 7000, Cost: 0.44648258137401586\n",
      "Iteration: 7050, Cost: 0.446482438169278\n",
      "Iteration: 7100, Cost: 0.44648230413409024\n",
      "Iteration: 7150, Cost: 0.44648217867795004\n",
      "Iteration: 7200, Cost: 0.4464820612486724\n",
      "Iteration: 7250, Cost: 0.4464819513298785\n",
      "Iteration: 7300, Cost: 0.44648184843865085\n",
      "Iteration: 7350, Cost: 0.44648175212334357\n",
      "Iteration: 7400, Cost: 0.44648166196153843\n",
      "Iteration: 7450, Cost: 0.4464815775581364\n",
      "Iteration: 7500, Cost: 0.4464814985435739\n",
      "Iteration: 7550, Cost: 0.4464814245721593\n",
      "Iteration: 7600, Cost: 0.4464813553205162\n",
      "Iteration: 7650, Cost: 0.44648129048613217\n",
      "Iteration: 7700, Cost: 0.4464812297860004\n",
      "Iteration: 7750, Cost: 0.4464811729553531\n",
      "Iteration: 7800, Cost: 0.446481119746476\n",
      "Iteration: 7850, Cost: 0.4464810699276017\n",
      "Iteration: 7900, Cost: 0.4464810232818762\n",
      "Iteration: 7950, Cost: 0.44648097960639116\n",
      "Iteration: 8000, Cost: 0.44648093871128125\n",
      "Iteration: 8050, Cost: 0.4464809004188803\n",
      "Iteration: 8100, Cost: 0.4464808645629314\n",
      "Iteration: 8150, Cost: 0.44648083098784974\n",
      "Iteration: 8200, Cost: 0.4464807995480336\n",
      "Iteration: 8250, Cost: 0.4464807701072186\n",
      "Iteration: 8300, Cost: 0.44648074253787645\n",
      "Iteration: 8350, Cost: 0.44648071672065065\n",
      "Iteration: 8400, Cost: 0.44648069254383\n",
      "Iteration: 8450, Cost: 0.4464806699028562\n",
      "Iteration: 8500, Cost: 0.44648064869986315\n",
      "Iteration: 8550, Cost: 0.4464806288432461\n",
      "Iteration: 8600, Cost: 0.4464806102472594\n",
      "Iteration: 8650, Cost: 0.44648059283163927\n",
      "Iteration: 8700, Cost: 0.4464805765212515\n",
      "Iteration: 8750, Cost: 0.4464805612457628\n",
      "Iteration: 8800, Cost: 0.44648054693933115\n",
      "Iteration: 8850, Cost: 0.446480533540319\n",
      "Iteration: 8900, Cost: 0.4464805209910227\n",
      "Iteration: 8950, Cost: 0.44648050923742055\n",
      "Iteration: 9000, Cost: 0.4464804982289366\n",
      "Iteration: 9050, Cost: 0.4464804879182202\n",
      "Iteration: 9100, Cost: 0.4464804782609393\n",
      "Iteration: 9150, Cost: 0.44648046921558715\n",
      "Iteration: 9200, Cost: 0.44648046074330155\n",
      "Iteration: 9250, Cost: 0.4464804528076957\n",
      "Iteration: 9300, Cost: 0.4464804453747\n",
      "Iteration: 9350, Cost: 0.4464804384124136\n",
      "Iteration: 9400, Cost: 0.4464804318909662\n",
      "Iteration: 9450, Cost: 0.4464804257823881\n",
      "Iteration: 9500, Cost: 0.44648042006048905\n",
      "Iteration: 9550, Cost: 0.4464804147007442\n",
      "Iteration: 9600, Cost: 0.44648040968018843\n",
      "Iteration: 9650, Cost: 0.4464804049773164\n",
      "Iteration: 9700, Cost: 0.44648040057198957\n"
     ]
    },
    {
     "name": "stdout",
     "output_type": "stream",
     "text": [
      "Iteration: 9750, Cost: 0.4464803964453492\n",
      "Iteration: 9800, Cost: 0.4464803925797344\n",
      "Iteration: 9850, Cost: 0.44648038895860614\n",
      "Iteration: 9900, Cost: 0.44648038556647585\n",
      "Iteration: 9950, Cost: 0.446480382388838\n"
     ]
    },
    {
     "data": {
      "image/png": "[encoded data removed]",
      "text/plain": [
       "<Figure size 432x288 with 1 Axes>"
      ]
     },
     "metadata": {
      "needs_background": "light"
     },
     "output_type": "display_data"
    }
   ],
   "source": [
    "w2, b2 = gradient_descent(X_train_2, Y_train, 10000)"
   ]
  },
  {
   "cell_type": "code",
   "execution_count": 58,
   "id": "44ce509d",
   "metadata": {},
   "outputs": [],
   "source": [
    "test = pd.read_csv('test.csv')"
   ]
  },
  {
   "cell_type": "code",
   "execution_count": 59,
   "id": "4617369a",
   "metadata": {},
   "outputs": [
    {
     "data": {
      "text/html": [
       "<div>\n",
       "<style scoped>\n",
       "    .dataframe tbody tr th:only-of-type {\n",
       "        vertical-align: middle;\n",
       "    }\n",
       "\n",
       "    .dataframe tbody tr th {\n",
       "        vertical-align: top;\n",
       "    }\n",
       "\n",
       "    .dataframe thead th {\n",
       "        text-align: right;\n",
       "    }\n",
       "</style>\n",
       "<table border=\"1\" class=\"dataframe\">\n",
       "  <thead>\n",
       "    <tr style=\"text-align: right;\">\n",
       "      <th></th>\n",
       "      <th>PassengerId</th>\n",
       "      <th>Pclass</th>\n",
       "      <th>Name</th>\n",
       "      <th>Sex</th>\n",
       "      <th>Age</th>\n",
       "      <th>SibSp</th>\n",
       "      <th>Parch</th>\n",
       "      <th>Ticket</th>\n",
       "      <th>Fare</th>\n",
       "      <th>Cabin</th>\n",
       "      <th>Embarked</th>\n",
       "    </tr>\n",
       "  </thead>\n",
       "  <tbody>\n",
       "    <tr>\n",
       "      <th>0</th>\n",
       "      <td>892</td>\n",
       "      <td>3</td>\n",
       "      <td>Kelly, Mr. James</td>\n",
       "      <td>male</td>\n",
       "      <td>34.5</td>\n",
       "      <td>0</td>\n",
       "      <td>0</td>\n",
       "      <td>330911</td>\n",
       "      <td>7.8292</td>\n",
       "      <td>NaN</td>\n",
       "      <td>Q</td>\n",
       "    </tr>\n",
       "    <tr>\n",
       "      <th>1</th>\n",
       "      <td>893</td>\n",
       "      <td>3</td>\n",
       "      <td>Wilkes, Mrs. James (Ellen Needs)</td>\n",
       "      <td>female</td>\n",
       "      <td>47.0</td>\n",
       "      <td>1</td>\n",
       "      <td>0</td>\n",
       "      <td>363272</td>\n",
       "      <td>7.0000</td>\n",
       "      <td>NaN</td>\n",
       "      <td>S</td>\n",
       "    </tr>\n",
       "    <tr>\n",
       "      <th>2</th>\n",
       "      <td>894</td>\n",
       "      <td>2</td>\n",
       "      <td>Myles, Mr. Thomas Francis</td>\n",
       "      <td>male</td>\n",
       "      <td>62.0</td>\n",
       "      <td>0</td>\n",
       "      <td>0</td>\n",
       "      <td>240276</td>\n",
       "      <td>9.6875</td>\n",
       "      <td>NaN</td>\n",
       "      <td>Q</td>\n",
       "    </tr>\n",
       "    <tr>\n",
       "      <th>3</th>\n",
       "      <td>895</td>\n",
       "      <td>3</td>\n",
       "      <td>Wirz, Mr. Albert</td>\n",
       "      <td>male</td>\n",
       "      <td>27.0</td>\n",
       "      <td>0</td>\n",
       "      <td>0</td>\n",
       "      <td>315154</td>\n",
       "      <td>8.6625</td>\n",
       "      <td>NaN</td>\n",
       "      <td>S</td>\n",
       "    </tr>\n",
       "    <tr>\n",
       "      <th>4</th>\n",
       "      <td>896</td>\n",
       "      <td>3</td>\n",
       "      <td>Hirvonen, Mrs. Alexander (Helga E Lindqvist)</td>\n",
       "      <td>female</td>\n",
       "      <td>22.0</td>\n",
       "      <td>1</td>\n",
       "      <td>1</td>\n",
       "      <td>3101298</td>\n",
       "      <td>12.2875</td>\n",
       "      <td>NaN</td>\n",
       "      <td>S</td>\n",
       "    </tr>\n",
       "  </tbody>\n",
       "</table>\n",
       "</div>"
      ],
      "text/plain": [
       "   PassengerId  Pclass                                          Name     Sex  \\\n",
       "0          892       3                              Kelly, Mr. James    male   \n",
       "1          893       3              Wilkes, Mrs. James (Ellen Needs)  female   \n",
       "2          894       2                     Myles, Mr. Thomas Francis    male   \n",
       "3          895       3                              Wirz, Mr. Albert    male   \n",
       "4          896       3  Hirvonen, Mrs. Alexander (Helga E Lindqvist)  female   \n",
       "\n",
       "    Age  SibSp  Parch   Ticket     Fare Cabin Embarked  \n",
       "0  34.5      0      0   330911   7.8292   NaN        Q  \n",
       "1  47.0      1      0   363272   7.0000   NaN        S  \n",
       "2  62.0      0      0   240276   9.6875   NaN        Q  \n",
       "3  27.0      0      0   315154   8.6625   NaN        S  \n",
       "4  22.0      1      1  3101298  12.2875   NaN        S  "
      ]
     },
     "execution_count": 59,
     "metadata": {},
     "output_type": "execute_result"
    }
   ],
   "source": [
    "test.head()"
   ]
  },
  {
   "cell_type": "code",
   "execution_count": 60,
   "id": "cce8165c",
   "metadata": {},
   "outputs": [],
   "source": [
    "test['Sex'].replace({\n",
    "    'male' : 1,\n",
    "    'female' : 0\n",
    "}, inplace=True)"
   ]
  },
  {
   "cell_type": "code",
   "execution_count": 61,
   "id": "9b8e8ee6",
   "metadata": {},
   "outputs": [],
   "source": [
    "test['Age'].replace({\n",
    "    np.nan : (np.sum(test['Age']) / test.shape[0])\n",
    "}, inplace=True)"
   ]
  },
  {
   "cell_type": "code",
   "execution_count": 62,
   "id": "dae949aa",
   "metadata": {},
   "outputs": [],
   "source": [
    "X_test = np.array(test[['Pclass', 'Sex', 'Age', 'SibSp', 'Parch']])"
   ]
  },
  {
   "cell_type": "code",
   "execution_count": 63,
   "id": "1e189269",
   "metadata": {},
   "outputs": [
    {
     "data": {
      "text/plain": [
       "(418, 5)"
      ]
     },
     "execution_count": 63,
     "metadata": {},
     "output_type": "execute_result"
    }
   ],
   "source": [
    "X_test.shape"
   ]
  },
  {
   "cell_type": "code",
   "execution_count": 67,
   "id": "13c2051f",
   "metadata": {},
   "outputs": [],
   "source": [
    "mu_X_test = np.mean(X_test, axis=0)\n",
    "sigma_X_test = np.std(X_test, axis=0)\n",
    "X_test = (X_test - mu_X_test) / sigma_X_test"
   ]
  },
  {
   "cell_type": "code",
   "execution_count": 69,
   "id": "26f0bc56",
   "metadata": {},
   "outputs": [
    {
     "data": {
      "text/plain": [
       "8.781044088387508"
      ]
     },
     "execution_count": 69,
     "metadata": {},
     "output_type": "execute_result"
    }
   ],
   "source": [
    "X_test.max()"
   ]
  },
  {
   "cell_type": "code",
   "execution_count": 71,
   "id": "5eb72f39",
   "metadata": {},
   "outputs": [],
   "source": [
    "output_test = []\n",
    "for i in range(X_test.shape[0]):\n",
    "    value = sigmoid(np.dot(X_test[i], w2) + b2)\n",
    "    if value >= 0.5:\n",
    "        output_test.append(1)\n",
    "    else:\n",
    "        output_test.append(0)"
   ]
  },
  {
   "cell_type": "code",
   "execution_count": 73,
   "id": "67297710",
   "metadata": {},
   "outputs": [
    {
     "data": {
      "text/plain": [
       "154"
      ]
     },
     "execution_count": 73,
     "metadata": {},
     "output_type": "execute_result"
    }
   ],
   "source": [
    "output_test.count(1)"
   ]
  },
  {
   "cell_type": "code",
   "execution_count": 74,
   "id": "30669a85",
   "metadata": {},
   "outputs": [
    {
     "data": {
      "text/plain": [
       "264"
      ]
     },
     "execution_count": 74,
     "metadata": {},
     "output_type": "execute_result"
    }
   ],
   "source": [
    "output_test.count(0)"
   ]
  },
  {
   "cell_type": "code",
   "execution_count": 75,
   "id": "0e78136e",
   "metadata": {},
   "outputs": [
    {
     "data": {
      "text/plain": [
       "418"
      ]
     },
     "execution_count": 75,
     "metadata": {},
     "output_type": "execute_result"
    }
   ],
   "source": [
    "264+154"
   ]
  },
  {
   "cell_type": "code",
   "execution_count": 76,
   "id": "ca5a5fa7",
   "metadata": {},
   "outputs": [],
   "source": [
    "output_test = np.array(output_test)"
   ]
  },
  {
   "cell_type": "code",
   "execution_count": 77,
   "id": "e165e480",
   "metadata": {},
   "outputs": [
    {
     "data": {
      "text/plain": [
       "(418,)"
      ]
     },
     "execution_count": 77,
     "metadata": {},
     "output_type": "execute_result"
    }
   ],
   "source": [
    "output_test.shape"
   ]
  },
  {
   "cell_type": "code",
   "execution_count": 78,
   "id": "66d89c81",
   "metadata": {},
   "outputs": [
    {
     "data": {
      "text/html": [
       "<div>\n",
       "<style scoped>\n",
       "    .dataframe tbody tr th:only-of-type {\n",
       "        vertical-align: middle;\n",
       "    }\n",
       "\n",
       "    .dataframe tbody tr th {\n",
       "        vertical-align: top;\n",
       "    }\n",
       "\n",
       "    .dataframe thead th {\n",
       "        text-align: right;\n",
       "    }\n",
       "</style>\n",
       "<table border=\"1\" class=\"dataframe\">\n",
       "  <thead>\n",
       "    <tr style=\"text-align: right;\">\n",
       "      <th></th>\n",
       "      <th>PassengerId</th>\n",
       "      <th>Pclass</th>\n",
       "      <th>Name</th>\n",
       "      <th>Sex</th>\n",
       "      <th>Age</th>\n",
       "      <th>SibSp</th>\n",
       "      <th>Parch</th>\n",
       "      <th>Ticket</th>\n",
       "      <th>Fare</th>\n",
       "      <th>Cabin</th>\n",
       "      <th>Embarked</th>\n",
       "    </tr>\n",
       "  </thead>\n",
       "  <tbody>\n",
       "    <tr>\n",
       "      <th>0</th>\n",
       "      <td>892</td>\n",
       "      <td>3</td>\n",
       "      <td>Kelly, Mr. James</td>\n",
       "      <td>1</td>\n",
       "      <td>34.5</td>\n",
       "      <td>0</td>\n",
       "      <td>0</td>\n",
       "      <td>330911</td>\n",
       "      <td>7.8292</td>\n",
       "      <td>NaN</td>\n",
       "      <td>Q</td>\n",
       "    </tr>\n",
       "    <tr>\n",
       "      <th>1</th>\n",
       "      <td>893</td>\n",
       "      <td>3</td>\n",
       "      <td>Wilkes, Mrs. James (Ellen Needs)</td>\n",
       "      <td>0</td>\n",
       "      <td>47.0</td>\n",
       "      <td>1</td>\n",
       "      <td>0</td>\n",
       "      <td>363272</td>\n",
       "      <td>7.0000</td>\n",
       "      <td>NaN</td>\n",
       "      <td>S</td>\n",
       "    </tr>\n",
       "    <tr>\n",
       "      <th>2</th>\n",
       "      <td>894</td>\n",
       "      <td>2</td>\n",
       "      <td>Myles, Mr. Thomas Francis</td>\n",
       "      <td>1</td>\n",
       "      <td>62.0</td>\n",
       "      <td>0</td>\n",
       "      <td>0</td>\n",
       "      <td>240276</td>\n",
       "      <td>9.6875</td>\n",
       "      <td>NaN</td>\n",
       "      <td>Q</td>\n",
       "    </tr>\n",
       "    <tr>\n",
       "      <th>3</th>\n",
       "      <td>895</td>\n",
       "      <td>3</td>\n",
       "      <td>Wirz, Mr. Albert</td>\n",
       "      <td>1</td>\n",
       "      <td>27.0</td>\n",
       "      <td>0</td>\n",
       "      <td>0</td>\n",
       "      <td>315154</td>\n",
       "      <td>8.6625</td>\n",
       "      <td>NaN</td>\n",
       "      <td>S</td>\n",
       "    </tr>\n",
       "    <tr>\n",
       "      <th>4</th>\n",
       "      <td>896</td>\n",
       "      <td>3</td>\n",
       "      <td>Hirvonen, Mrs. Alexander (Helga E Lindqvist)</td>\n",
       "      <td>0</td>\n",
       "      <td>22.0</td>\n",
       "      <td>1</td>\n",
       "      <td>1</td>\n",
       "      <td>3101298</td>\n",
       "      <td>12.2875</td>\n",
       "      <td>NaN</td>\n",
       "      <td>S</td>\n",
       "    </tr>\n",
       "  </tbody>\n",
       "</table>\n",
       "</div>"
      ],
      "text/plain": [
       "   PassengerId  Pclass                                          Name  Sex  \\\n",
       "0          892       3                              Kelly, Mr. James    1   \n",
       "1          893       3              Wilkes, Mrs. James (Ellen Needs)    0   \n",
       "2          894       2                     Myles, Mr. Thomas Francis    1   \n",
       "3          895       3                              Wirz, Mr. Albert    1   \n",
       "4          896       3  Hirvonen, Mrs. Alexander (Helga E Lindqvist)    0   \n",
       "\n",
       "    Age  SibSp  Parch   Ticket     Fare Cabin Embarked  \n",
       "0  34.5      0      0   330911   7.8292   NaN        Q  \n",
       "1  47.0      1      0   363272   7.0000   NaN        S  \n",
       "2  62.0      0      0   240276   9.6875   NaN        Q  \n",
       "3  27.0      0      0   315154   8.6625   NaN        S  \n",
       "4  22.0      1      1  3101298  12.2875   NaN        S  "
      ]
     },
     "execution_count": 78,
     "metadata": {},
     "output_type": "execute_result"
    }
   ],
   "source": [
    "test.head()"
   ]
  },
  {
   "cell_type": "code",
   "execution_count": 79,
   "id": "4bae6e6e",
   "metadata": {},
   "outputs": [],
   "source": [
    "PassengerId = np.array(test['PassengerId'])"
   ]
  },
  {
   "cell_type": "code",
   "execution_count": 80,
   "id": "01195498",
   "metadata": {},
   "outputs": [],
   "source": [
    "dataframe = pd.DataFrame([PassengerId, output_test])"
   ]
  },
  {
   "cell_type": "code",
   "execution_count": 81,
   "id": "6c3207fc",
   "metadata": {},
   "outputs": [],
   "source": [
    "dataframe = dataframe.T"
   ]
  },
  {
   "cell_type": "code",
   "execution_count": 82,
   "id": "fd26cca6",
   "metadata": {},
   "outputs": [
    {
     "data": {
      "text/html": [
       "<div>\n",
       "<style scoped>\n",
       "    .dataframe tbody tr th:only-of-type {\n",
       "        vertical-align: middle;\n",
       "    }\n",
       "\n",
       "    .dataframe tbody tr th {\n",
       "        vertical-align: top;\n",
       "    }\n",
       "\n",
       "    .dataframe thead th {\n",
       "        text-align: right;\n",
       "    }\n",
       "</style>\n",
       "<table border=\"1\" class=\"dataframe\">\n",
       "  <thead>\n",
       "    <tr style=\"text-align: right;\">\n",
       "      <th></th>\n",
       "      <th>0</th>\n",
       "      <th>1</th>\n",
       "    </tr>\n",
       "  </thead>\n",
       "  <tbody>\n",
       "    <tr>\n",
       "      <th>0</th>\n",
       "      <td>892</td>\n",
       "      <td>0</td>\n",
       "    </tr>\n",
       "    <tr>\n",
       "      <th>1</th>\n",
       "      <td>893</td>\n",
       "      <td>0</td>\n",
       "    </tr>\n",
       "    <tr>\n",
       "      <th>2</th>\n",
       "      <td>894</td>\n",
       "      <td>0</td>\n",
       "    </tr>\n",
       "    <tr>\n",
       "      <th>3</th>\n",
       "      <td>895</td>\n",
       "      <td>0</td>\n",
       "    </tr>\n",
       "    <tr>\n",
       "      <th>4</th>\n",
       "      <td>896</td>\n",
       "      <td>1</td>\n",
       "    </tr>\n",
       "    <tr>\n",
       "      <th>...</th>\n",
       "      <td>...</td>\n",
       "      <td>...</td>\n",
       "    </tr>\n",
       "    <tr>\n",
       "      <th>413</th>\n",
       "      <td>1305</td>\n",
       "      <td>0</td>\n",
       "    </tr>\n",
       "    <tr>\n",
       "      <th>414</th>\n",
       "      <td>1306</td>\n",
       "      <td>1</td>\n",
       "    </tr>\n",
       "    <tr>\n",
       "      <th>415</th>\n",
       "      <td>1307</td>\n",
       "      <td>0</td>\n",
       "    </tr>\n",
       "    <tr>\n",
       "      <th>416</th>\n",
       "      <td>1308</td>\n",
       "      <td>0</td>\n",
       "    </tr>\n",
       "    <tr>\n",
       "      <th>417</th>\n",
       "      <td>1309</td>\n",
       "      <td>0</td>\n",
       "    </tr>\n",
       "  </tbody>\n",
       "</table>\n",
       "<p>418 rows × 2 columns</p>\n",
       "</div>"
      ],
      "text/plain": [
       "        0  1\n",
       "0     892  0\n",
       "1     893  0\n",
       "2     894  0\n",
       "3     895  0\n",
       "4     896  1\n",
       "..    ... ..\n",
       "413  1305  0\n",
       "414  1306  1\n",
       "415  1307  0\n",
       "416  1308  0\n",
       "417  1309  0\n",
       "\n",
       "[418 rows x 2 columns]"
      ]
     },
     "execution_count": 82,
     "metadata": {},
     "output_type": "execute_result"
    }
   ],
   "source": [
    "dataframe"
   ]
  },
  {
   "cell_type": "code",
   "execution_count": 84,
   "id": "69fa2091",
   "metadata": {},
   "outputs": [],
   "source": [
    "dataframe.rename(columns = {0:'PassengerId', 1:'Survived'}, inplace = True)"
   ]
  },
  {
   "cell_type": "code",
   "execution_count": 85,
   "id": "faa68c06",
   "metadata": {},
   "outputs": [
    {
     "data": {
      "text/html": [
       "<div>\n",
       "<style scoped>\n",
       "    .dataframe tbody tr th:only-of-type {\n",
       "        vertical-align: middle;\n",
       "    }\n",
       "\n",
       "    .dataframe tbody tr th {\n",
       "        vertical-align: top;\n",
       "    }\n",
       "\n",
       "    .dataframe thead th {\n",
       "        text-align: right;\n",
       "    }\n",
       "</style>\n",
       "<table border=\"1\" class=\"dataframe\">\n",
       "  <thead>\n",
       "    <tr style=\"text-align: right;\">\n",
       "      <th></th>\n",
       "      <th>PassengerId</th>\n",
       "      <th>Survived</th>\n",
       "    </tr>\n",
       "  </thead>\n",
       "  <tbody>\n",
       "    <tr>\n",
       "      <th>0</th>\n",
       "      <td>892</td>\n",
       "      <td>0</td>\n",
       "    </tr>\n",
       "    <tr>\n",
       "      <th>1</th>\n",
       "      <td>893</td>\n",
       "      <td>0</td>\n",
       "    </tr>\n",
       "    <tr>\n",
       "      <th>2</th>\n",
       "      <td>894</td>\n",
       "      <td>0</td>\n",
       "    </tr>\n",
       "    <tr>\n",
       "      <th>3</th>\n",
       "      <td>895</td>\n",
       "      <td>0</td>\n",
       "    </tr>\n",
       "    <tr>\n",
       "      <th>4</th>\n",
       "      <td>896</td>\n",
       "      <td>1</td>\n",
       "    </tr>\n",
       "    <tr>\n",
       "      <th>...</th>\n",
       "      <td>...</td>\n",
       "      <td>...</td>\n",
       "    </tr>\n",
       "    <tr>\n",
       "      <th>413</th>\n",
       "      <td>1305</td>\n",
       "      <td>0</td>\n",
       "    </tr>\n",
       "    <tr>\n",
       "      <th>414</th>\n",
       "      <td>1306</td>\n",
       "      <td>1</td>\n",
       "    </tr>\n",
       "    <tr>\n",
       "      <th>415</th>\n",
       "      <td>1307</td>\n",
       "      <td>0</td>\n",
       "    </tr>\n",
       "    <tr>\n",
       "      <th>416</th>\n",
       "      <td>1308</td>\n",
       "      <td>0</td>\n",
       "    </tr>\n",
       "    <tr>\n",
       "      <th>417</th>\n",
       "      <td>1309</td>\n",
       "      <td>0</td>\n",
       "    </tr>\n",
       "  </tbody>\n",
       "</table>\n",
       "<p>418 rows × 2 columns</p>\n",
       "</div>"
      ],
      "text/plain": [
       "     PassengerId  Survived\n",
       "0            892         0\n",
       "1            893         0\n",
       "2            894         0\n",
       "3            895         0\n",
       "4            896         1\n",
       "..           ...       ...\n",
       "413         1305         0\n",
       "414         1306         1\n",
       "415         1307         0\n",
       "416         1308         0\n",
       "417         1309         0\n",
       "\n",
       "[418 rows x 2 columns]"
      ]
     },
     "execution_count": 85,
     "metadata": {},
     "output_type": "execute_result"
    }
   ],
   "source": [
    "dataframe"
   ]
  },
  {
   "cell_type": "code",
   "execution_count": 88,
   "id": "f6047da9",
   "metadata": {},
   "outputs": [],
   "source": [
    "dataframe.to_csv(\"gender_submission.csv\", index=False)"
   ]
  },
  {
   "cell_type": "code",
   "execution_count": null,
   "id": "0327ba92",
   "metadata": {},
   "outputs": [],
   "source": []
  }
 ],
 "metadata": {
  "kernelspec": {
   "display_name": "Python 3 (ipykernel)",
   "language": "python",
   "name": "python3"
  },
  "language_info": {
   "codemirror_mode": {
    "name": "ipython",
    "version": 3
   },
   "file_extension": ".py",
   "mimetype": "text/x-python",
   "name": "python",
   "nbconvert_exporter": "python",
   "pygments_lexer": "ipython3",
   "version": "3.9.12"
  }
 },
 "nbformat": 4,
 "nbformat_minor": 5
}
