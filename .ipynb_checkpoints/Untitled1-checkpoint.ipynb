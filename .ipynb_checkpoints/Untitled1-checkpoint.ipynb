{
 "cells": [
  {
   "cell_type": "code",
   "execution_count": 2,
   "id": "eed70ad5",
   "metadata": {},
   "outputs": [],
   "source": [
    "import numpy as np\n",
    "import pandas as pd\n",
    "import matplotlib.pyplot as plt\n",
    "import seaborn as sns"
   ]
  },
  {
   "cell_type": "code",
   "execution_count": 3,
   "id": "99c36556",
   "metadata": {},
   "outputs": [],
   "source": [
    "train = pd.read_csv('train.csv')"
   ]
  },
  {
   "cell_type": "code",
   "execution_count": 4,
   "id": "5d7e1a79",
   "metadata": {},
   "outputs": [],
   "source": [
    "train['Sex'].replace({\n",
    "    'male' : 1,\n",
    "    'female': 0\n",
    "}, inplace=True)"
   ]
  },
  {
   "cell_type": "code",
   "execution_count": 5,
   "id": "ba58c987",
   "metadata": {},
   "outputs": [],
   "source": [
    "train['Age'].replace({\n",
    "    np.nan : np.sum(train['Age']) / train.shape[0]\n",
    "}, inplace=True)"
   ]
  },
  {
   "cell_type": "code",
   "execution_count": 6,
   "id": "453b9757",
   "metadata": {},
   "outputs": [
    {
     "data": {
      "text/plain": [
       "PassengerId      0\n",
       "Survived         0\n",
       "Pclass           0\n",
       "Name             0\n",
       "Sex              0\n",
       "Age              0\n",
       "SibSp            0\n",
       "Parch            0\n",
       "Ticket           0\n",
       "Fare             0\n",
       "Cabin          687\n",
       "Embarked         2\n",
       "dtype: int64"
      ]
     },
     "execution_count": 6,
     "metadata": {},
     "output_type": "execute_result"
    }
   ],
   "source": [
    "train.isnull().sum()"
   ]
  },
  {
   "cell_type": "code",
   "execution_count": 7,
   "id": "5b9bb539",
   "metadata": {},
   "outputs": [
    {
     "data": {
      "text/html": [
       "<div>\n",
       "<style scoped>\n",
       "    .dataframe tbody tr th:only-of-type {\n",
       "        vertical-align: middle;\n",
       "    }\n",
       "\n",
       "    .dataframe tbody tr th {\n",
       "        vertical-align: top;\n",
       "    }\n",
       "\n",
       "    .dataframe thead th {\n",
       "        text-align: right;\n",
       "    }\n",
       "</style>\n",
       "<table border=\"1\" class=\"dataframe\">\n",
       "  <thead>\n",
       "    <tr style=\"text-align: right;\">\n",
       "      <th></th>\n",
       "      <th>PassengerId</th>\n",
       "      <th>Survived</th>\n",
       "      <th>Pclass</th>\n",
       "      <th>Name</th>\n",
       "      <th>Sex</th>\n",
       "      <th>Age</th>\n",
       "      <th>SibSp</th>\n",
       "      <th>Parch</th>\n",
       "      <th>Ticket</th>\n",
       "      <th>Fare</th>\n",
       "      <th>Cabin</th>\n",
       "      <th>Embarked</th>\n",
       "    </tr>\n",
       "  </thead>\n",
       "  <tbody>\n",
       "    <tr>\n",
       "      <th>0</th>\n",
       "      <td>1</td>\n",
       "      <td>0</td>\n",
       "      <td>3</td>\n",
       "      <td>Braund, Mr. Owen Harris</td>\n",
       "      <td>1</td>\n",
       "      <td>22.0</td>\n",
       "      <td>1</td>\n",
       "      <td>0</td>\n",
       "      <td>A/5 21171</td>\n",
       "      <td>7.2500</td>\n",
       "      <td>NaN</td>\n",
       "      <td>S</td>\n",
       "    </tr>\n",
       "    <tr>\n",
       "      <th>1</th>\n",
       "      <td>2</td>\n",
       "      <td>1</td>\n",
       "      <td>1</td>\n",
       "      <td>Cumings, Mrs. John Bradley (Florence Briggs Th...</td>\n",
       "      <td>0</td>\n",
       "      <td>38.0</td>\n",
       "      <td>1</td>\n",
       "      <td>0</td>\n",
       "      <td>PC 17599</td>\n",
       "      <td>71.2833</td>\n",
       "      <td>C85</td>\n",
       "      <td>C</td>\n",
       "    </tr>\n",
       "    <tr>\n",
       "      <th>2</th>\n",
       "      <td>3</td>\n",
       "      <td>1</td>\n",
       "      <td>3</td>\n",
       "      <td>Heikkinen, Miss. Laina</td>\n",
       "      <td>0</td>\n",
       "      <td>26.0</td>\n",
       "      <td>0</td>\n",
       "      <td>0</td>\n",
       "      <td>STON/O2. 3101282</td>\n",
       "      <td>7.9250</td>\n",
       "      <td>NaN</td>\n",
       "      <td>S</td>\n",
       "    </tr>\n",
       "    <tr>\n",
       "      <th>3</th>\n",
       "      <td>4</td>\n",
       "      <td>1</td>\n",
       "      <td>1</td>\n",
       "      <td>Futrelle, Mrs. Jacques Heath (Lily May Peel)</td>\n",
       "      <td>0</td>\n",
       "      <td>35.0</td>\n",
       "      <td>1</td>\n",
       "      <td>0</td>\n",
       "      <td>113803</td>\n",
       "      <td>53.1000</td>\n",
       "      <td>C123</td>\n",
       "      <td>S</td>\n",
       "    </tr>\n",
       "    <tr>\n",
       "      <th>4</th>\n",
       "      <td>5</td>\n",
       "      <td>0</td>\n",
       "      <td>3</td>\n",
       "      <td>Allen, Mr. William Henry</td>\n",
       "      <td>1</td>\n",
       "      <td>35.0</td>\n",
       "      <td>0</td>\n",
       "      <td>0</td>\n",
       "      <td>373450</td>\n",
       "      <td>8.0500</td>\n",
       "      <td>NaN</td>\n",
       "      <td>S</td>\n",
       "    </tr>\n",
       "  </tbody>\n",
       "</table>\n",
       "</div>"
      ],
      "text/plain": [
       "   PassengerId  Survived  Pclass  \\\n",
       "0            1         0       3   \n",
       "1            2         1       1   \n",
       "2            3         1       3   \n",
       "3            4         1       1   \n",
       "4            5         0       3   \n",
       "\n",
       "                                                Name  Sex   Age  SibSp  Parch  \\\n",
       "0                            Braund, Mr. Owen Harris    1  22.0      1      0   \n",
       "1  Cumings, Mrs. John Bradley (Florence Briggs Th...    0  38.0      1      0   \n",
       "2                             Heikkinen, Miss. Laina    0  26.0      0      0   \n",
       "3       Futrelle, Mrs. Jacques Heath (Lily May Peel)    0  35.0      1      0   \n",
       "4                           Allen, Mr. William Henry    1  35.0      0      0   \n",
       "\n",
       "             Ticket     Fare Cabin Embarked  \n",
       "0         A/5 21171   7.2500   NaN        S  \n",
       "1          PC 17599  71.2833   C85        C  \n",
       "2  STON/O2. 3101282   7.9250   NaN        S  \n",
       "3            113803  53.1000  C123        S  \n",
       "4            373450   8.0500   NaN        S  "
      ]
     },
     "execution_count": 7,
     "metadata": {},
     "output_type": "execute_result"
    }
   ],
   "source": [
    "train.head()"
   ]
  },
  {
   "cell_type": "code",
   "execution_count": 8,
   "id": "2f11c1e1",
   "metadata": {},
   "outputs": [],
   "source": [
    "train['Embarked'].replace({\n",
    "    np.nan : 'C'\n",
    "}, inplace=True)"
   ]
  },
  {
   "cell_type": "code",
   "execution_count": 9,
   "id": "830d59cb",
   "metadata": {},
   "outputs": [
    {
     "data": {
      "text/plain": [
       "PassengerId      0\n",
       "Survived         0\n",
       "Pclass           0\n",
       "Name             0\n",
       "Sex              0\n",
       "Age              0\n",
       "SibSp            0\n",
       "Parch            0\n",
       "Ticket           0\n",
       "Fare             0\n",
       "Cabin          687\n",
       "Embarked         0\n",
       "dtype: int64"
      ]
     },
     "execution_count": 9,
     "metadata": {},
     "output_type": "execute_result"
    }
   ],
   "source": [
    "train.isnull().sum()"
   ]
  },
  {
   "cell_type": "code",
   "execution_count": 10,
   "id": "40e23247",
   "metadata": {},
   "outputs": [
    {
     "data": {
      "text/plain": [
       "array(['S', 'C', 'Q'], dtype=object)"
      ]
     },
     "execution_count": 10,
     "metadata": {},
     "output_type": "execute_result"
    }
   ],
   "source": [
    "train['Embarked'].unique()"
   ]
  },
  {
   "cell_type": "code",
   "execution_count": 11,
   "id": "d6650156",
   "metadata": {},
   "outputs": [],
   "source": [
    "train['Embarked'].replace({\n",
    "    \"C\" : 1,\n",
    "    'Q' : 2,\n",
    "    'S' : 3\n",
    "}, inplace=True)"
   ]
  },
  {
   "cell_type": "code",
   "execution_count": 12,
   "id": "88a4a27d",
   "metadata": {},
   "outputs": [
    {
     "data": {
      "text/plain": [
       "array([3, 1, 2], dtype=int64)"
      ]
     },
     "execution_count": 12,
     "metadata": {},
     "output_type": "execute_result"
    }
   ],
   "source": [
    "train['Embarked'].unique()"
   ]
  },
  {
   "cell_type": "code",
   "execution_count": 13,
   "id": "06a5765f",
   "metadata": {},
   "outputs": [],
   "source": [
    "X = np.array(train[['Pclass', 'Sex', 'Age', 'SibSp', 'Parch', 'Embarked']])"
   ]
  },
  {
   "cell_type": "code",
   "execution_count": 15,
   "id": "a332844e",
   "metadata": {},
   "outputs": [
    {
     "data": {
      "text/plain": [
       "(891, 6)"
      ]
     },
     "execution_count": 15,
     "metadata": {},
     "output_type": "execute_result"
    }
   ],
   "source": [
    "X.shape"
   ]
  },
  {
   "cell_type": "code",
   "execution_count": 16,
   "id": "ed34bf82",
   "metadata": {},
   "outputs": [],
   "source": [
    "Y = np.array(train['Survived'])"
   ]
  },
  {
   "cell_type": "code",
   "execution_count": 17,
   "id": "8e326fe4",
   "metadata": {},
   "outputs": [
    {
     "data": {
      "text/plain": [
       "(891,)"
      ]
     },
     "execution_count": 17,
     "metadata": {},
     "output_type": "execute_result"
    }
   ],
   "source": [
    "Y.shape"
   ]
  },
  {
   "cell_type": "code",
   "execution_count": 18,
   "id": "41b333ab",
   "metadata": {},
   "outputs": [],
   "source": [
    "# Normalizing the training dataset\n",
    "mu_X = np.mean(X, axis=0)\n",
    "sigma_X = np.std(X, axis=0)\n",
    "X = (X - mu_X) / sigma_X"
   ]
  },
  {
   "cell_type": "code",
   "execution_count": 19,
   "id": "7e4d1d89",
   "metadata": {},
   "outputs": [
    {
     "data": {
      "text/plain": [
       "6.974147318082627"
      ]
     },
     "execution_count": 19,
     "metadata": {},
     "output_type": "execute_result"
    }
   ],
   "source": [
    "X.max()"
   ]
  },
  {
   "cell_type": "code",
   "execution_count": 20,
   "id": "b6643e2a",
   "metadata": {},
   "outputs": [
    {
     "data": {
      "text/plain": [
       "array([ 0.82737724,  0.73769513, -0.49424498,  0.43279337, -0.47367361,\n",
       "        0.58937471])"
      ]
     },
     "execution_count": 20,
     "metadata": {},
     "output_type": "execute_result"
    }
   ],
   "source": [
    "X[0]"
   ]
  },
  {
   "cell_type": "code",
   "execution_count": 21,
   "id": "23369135",
   "metadata": {},
   "outputs": [],
   "source": [
    "def sigmoid(z):\n",
    "    g = 1.0 / (1 + np.exp(-z))\n",
    "    return g"
   ]
  },
  {
   "cell_type": "code",
   "execution_count": 22,
   "id": "5ab3d496",
   "metadata": {},
   "outputs": [],
   "source": [
    "def compute_cost(x, y, w, b, lambda_=1):\n",
    "    m, n = x.shape\n",
    "    \n",
    "    z = np.dot(x, w) + b\n",
    "    f_wb = sigmoid(z)\n",
    "    \n",
    "    cost=-((1.0/m)*np.sum((y*np.log(f_wb)) + (1-y)*np.log(1-f_wb))) + (lambda_/(2*m))*np.sum(np.square(w))\n",
    "    return cost"
   ]
  },
  {
   "cell_type": "code",
   "execution_count": 23,
   "id": "b6e624b3",
   "metadata": {},
   "outputs": [],
   "source": [
    "def compute_gradient(x, y, w, b, lambda_=1):\n",
    "    m, n = x.shape\n",
    "    \n",
    "    dw = np.zeros((n, ))\n",
    "    db = 0.0\n",
    "    \n",
    "    for i in range(m):\n",
    "        z_i = np.dot(x[i], w) + b\n",
    "        f_wb_i = sigmoid(z_i)\n",
    "        err_i = f_wb_i - y[i]\n",
    "        for j in range(n):\n",
    "            dw[j] = dw[j] + (err_i * x[i, j])\n",
    "        db = db + err_i\n",
    "    dw = dw / m\n",
    "    db = db / m\n",
    "    \n",
    "    for j in range(n):\n",
    "        dw[j] = dw[j] + (lambda_/m) * w[j]\n",
    "    return dw, db"
   ]
  },
  {
   "cell_type": "code",
   "execution_count": 24,
   "id": "f52c31ab",
   "metadata": {},
   "outputs": [],
   "source": [
    "def gradient_descent(x, y, max_iter, alpha):\n",
    "    m, n = x.shape\n",
    "    w = np.zeros((n ,))\n",
    "    b = 0.0\n",
    "    \n",
    "    \n",
    "    J_hist = []\n",
    "    \n",
    "    for i in range(max_iter):\n",
    "        # Finding the value of the change i.e., dw and db\n",
    "        dw, db = compute_gradient(x, y, w, b)\n",
    "        \n",
    "        # Updating the parameters w and b\n",
    "        w = w - (alpha * dw)\n",
    "        b = b - (alpha * db)\n",
    "        \n",
    "        # Finding the value of the cost function\n",
    "        J_hist.append(compute_cost(x, y, w, b))\n",
    "        \n",
    "        # Printing the iteration and cost function value\n",
    "        if i%50==0:\n",
    "            print(f\"Iteration: {i}; Cost: {J_hist[i]}\")\n",
    "    \n",
    "    # Plotting the learning curve\n",
    "    plt.plot(range(max_iter), J_hist)\n",
    "    plt.title(\"Learning Curve\")\n",
    "    plt.xlabel(\"Iteration\")\n",
    "    plt.ylabel(\"Cost\")\n",
    "    plt.show()\n",
    "    return w, b"
   ]
  },
  {
   "cell_type": "code",
   "execution_count": 25,
   "id": "ca322afb",
   "metadata": {},
   "outputs": [
    {
     "name": "stdout",
     "output_type": "stream",
     "text": [
      "Iteration: 0; Cost: 0.6919479008761301\n",
      "Iteration: 50; Cost: 0.640238048366653\n",
      "Iteration: 100; Cost: 0.6016007790730473\n",
      "Iteration: 150; Cost: 0.5723650117437057\n",
      "Iteration: 200; Cost: 0.5499156061958759\n",
      "Iteration: 250; Cost: 0.5324164897422018\n",
      "Iteration: 300; Cost: 0.5185779226883335\n",
      "Iteration: 350; Cost: 0.5074862642126291\n",
      "Iteration: 400; Cost: 0.4984862952094335\n",
      "Iteration: 450; Cost: 0.49110155826272145\n",
      "Iteration: 500; Cost: 0.48498062344875503\n",
      "Iteration: 550; Cost: 0.4798606470745804\n",
      "Iteration: 600; Cost: 0.47554241186123075\n",
      "Iteration: 650; Cost: 0.471873023156028\n",
      "Iteration: 700; Cost: 0.46873375633583164\n",
      "Iteration: 750; Cost: 0.4660314094642298\n",
      "Iteration: 800; Cost: 0.46369207077180613\n",
      "Iteration: 850; Cost: 0.4616565708611956\n",
      "Iteration: 900; Cost: 0.459877125030784\n",
      "Iteration: 950; Cost: 0.45831482655333394\n",
      "Iteration: 1000; Cost: 0.4569377555022372\n",
      "Iteration: 1050; Cost: 0.45571953778800384\n",
      "Iteration: 1100; Cost: 0.4546382369471281\n",
      "Iteration: 1150; Cost: 0.45367549432241655\n",
      "Iteration: 1200; Cost: 0.4528158564103443\n",
      "Iteration: 1250; Cost: 0.4520462445000814\n",
      "Iteration: 1300; Cost: 0.45135553340157974\n",
      "Iteration: 1350; Cost: 0.4507342144765781\n",
      "Iteration: 1400; Cost: 0.4501741243121017\n",
      "Iteration: 1450; Cost: 0.44966822487442026\n",
      "Iteration: 1500; Cost: 0.449210424312933\n",
      "Iteration: 1550; Cost: 0.4487954300707631\n",
      "Iteration: 1600; Cost: 0.4484186278302107\n",
      "Iteration: 1650; Cost: 0.44807598123952636\n",
      "Iteration: 1700; Cost: 0.44776394844996825\n",
      "Iteration: 1750; Cost: 0.44747941232383476\n",
      "Iteration: 1800; Cost: 0.4472196218173349\n",
      "Iteration: 1850; Cost: 0.44698214254256313\n",
      "Iteration: 1900; Cost: 0.4467648149044754\n",
      "Iteration: 1950; Cost: 0.44656571851699567\n",
      "Iteration: 2000; Cost: 0.44638314184628747\n",
      "Iteration: 2050; Cost: 0.4462155562232448\n",
      "Iteration: 2100; Cost: 0.4460615935223533\n",
      "Iteration: 2150; Cost: 0.4459200269286656\n",
      "Iteration: 2200; Cost: 0.44578975431517576\n",
      "Iteration: 2250; Cost: 0.4456697838343784\n",
      "Iteration: 2300; Cost: 0.4455592213941436\n",
      "Iteration: 2350; Cost: 0.44545725974227446\n",
      "Iteration: 2400; Cost: 0.44536316892861616\n",
      "Iteration: 2450; Cost: 0.44527628795026164\n",
      "Iteration: 2500; Cost: 0.4451960174157053\n",
      "Iteration: 2550; Cost: 0.4451218130889632\n",
      "Iteration: 2600; Cost: 0.4450531801956184\n",
      "Iteration: 2650; Cost: 0.4449896683902508\n",
      "Iteration: 2700; Cost: 0.44493086729937537\n",
      "Iteration: 2750; Cost: 0.44487640256633815\n",
      "Iteration: 2800; Cost: 0.44482593233501333\n",
      "Iteration: 2850; Cost: 0.44477914411793074\n",
      "Iteration: 2900; Cost: 0.4447357520019131\n",
      "Iteration: 2950; Cost: 0.44469549415063986\n",
      "Iteration: 3000; Cost: 0.44465813056894476\n",
      "Iteration: 3050; Cost: 0.4446234410982768\n",
      "Iteration: 3100; Cost: 0.4445912236166962\n",
      "Iteration: 3150; Cost: 0.4445612924201747\n",
      "Iteration: 3200; Cost: 0.44453347676488686\n",
      "Iteration: 3250; Cost: 0.4445076195526928\n",
      "Iteration: 3300; Cost: 0.4444835761441972\n",
      "Iteration: 3350; Cost: 0.4444612132856411\n",
      "Iteration: 3400; Cost: 0.4444404081375299\n",
      "Iteration: 3450; Cost: 0.44442104739431554\n",
      "Iteration: 3500; Cost: 0.4444030264856923\n",
      "Iteration: 3550; Cost: 0.44438624885114625\n",
      "Iteration: 3600; Cost: 0.4443706252803437\n",
      "Iteration: 3650; Cost: 0.44435607331277394\n",
      "Iteration: 3700; Cost: 0.4443425166907833\n",
      "Iteration: 3750; Cost: 0.44432988486078456\n",
      "Iteration: 3800; Cost: 0.4443181125179798\n",
      "Iteration: 3850; Cost: 0.4443071391904354\n",
      "Iteration: 3900; Cost: 0.4442969088587859\n",
      "Iteration: 3950; Cost: 0.44428736960822934\n",
      "Iteration: 4000; Cost: 0.4442784733098206\n",
      "Iteration: 4050; Cost: 0.4442701753283736\n",
      "Iteration: 4100; Cost: 0.4442624342545558\n",
      "Iteration: 4150; Cost: 0.4442552116589958\n",
      "Iteration: 4200; Cost: 0.44424847186644134\n",
      "Iteration: 4250; Cost: 0.4442421817481982\n",
      "Iteration: 4300; Cost: 0.4442363105312464\n",
      "Iteration: 4350; Cost: 0.4442308296225891\n",
      "Iteration: 4400; Cost: 0.44422571244752057\n",
      "Iteration: 4450; Cost: 0.4442209343006286\n",
      "Iteration: 4500; Cost: 0.4442164722084493\n",
      "Iteration: 4550; Cost: 0.44421230480280166\n",
      "Iteration: 4600; Cost: 0.44420841220390533\n",
      "Iteration: 4650; Cost: 0.4442047759124786\n",
      "Iteration: 4700; Cost: 0.44420137871007526\n",
      "Iteration: 4750; Cost: 0.444198204566992\n",
      "Iteration: 4800; Cost: 0.4441952385571312\n",
      "Iteration: 4850; Cost: 0.444192466779263\n",
      "Iteration: 4900; Cost: 0.4441898762841718\n",
      "Iteration: 4950; Cost: 0.4441874550072256\n",
      "Iteration: 5000; Cost: 0.44418519170593584\n",
      "Iteration: 5050; Cost: 0.44418307590212\n",
      "Iteration: 5100; Cost: 0.44418109782830756\n",
      "Iteration: 5150; Cost: 0.44417924837806083\n",
      "Iteration: 5200; Cost: 0.44417751905990915\n",
      "Iteration: 5250; Cost: 0.4441759019546203\n",
      "Iteration: 5300; Cost: 0.4441743896755548\n",
      "Iteration: 5350; Cost: 0.44417297533186967\n",
      "Iteration: 5400; Cost: 0.44417165249435675\n",
      "Iteration: 5450; Cost: 0.444170415163718\n",
      "Iteration: 5500; Cost: 0.4441692577410967\n",
      "Iteration: 5550; Cost: 0.44416817500069533\n",
      "Iteration: 5600; Cost: 0.4441671620643277\n",
      "Iteration: 5650; Cost: 0.444166214377762\n",
      "Iteration: 5700; Cost: 0.44416532768872263\n",
      "Iteration: 5750; Cost: 0.44416449802643226\n",
      "Iteration: 5800; Cost: 0.4441637216825792\n",
      "Iteration: 5850; Cost: 0.44416299519360875\n",
      "Iteration: 5900; Cost: 0.4441623153242424\n",
      "Iteration: 5950; Cost: 0.444161679052137\n",
      "Iteration: 6000; Cost: 0.4441610835536016\n",
      "Iteration: 6050; Cost: 0.4441605261902969\n",
      "Iteration: 6100; Cost: 0.44416000449684784\n",
      "Iteration: 6150; Cost: 0.44415951616930355\n",
      "Iteration: 6200; Cost: 0.44415905905438585\n",
      "Iteration: 6250; Cost: 0.44415863113947057\n",
      "Iteration: 6300; Cost: 0.4441582305432492\n",
      "Iteration: 6350; Cost: 0.4441578555070248\n",
      "Iteration: 6400; Cost: 0.44415750438659674\n",
      "Iteration: 6450; Cost: 0.4441571756446942\n",
      "Iteration: 6500; Cost: 0.4441568678439188\n",
      "Iteration: 6550; Cost: 0.4441565796401634\n",
      "Iteration: 6600; Cost: 0.4441563097764724\n",
      "Iteration: 6650; Cost: 0.44415605707731315\n",
      "Iteration: 6700; Cost: 0.44415582044323154\n",
      "Iteration: 6750; Cost: 0.4441555988458644\n",
      "Iteration: 6800; Cost: 0.4441553913232847\n",
      "Iteration: 6850; Cost: 0.4441551969756554\n",
      "Iteration: 6900; Cost: 0.44415501496117515\n",
      "Iteration: 6950; Cost: 0.44415484449228965\n",
      "Iteration: 7000; Cost: 0.4441546848321563\n",
      "Iteration: 7050; Cost: 0.4441545352913428\n",
      "Iteration: 7100; Cost: 0.4441543952247424\n",
      "Iteration: 7150; Cost: 0.44415426402869446\n",
      "Iteration: 7200; Cost: 0.4441541411382935\n",
      "Iteration: 7250; Cost: 0.4441540260248762\n",
      "Iteration: 7300; Cost: 0.4441539181936732\n",
      "Iteration: 7350; Cost: 0.44415381718161456\n",
      "Iteration: 7400; Cost: 0.4441537225552804\n",
      "Iteration: 7450; Cost: 0.44415363390898444\n",
      "Iteration: 7500; Cost: 0.4441535508629837\n",
      "Iteration: 7550; Cost: 0.4441534730618041\n",
      "Iteration: 7600; Cost: 0.4441534001726777\n",
      "Iteration: 7650; Cost: 0.4441533318840788\n",
      "Iteration: 7700; Cost: 0.44415326790435755\n",
      "Iteration: 7750; Cost: 0.44415320796046126\n",
      "Iteration: 7800; Cost: 0.44415315179673986\n",
      "Iteration: 7850; Cost: 0.4441530991738279\n",
      "Iteration: 7900; Cost: 0.4441530498675997\n",
      "Iteration: 7950; Cost: 0.444153003668192\n",
      "Iteration: 8000; Cost: 0.44415296037908997\n",
      "Iteration: 8050; Cost: 0.4441529198162721\n",
      "Iteration: 8100; Cost: 0.44415288180741075\n",
      "Iteration: 8150; Cost: 0.4441528461911243\n",
      "Iteration: 8200; Cost: 0.44415281281627667\n",
      "Iteration: 8250; Cost: 0.44415278154132387\n",
      "Iteration: 8300; Cost: 0.44415275223370043\n",
      "Iteration: 8350; Cost: 0.44415272476924705\n",
      "Iteration: 8400; Cost: 0.4441526990316742\n",
      "Iteration: 8450; Cost: 0.44415267491206034\n",
      "Iteration: 8500; Cost: 0.4441526523083828\n",
      "Iteration: 8550; Cost: 0.4441526311250779\n",
      "Iteration: 8600; Cost: 0.4441526112726305\n",
      "Iteration: 8650; Cost: 0.44415259266718854\n",
      "Iteration: 8700; Cost: 0.4441525752302031\n",
      "Iteration: 8750; Cost: 0.4441525588880917\n",
      "Iteration: 8800; Cost: 0.44415254357192213\n",
      "Iteration: 8850; Cost: 0.4441525292171178\n",
      "Iteration: 8900; Cost: 0.4441525157631806\n",
      "Iteration: 8950; Cost: 0.44415250315343263\n",
      "Iteration: 9000; Cost: 0.4441524913347737\n",
      "Iteration: 9050; Cost: 0.44415248025745435\n",
      "Iteration: 9100; Cost: 0.44415246987486384\n",
      "Iteration: 9150; Cost: 0.4441524601433309\n",
      "Iteration: 9200; Cost: 0.444152451021938\n",
      "Iteration: 9250; Cost: 0.4441524424723467\n",
      "Iteration: 9300; Cost: 0.44415243445863467\n",
      "Iteration: 9350; Cost: 0.44415242694714263\n",
      "Iteration: 9400; Cost: 0.4441524199063315\n",
      "Iteration: 9450; Cost: 0.4441524133066479\n",
      "Iteration: 9500; Cost: 0.4441524071203996\n",
      "Iteration: 9550; Cost: 0.44415240132163664\n",
      "Iteration: 9600; Cost: 0.4441523958860424\n",
      "Iteration: 9650; Cost: 0.44415239079082997\n",
      "Iteration: 9700; Cost: 0.4441523860146456\n"
     ]
    },
    {
     "name": "stdout",
     "output_type": "stream",
     "text": [
      "Iteration: 9750; Cost: 0.4441523815374783\n",
      "Iteration: 9800; Cost: 0.4441523773405756\n",
      "Iteration: 9850; Cost: 0.44415237340636327\n",
      "Iteration: 9900; Cost: 0.44415236971837174\n",
      "Iteration: 9950; Cost: 0.4441523662611663\n"
     ]
    },
    {
     "data": {
      "image/png": "[encoded data removed]",
      "text/plain": [
       "<Figure size 432x288 with 1 Axes>"
      ]
     },
     "metadata": {
      "needs_background": "light"
     },
     "output_type": "display_data"
    }
   ],
   "source": [
    "w1, b1 = gradient_descent(X, Y, 10000, 1e-2)"
   ]
  },
  {
   "cell_type": "code",
   "execution_count": 26,
   "id": "031347e3",
   "metadata": {},
   "outputs": [],
   "source": [
    "test = pd.read_csv('test.csv')"
   ]
  },
  {
   "cell_type": "code",
   "execution_count": 27,
   "id": "2cd0352d",
   "metadata": {},
   "outputs": [],
   "source": [
    "test['Sex'].replace({\n",
    "    'male' : 1, \n",
    "    'female': 0\n",
    "}, inplace=True)"
   ]
  },
  {
   "cell_type": "code",
   "execution_count": 28,
   "id": "f7ceebae",
   "metadata": {},
   "outputs": [
    {
     "data": {
      "text/plain": [
       "PassengerId      0\n",
       "Pclass           0\n",
       "Name             0\n",
       "Sex              0\n",
       "Age             86\n",
       "SibSp            0\n",
       "Parch            0\n",
       "Ticket           0\n",
       "Fare             1\n",
       "Cabin          327\n",
       "Embarked         0\n",
       "dtype: int64"
      ]
     },
     "execution_count": 28,
     "metadata": {},
     "output_type": "execute_result"
    }
   ],
   "source": [
    "test.isnull().sum()"
   ]
  },
  {
   "cell_type": "code",
   "execution_count": 29,
   "id": "29e7eeb4",
   "metadata": {},
   "outputs": [
    {
     "data": {
      "text/plain": [
       "array([34.5 , 47.  , 62.  , 27.  , 22.  , 14.  , 30.  , 26.  , 18.  ,\n",
       "       21.  ,   nan, 46.  , 23.  , 63.  , 24.  , 35.  , 45.  , 55.  ,\n",
       "        9.  , 48.  , 50.  , 22.5 , 41.  , 33.  , 18.5 , 25.  , 39.  ,\n",
       "       60.  , 36.  , 20.  , 28.  , 10.  , 17.  , 32.  , 13.  , 31.  ,\n",
       "       29.  , 28.5 , 32.5 ,  6.  , 67.  , 49.  ,  2.  , 76.  , 43.  ,\n",
       "       16.  ,  1.  , 12.  , 42.  , 53.  , 26.5 , 40.  , 61.  , 60.5 ,\n",
       "        7.  , 15.  , 54.  , 64.  , 37.  , 34.  , 11.5 ,  8.  ,  0.33,\n",
       "       38.  , 57.  , 40.5 ,  0.92, 19.  , 36.5 ,  0.75,  0.83, 58.  ,\n",
       "        0.17, 59.  , 14.5 , 44.  ,  5.  , 51.  ,  3.  , 38.5 ])"
      ]
     },
     "execution_count": 29,
     "metadata": {},
     "output_type": "execute_result"
    }
   ],
   "source": [
    "test['Age'].unique()"
   ]
  },
  {
   "cell_type": "code",
   "execution_count": 30,
   "id": "c32bc5ee",
   "metadata": {},
   "outputs": [],
   "source": [
    "test['Age'].replace({\n",
    "    np.nan : np.sum(test['Age']) / test.shape[0]\n",
    "}, inplace=True)"
   ]
  },
  {
   "cell_type": "code",
   "execution_count": 31,
   "id": "09496da3",
   "metadata": {},
   "outputs": [
    {
     "data": {
      "text/plain": [
       "array([34.5       , 47.        , 62.        , 27.        , 22.        ,\n",
       "       14.        , 30.        , 26.        , 18.        , 21.        ,\n",
       "       24.04425837, 46.        , 23.        , 63.        , 24.        ,\n",
       "       35.        , 45.        , 55.        ,  9.        , 48.        ,\n",
       "       50.        , 22.5       , 41.        , 33.        , 18.5       ,\n",
       "       25.        , 39.        , 60.        , 36.        , 20.        ,\n",
       "       28.        , 10.        , 17.        , 32.        , 13.        ,\n",
       "       31.        , 29.        , 28.5       , 32.5       ,  6.        ,\n",
       "       67.        , 49.        ,  2.        , 76.        , 43.        ,\n",
       "       16.        ,  1.        , 12.        , 42.        , 53.        ,\n",
       "       26.5       , 40.        , 61.        , 60.5       ,  7.        ,\n",
       "       15.        , 54.        , 64.        , 37.        , 34.        ,\n",
       "       11.5       ,  8.        ,  0.33      , 38.        , 57.        ,\n",
       "       40.5       ,  0.92      , 19.        , 36.5       ,  0.75      ,\n",
       "        0.83      , 58.        ,  0.17      , 59.        , 14.5       ,\n",
       "       44.        ,  5.        , 51.        ,  3.        , 38.5       ])"
      ]
     },
     "execution_count": 31,
     "metadata": {},
     "output_type": "execute_result"
    }
   ],
   "source": [
    "test['Age'].unique()"
   ]
  },
  {
   "cell_type": "code",
   "execution_count": 32,
   "id": "a113bd19",
   "metadata": {},
   "outputs": [],
   "source": [
    "test['Embarked'].replace({\n",
    "    \"C\" : 1,\n",
    "    'Q' : 2,\n",
    "    'S' : 3\n",
    "}, inplace=True)"
   ]
  },
  {
   "cell_type": "code",
   "execution_count": 33,
   "id": "f42f762f",
   "metadata": {},
   "outputs": [
    {
     "data": {
      "text/plain": [
       "array([2, 3, 1], dtype=int64)"
      ]
     },
     "execution_count": 33,
     "metadata": {},
     "output_type": "execute_result"
    }
   ],
   "source": [
    "test['Embarked'].unique()"
   ]
  },
  {
   "cell_type": "code",
   "execution_count": 34,
   "id": "abc2f46a",
   "metadata": {},
   "outputs": [
    {
     "data": {
      "text/plain": [
       "PassengerId      0\n",
       "Pclass           0\n",
       "Name             0\n",
       "Sex              0\n",
       "Age              0\n",
       "SibSp            0\n",
       "Parch            0\n",
       "Ticket           0\n",
       "Fare             1\n",
       "Cabin          327\n",
       "Embarked         0\n",
       "dtype: int64"
      ]
     },
     "execution_count": 34,
     "metadata": {},
     "output_type": "execute_result"
    }
   ],
   "source": [
    "test.isnull().sum()"
   ]
  },
  {
   "cell_type": "code",
   "execution_count": 35,
   "id": "0162c052",
   "metadata": {},
   "outputs": [],
   "source": [
    "X_test = np.array(test[['Pclass', 'Sex', 'Age', 'SibSp', 'Parch', 'Embarked']])"
   ]
  },
  {
   "cell_type": "code",
   "execution_count": 37,
   "id": "be374242",
   "metadata": {},
   "outputs": [
    {
     "data": {
      "text/plain": [
       "(418, 6)"
      ]
     },
     "execution_count": 37,
     "metadata": {},
     "output_type": "execute_result"
    }
   ],
   "source": [
    "X_test.shape"
   ]
  },
  {
   "cell_type": "code",
   "execution_count": 38,
   "id": "623204c6",
   "metadata": {},
   "outputs": [],
   "source": [
    "# Normalizing the test dataset\n",
    "mu_test = np.mean(X_test, axis=0)\n",
    "sigma_test = np.std(X_test, axis=0)\n",
    "X_test = (X_test - mu_test) / sigma_test"
   ]
  },
  {
   "cell_type": "code",
   "execution_count": 39,
   "id": "9c8d609c",
   "metadata": {},
   "outputs": [
    {
     "data": {
      "text/plain": [
       "array([[ 0.87348191,  0.75592895,  0.42809939, -0.49947002, -0.4002477 ,\n",
       "        -0.47091535],\n",
       "       [ 0.87348191, -1.32287566,  1.39949183,  0.61699237, -0.4002477 ,\n",
       "         0.70076689],\n",
       "       [-0.31581919,  0.75592895,  2.56516276, -0.49947002, -0.4002477 ,\n",
       "        -0.47091535],\n",
       "       ...,\n",
       "       [ 0.87348191,  0.75592895,  0.73894497, -0.49947002, -0.4002477 ,\n",
       "         0.70076689],\n",
       "       [ 0.87348191,  0.75592895, -0.38443088, -0.49947002, -0.4002477 ,\n",
       "         0.70076689],\n",
       "       [ 0.87348191,  0.75592895, -0.38443088,  0.61699237,  0.61989583,\n",
       "        -1.64259759]])"
      ]
     },
     "execution_count": 39,
     "metadata": {},
     "output_type": "execute_result"
    }
   ],
   "source": [
    "X_test"
   ]
  },
  {
   "cell_type": "code",
   "execution_count": 40,
   "id": "959d7e00",
   "metadata": {},
   "outputs": [],
   "source": [
    "# Finding the optinmum boundary value condition\n",
    "output_train_1 = []\n",
    "for i in range(X.shape[0]):\n",
    "    value_train_1 = sigmoid(np.dot(X[i], w1) + b1)\n",
    "    if value_train_1 >= 0.5:\n",
    "        output_train_1.append(1)\n",
    "    else:\n",
    "        output_train_1.append(0)"
   ]
  },
  {
   "cell_type": "code",
   "execution_count": 41,
   "id": "13f5994a",
   "metadata": {},
   "outputs": [],
   "source": [
    "count_train_1 = 0\n",
    "for i in range(Y.shape[0]):\n",
    "    if output_train_1[i] != Y[i]:\n",
    "        count_train_1 += 1"
   ]
  },
  {
   "cell_type": "code",
   "execution_count": 42,
   "id": "858ba707",
   "metadata": {},
   "outputs": [
    {
     "data": {
      "text/plain": [
       "183"
      ]
     },
     "execution_count": 42,
     "metadata": {},
     "output_type": "execute_result"
    }
   ],
   "source": [
    "count_train_1"
   ]
  },
  {
   "cell_type": "code",
   "execution_count": 43,
   "id": "a9fe9707",
   "metadata": {},
   "outputs": [],
   "source": [
    "output_train_2 = []\n",
    "for i in range(X.shape[0]):\n",
    "    value_train_2 = sigmoid(np.dot(X[i], w1) + b1)\n",
    "    if value_train_2 >= 0.65:\n",
    "        output_train_2.append(1)\n",
    "    else:\n",
    "        output_train_2.append(0)"
   ]
  },
  {
   "cell_type": "code",
   "execution_count": 44,
   "id": "ab350369",
   "metadata": {},
   "outputs": [
    {
     "data": {
      "text/plain": [
       "False"
      ]
     },
     "execution_count": 44,
     "metadata": {},
     "output_type": "execute_result"
    }
   ],
   "source": [
    "output_train_2==output_train_1"
   ]
  },
  {
   "cell_type": "code",
   "execution_count": 45,
   "id": "3c3388f6",
   "metadata": {},
   "outputs": [],
   "source": [
    "count_train_2 = 0\n",
    "for i in range(Y.shape[0]):\n",
    "    if output_train_2[i] != Y[i]:\n",
    "        count_train_2 += 1"
   ]
  },
  {
   "cell_type": "code",
   "execution_count": 46,
   "id": "987f7300",
   "metadata": {},
   "outputs": [
    {
     "data": {
      "text/plain": [
       "167"
      ]
     },
     "execution_count": 46,
     "metadata": {},
     "output_type": "execute_result"
    }
   ],
   "source": [
    "count_train_2"
   ]
  },
  {
   "cell_type": "code",
   "execution_count": 47,
   "id": "3ae78e5e",
   "metadata": {},
   "outputs": [],
   "source": [
    "output_train_3 = []\n",
    "for i in range(X.shape[0]):\n",
    "    value_train_3 = sigmoid(np.dot(X[i], w1) + b1)\n",
    "    if value_train_3 >= 0.70:\n",
    "        output_train_3.append(1)\n",
    "    else:\n",
    "        output_train_3.append(0)"
   ]
  },
  {
   "cell_type": "code",
   "execution_count": 48,
   "id": "5afdecda",
   "metadata": {},
   "outputs": [
    {
     "data": {
      "text/plain": [
       "False"
      ]
     },
     "execution_count": 48,
     "metadata": {},
     "output_type": "execute_result"
    }
   ],
   "source": [
    "output_train_3 == output_train_2"
   ]
  },
  {
   "cell_type": "code",
   "execution_count": 49,
   "id": "2c9f87b2",
   "metadata": {},
   "outputs": [],
   "source": [
    "count_train_3 = 0\n",
    "for i in range(Y.shape[0]):\n",
    "    if output_train_3[i] != Y[i]:\n",
    "        count_train_3 += 1"
   ]
  },
  {
   "cell_type": "code",
   "execution_count": 50,
   "id": "15310311",
   "metadata": {},
   "outputs": [
    {
     "data": {
      "text/plain": [
       "186"
      ]
     },
     "execution_count": 50,
     "metadata": {},
     "output_type": "execute_result"
    }
   ],
   "source": [
    "count_train_3"
   ]
  },
  {
   "cell_type": "code",
   "execution_count": 51,
   "id": "14f94b80",
   "metadata": {},
   "outputs": [],
   "source": [
    "output_train_4 = []\n",
    "for i in range(X.shape[0]):\n",
    "    value_train_4 = sigmoid(np.dot(X[i], w1) + b1)\n",
    "    if value_train_4 >= 0.60:\n",
    "        output_train_4.append(1)\n",
    "    else:\n",
    "        output_train_4.append(0)"
   ]
  },
  {
   "cell_type": "code",
   "execution_count": 52,
   "id": "3c50057d",
   "metadata": {},
   "outputs": [
    {
     "data": {
      "text/plain": [
       "False"
      ]
     },
     "execution_count": 52,
     "metadata": {},
     "output_type": "execute_result"
    }
   ],
   "source": [
    "output_train_4 == output_train_2"
   ]
  },
  {
   "cell_type": "code",
   "execution_count": 53,
   "id": "7a115cda",
   "metadata": {},
   "outputs": [],
   "source": [
    "count_train_4 = 0\n",
    "for i in range(Y.shape[0]):\n",
    "    if output_train_4[i] != Y[i]:\n",
    "        count_train_4 += 1"
   ]
  },
  {
   "cell_type": "code",
   "execution_count": 54,
   "id": "1aa61650",
   "metadata": {},
   "outputs": [
    {
     "data": {
      "text/plain": [
       "167"
      ]
     },
     "execution_count": 54,
     "metadata": {},
     "output_type": "execute_result"
    }
   ],
   "source": [
    "count_train_4"
   ]
  },
  {
   "cell_type": "code",
   "execution_count": 55,
   "id": "13acd6da",
   "metadata": {},
   "outputs": [],
   "source": [
    "output_test_1 = []\n",
    "for i in range(X_test.shape[0]):\n",
    "    value_test_1 = sigmoid(np.dot(X_test[i], w1) + b1)\n",
    "    if value_test_1 >= 0.60:\n",
    "        output_test_1.append(1)\n",
    "    else:\n",
    "        output_test_1.append(0)"
   ]
  },
  {
   "cell_type": "code",
   "execution_count": 57,
   "id": "cae8a8e3",
   "metadata": {},
   "outputs": [
    {
     "data": {
      "text/plain": [
       "128"
      ]
     },
     "execution_count": 57,
     "metadata": {},
     "output_type": "execute_result"
    }
   ],
   "source": [
    "output_test_1.count(1)"
   ]
  },
  {
   "cell_type": "code",
   "execution_count": 58,
   "id": "f0049c91",
   "metadata": {},
   "outputs": [
    {
     "data": {
      "text/plain": [
       "290"
      ]
     },
     "execution_count": 58,
     "metadata": {},
     "output_type": "execute_result"
    }
   ],
   "source": [
    "output_test_1.count(0)"
   ]
  },
  {
   "cell_type": "code",
   "execution_count": 59,
   "id": "d83a6c7f",
   "metadata": {},
   "outputs": [],
   "source": [
    "output_test_1 = np.array(output_test_1)"
   ]
  },
  {
   "cell_type": "code",
   "execution_count": 60,
   "id": "a3fda9bd",
   "metadata": {},
   "outputs": [
    {
     "data": {
      "text/plain": [
       "(418,)"
      ]
     },
     "execution_count": 60,
     "metadata": {},
     "output_type": "execute_result"
    }
   ],
   "source": [
    "output_test_1.shape"
   ]
  },
  {
   "cell_type": "code",
   "execution_count": 61,
   "id": "45712efc",
   "metadata": {},
   "outputs": [
    {
     "data": {
      "text/html": [
       "<div>\n",
       "<style scoped>\n",
       "    .dataframe tbody tr th:only-of-type {\n",
       "        vertical-align: middle;\n",
       "    }\n",
       "\n",
       "    .dataframe tbody tr th {\n",
       "        vertical-align: top;\n",
       "    }\n",
       "\n",
       "    .dataframe thead th {\n",
       "        text-align: right;\n",
       "    }\n",
       "</style>\n",
       "<table border=\"1\" class=\"dataframe\">\n",
       "  <thead>\n",
       "    <tr style=\"text-align: right;\">\n",
       "      <th></th>\n",
       "      <th>PassengerId</th>\n",
       "      <th>Pclass</th>\n",
       "      <th>Name</th>\n",
       "      <th>Sex</th>\n",
       "      <th>Age</th>\n",
       "      <th>SibSp</th>\n",
       "      <th>Parch</th>\n",
       "      <th>Ticket</th>\n",
       "      <th>Fare</th>\n",
       "      <th>Cabin</th>\n",
       "      <th>Embarked</th>\n",
       "    </tr>\n",
       "  </thead>\n",
       "  <tbody>\n",
       "    <tr>\n",
       "      <th>0</th>\n",
       "      <td>892</td>\n",
       "      <td>3</td>\n",
       "      <td>Kelly, Mr. James</td>\n",
       "      <td>1</td>\n",
       "      <td>34.5</td>\n",
       "      <td>0</td>\n",
       "      <td>0</td>\n",
       "      <td>330911</td>\n",
       "      <td>7.8292</td>\n",
       "      <td>NaN</td>\n",
       "      <td>2</td>\n",
       "    </tr>\n",
       "  </tbody>\n",
       "</table>\n",
       "</div>"
      ],
      "text/plain": [
       "   PassengerId  Pclass              Name  Sex   Age  SibSp  Parch  Ticket  \\\n",
       "0          892       3  Kelly, Mr. James    1  34.5      0      0  330911   \n",
       "\n",
       "     Fare Cabin  Embarked  \n",
       "0  7.8292   NaN         2  "
      ]
     },
     "execution_count": 61,
     "metadata": {},
     "output_type": "execute_result"
    }
   ],
   "source": [
    "test.head(1)"
   ]
  },
  {
   "cell_type": "code",
   "execution_count": 62,
   "id": "ac122d1c",
   "metadata": {},
   "outputs": [],
   "source": [
    "PassengerId = np.array(test['PassengerId'])"
   ]
  },
  {
   "cell_type": "code",
   "execution_count": 63,
   "id": "8bbccd3d",
   "metadata": {},
   "outputs": [],
   "source": [
    "dataframe1 = pd.DataFrame([PassengerId, output_test_1])"
   ]
  },
  {
   "cell_type": "code",
   "execution_count": 64,
   "id": "c92851c5",
   "metadata": {},
   "outputs": [],
   "source": [
    "dataframe1 = dataframe1.T"
   ]
  },
  {
   "cell_type": "code",
   "execution_count": 65,
   "id": "6b52ddd1",
   "metadata": {},
   "outputs": [
    {
     "data": {
      "text/html": [
       "<div>\n",
       "<style scoped>\n",
       "    .dataframe tbody tr th:only-of-type {\n",
       "        vertical-align: middle;\n",
       "    }\n",
       "\n",
       "    .dataframe tbody tr th {\n",
       "        vertical-align: top;\n",
       "    }\n",
       "\n",
       "    .dataframe thead th {\n",
       "        text-align: right;\n",
       "    }\n",
       "</style>\n",
       "<table border=\"1\" class=\"dataframe\">\n",
       "  <thead>\n",
       "    <tr style=\"text-align: right;\">\n",
       "      <th></th>\n",
       "      <th>0</th>\n",
       "      <th>1</th>\n",
       "    </tr>\n",
       "  </thead>\n",
       "  <tbody>\n",
       "    <tr>\n",
       "      <th>0</th>\n",
       "      <td>892</td>\n",
       "      <td>0</td>\n",
       "    </tr>\n",
       "    <tr>\n",
       "      <th>1</th>\n",
       "      <td>893</td>\n",
       "      <td>0</td>\n",
       "    </tr>\n",
       "    <tr>\n",
       "      <th>2</th>\n",
       "      <td>894</td>\n",
       "      <td>0</td>\n",
       "    </tr>\n",
       "    <tr>\n",
       "      <th>3</th>\n",
       "      <td>895</td>\n",
       "      <td>0</td>\n",
       "    </tr>\n",
       "    <tr>\n",
       "      <th>4</th>\n",
       "      <td>896</td>\n",
       "      <td>0</td>\n",
       "    </tr>\n",
       "    <tr>\n",
       "      <th>...</th>\n",
       "      <td>...</td>\n",
       "      <td>...</td>\n",
       "    </tr>\n",
       "    <tr>\n",
       "      <th>413</th>\n",
       "      <td>1305</td>\n",
       "      <td>0</td>\n",
       "    </tr>\n",
       "    <tr>\n",
       "      <th>414</th>\n",
       "      <td>1306</td>\n",
       "      <td>1</td>\n",
       "    </tr>\n",
       "    <tr>\n",
       "      <th>415</th>\n",
       "      <td>1307</td>\n",
       "      <td>0</td>\n",
       "    </tr>\n",
       "    <tr>\n",
       "      <th>416</th>\n",
       "      <td>1308</td>\n",
       "      <td>0</td>\n",
       "    </tr>\n",
       "    <tr>\n",
       "      <th>417</th>\n",
       "      <td>1309</td>\n",
       "      <td>0</td>\n",
       "    </tr>\n",
       "  </tbody>\n",
       "</table>\n",
       "<p>418 rows × 2 columns</p>\n",
       "</div>"
      ],
      "text/plain": [
       "        0  1\n",
       "0     892  0\n",
       "1     893  0\n",
       "2     894  0\n",
       "3     895  0\n",
       "4     896  0\n",
       "..    ... ..\n",
       "413  1305  0\n",
       "414  1306  1\n",
       "415  1307  0\n",
       "416  1308  0\n",
       "417  1309  0\n",
       "\n",
       "[418 rows x 2 columns]"
      ]
     },
     "execution_count": 65,
     "metadata": {},
     "output_type": "execute_result"
    }
   ],
   "source": [
    "dataframe1"
   ]
  },
  {
   "cell_type": "code",
   "execution_count": 66,
   "id": "5a2c41f1",
   "metadata": {},
   "outputs": [],
   "source": [
    "dataframe1.rename(columns = {0:'PassengerId', 1:'Survived'}, inplace = True)"
   ]
  },
  {
   "cell_type": "code",
   "execution_count": 67,
   "id": "b74bf8e1",
   "metadata": {},
   "outputs": [
    {
     "data": {
      "text/html": [
       "<div>\n",
       "<style scoped>\n",
       "    .dataframe tbody tr th:only-of-type {\n",
       "        vertical-align: middle;\n",
       "    }\n",
       "\n",
       "    .dataframe tbody tr th {\n",
       "        vertical-align: top;\n",
       "    }\n",
       "\n",
       "    .dataframe thead th {\n",
       "        text-align: right;\n",
       "    }\n",
       "</style>\n",
       "<table border=\"1\" class=\"dataframe\">\n",
       "  <thead>\n",
       "    <tr style=\"text-align: right;\">\n",
       "      <th></th>\n",
       "      <th>PassengerId</th>\n",
       "      <th>Survived</th>\n",
       "    </tr>\n",
       "  </thead>\n",
       "  <tbody>\n",
       "    <tr>\n",
       "      <th>0</th>\n",
       "      <td>892</td>\n",
       "      <td>0</td>\n",
       "    </tr>\n",
       "    <tr>\n",
       "      <th>1</th>\n",
       "      <td>893</td>\n",
       "      <td>0</td>\n",
       "    </tr>\n",
       "    <tr>\n",
       "      <th>2</th>\n",
       "      <td>894</td>\n",
       "      <td>0</td>\n",
       "    </tr>\n",
       "    <tr>\n",
       "      <th>3</th>\n",
       "      <td>895</td>\n",
       "      <td>0</td>\n",
       "    </tr>\n",
       "    <tr>\n",
       "      <th>4</th>\n",
       "      <td>896</td>\n",
       "      <td>0</td>\n",
       "    </tr>\n",
       "    <tr>\n",
       "      <th>...</th>\n",
       "      <td>...</td>\n",
       "      <td>...</td>\n",
       "    </tr>\n",
       "    <tr>\n",
       "      <th>413</th>\n",
       "      <td>1305</td>\n",
       "      <td>0</td>\n",
       "    </tr>\n",
       "    <tr>\n",
       "      <th>414</th>\n",
       "      <td>1306</td>\n",
       "      <td>1</td>\n",
       "    </tr>\n",
       "    <tr>\n",
       "      <th>415</th>\n",
       "      <td>1307</td>\n",
       "      <td>0</td>\n",
       "    </tr>\n",
       "    <tr>\n",
       "      <th>416</th>\n",
       "      <td>1308</td>\n",
       "      <td>0</td>\n",
       "    </tr>\n",
       "    <tr>\n",
       "      <th>417</th>\n",
       "      <td>1309</td>\n",
       "      <td>0</td>\n",
       "    </tr>\n",
       "  </tbody>\n",
       "</table>\n",
       "<p>418 rows × 2 columns</p>\n",
       "</div>"
      ],
      "text/plain": [
       "     PassengerId  Survived\n",
       "0            892         0\n",
       "1            893         0\n",
       "2            894         0\n",
       "3            895         0\n",
       "4            896         0\n",
       "..           ...       ...\n",
       "413         1305         0\n",
       "414         1306         1\n",
       "415         1307         0\n",
       "416         1308         0\n",
       "417         1309         0\n",
       "\n",
       "[418 rows x 2 columns]"
      ]
     },
     "execution_count": 67,
     "metadata": {},
     "output_type": "execute_result"
    }
   ],
   "source": [
    "dataframe1"
   ]
  },
  {
   "cell_type": "code",
   "execution_count": 68,
   "id": "94278b76",
   "metadata": {},
   "outputs": [],
   "source": [
    "dataframe1.to_csv('gender_submission.csv', index=False)"
   ]
  },
  {
   "cell_type": "code",
   "execution_count": 70,
   "id": "5b8cb88e",
   "metadata": {},
   "outputs": [],
   "source": [
    "output_test_2 = []\n",
    "for i in range(X_test.shape[0]):\n",
    "    value_test_2 = sigmoid(np.dot(X_test[i], w1) + b1)\n",
    "    if value_test_2 >= 0.65:\n",
    "        output_test_2.append(1)\n",
    "    else:\n",
    "        output_test_2.append(0)"
   ]
  },
  {
   "cell_type": "code",
   "execution_count": 72,
   "id": "7cf80a1b",
   "metadata": {},
   "outputs": [
    {
     "data": {
      "text/plain": [
       "109"
      ]
     },
     "execution_count": 72,
     "metadata": {},
     "output_type": "execute_result"
    }
   ],
   "source": [
    "output_test_2.count(1)"
   ]
  },
  {
   "cell_type": "code",
   "execution_count": 73,
   "id": "1eb32d3d",
   "metadata": {},
   "outputs": [
    {
     "data": {
      "text/plain": [
       "309"
      ]
     },
     "execution_count": 73,
     "metadata": {},
     "output_type": "execute_result"
    }
   ],
   "source": [
    "output_test_2.count(0)"
   ]
  },
  {
   "cell_type": "code",
   "execution_count": 74,
   "id": "b0737618",
   "metadata": {},
   "outputs": [],
   "source": [
    "output_test_2 = np.array(output_test_2)"
   ]
  },
  {
   "cell_type": "code",
   "execution_count": 75,
   "id": "a639cbee",
   "metadata": {},
   "outputs": [],
   "source": [
    "dataframe2 = pd.DataFrame([PassengerId, output_test_2])"
   ]
  },
  {
   "cell_type": "code",
   "execution_count": 76,
   "id": "126c883f",
   "metadata": {},
   "outputs": [],
   "source": [
    "dataframe2 = dataframe2.T"
   ]
  },
  {
   "cell_type": "code",
   "execution_count": 77,
   "id": "b61f1960",
   "metadata": {},
   "outputs": [
    {
     "data": {
      "text/html": [
       "<div>\n",
       "<style scoped>\n",
       "    .dataframe tbody tr th:only-of-type {\n",
       "        vertical-align: middle;\n",
       "    }\n",
       "\n",
       "    .dataframe tbody tr th {\n",
       "        vertical-align: top;\n",
       "    }\n",
       "\n",
       "    .dataframe thead th {\n",
       "        text-align: right;\n",
       "    }\n",
       "</style>\n",
       "<table border=\"1\" class=\"dataframe\">\n",
       "  <thead>\n",
       "    <tr style=\"text-align: right;\">\n",
       "      <th></th>\n",
       "      <th>0</th>\n",
       "      <th>1</th>\n",
       "    </tr>\n",
       "  </thead>\n",
       "  <tbody>\n",
       "    <tr>\n",
       "      <th>0</th>\n",
       "      <td>892</td>\n",
       "      <td>0</td>\n",
       "    </tr>\n",
       "    <tr>\n",
       "      <th>1</th>\n",
       "      <td>893</td>\n",
       "      <td>0</td>\n",
       "    </tr>\n",
       "    <tr>\n",
       "      <th>2</th>\n",
       "      <td>894</td>\n",
       "      <td>0</td>\n",
       "    </tr>\n",
       "    <tr>\n",
       "      <th>3</th>\n",
       "      <td>895</td>\n",
       "      <td>0</td>\n",
       "    </tr>\n",
       "    <tr>\n",
       "      <th>4</th>\n",
       "      <td>896</td>\n",
       "      <td>0</td>\n",
       "    </tr>\n",
       "    <tr>\n",
       "      <th>...</th>\n",
       "      <td>...</td>\n",
       "      <td>...</td>\n",
       "    </tr>\n",
       "    <tr>\n",
       "      <th>413</th>\n",
       "      <td>1305</td>\n",
       "      <td>0</td>\n",
       "    </tr>\n",
       "    <tr>\n",
       "      <th>414</th>\n",
       "      <td>1306</td>\n",
       "      <td>1</td>\n",
       "    </tr>\n",
       "    <tr>\n",
       "      <th>415</th>\n",
       "      <td>1307</td>\n",
       "      <td>0</td>\n",
       "    </tr>\n",
       "    <tr>\n",
       "      <th>416</th>\n",
       "      <td>1308</td>\n",
       "      <td>0</td>\n",
       "    </tr>\n",
       "    <tr>\n",
       "      <th>417</th>\n",
       "      <td>1309</td>\n",
       "      <td>0</td>\n",
       "    </tr>\n",
       "  </tbody>\n",
       "</table>\n",
       "<p>418 rows × 2 columns</p>\n",
       "</div>"
      ],
      "text/plain": [
       "        0  1\n",
       "0     892  0\n",
       "1     893  0\n",
       "2     894  0\n",
       "3     895  0\n",
       "4     896  0\n",
       "..    ... ..\n",
       "413  1305  0\n",
       "414  1306  1\n",
       "415  1307  0\n",
       "416  1308  0\n",
       "417  1309  0\n",
       "\n",
       "[418 rows x 2 columns]"
      ]
     },
     "execution_count": 77,
     "metadata": {},
     "output_type": "execute_result"
    }
   ],
   "source": [
    "dataframe2"
   ]
  },
  {
   "cell_type": "code",
   "execution_count": 78,
   "id": "88dcb0ff",
   "metadata": {},
   "outputs": [],
   "source": [
    "dataframe2.rename(columns = {0:'PassengerId', 1:'Survived'}, inplace = True)"
   ]
  },
  {
   "cell_type": "code",
   "execution_count": 80,
   "id": "4c3ef508",
   "metadata": {},
   "outputs": [
    {
     "data": {
      "text/html": [
       "<div>\n",
       "<style scoped>\n",
       "    .dataframe tbody tr th:only-of-type {\n",
       "        vertical-align: middle;\n",
       "    }\n",
       "\n",
       "    .dataframe tbody tr th {\n",
       "        vertical-align: top;\n",
       "    }\n",
       "\n",
       "    .dataframe thead th {\n",
       "        text-align: right;\n",
       "    }\n",
       "</style>\n",
       "<table border=\"1\" class=\"dataframe\">\n",
       "  <thead>\n",
       "    <tr style=\"text-align: right;\">\n",
       "      <th></th>\n",
       "      <th>PassengerId</th>\n",
       "      <th>Survived</th>\n",
       "    </tr>\n",
       "  </thead>\n",
       "  <tbody>\n",
       "    <tr>\n",
       "      <th>0</th>\n",
       "      <td>892</td>\n",
       "      <td>0</td>\n",
       "    </tr>\n",
       "    <tr>\n",
       "      <th>1</th>\n",
       "      <td>893</td>\n",
       "      <td>0</td>\n",
       "    </tr>\n",
       "    <tr>\n",
       "      <th>2</th>\n",
       "      <td>894</td>\n",
       "      <td>0</td>\n",
       "    </tr>\n",
       "    <tr>\n",
       "      <th>3</th>\n",
       "      <td>895</td>\n",
       "      <td>0</td>\n",
       "    </tr>\n",
       "    <tr>\n",
       "      <th>4</th>\n",
       "      <td>896</td>\n",
       "      <td>0</td>\n",
       "    </tr>\n",
       "    <tr>\n",
       "      <th>5</th>\n",
       "      <td>897</td>\n",
       "      <td>0</td>\n",
       "    </tr>\n",
       "    <tr>\n",
       "      <th>6</th>\n",
       "      <td>898</td>\n",
       "      <td>0</td>\n",
       "    </tr>\n",
       "    <tr>\n",
       "      <th>7</th>\n",
       "      <td>899</td>\n",
       "      <td>0</td>\n",
       "    </tr>\n",
       "    <tr>\n",
       "      <th>8</th>\n",
       "      <td>900</td>\n",
       "      <td>1</td>\n",
       "    </tr>\n",
       "    <tr>\n",
       "      <th>9</th>\n",
       "      <td>901</td>\n",
       "      <td>0</td>\n",
       "    </tr>\n",
       "  </tbody>\n",
       "</table>\n",
       "</div>"
      ],
      "text/plain": [
       "   PassengerId  Survived\n",
       "0          892         0\n",
       "1          893         0\n",
       "2          894         0\n",
       "3          895         0\n",
       "4          896         0\n",
       "5          897         0\n",
       "6          898         0\n",
       "7          899         0\n",
       "8          900         1\n",
       "9          901         0"
      ]
     },
     "execution_count": 80,
     "metadata": {},
     "output_type": "execute_result"
    }
   ],
   "source": [
    "dataframe2.head(10)"
   ]
  },
  {
   "cell_type": "code",
   "execution_count": 81,
   "id": "b00dcfba",
   "metadata": {},
   "outputs": [],
   "source": [
    "dataframe2.to_csv('gender_submission.csv', index=False)"
   ]
  },
  {
   "cell_type": "code",
   "execution_count": null,
   "id": "69b590d4",
   "metadata": {},
   "outputs": [],
   "source": []
  }
 ],
 "metadata": {
  "kernelspec": {
   "display_name": "Python 3 (ipykernel)",
   "language": "python",
   "name": "python3"
  },
  "language_info": {
   "codemirror_mode": {
    "name": "ipython",
    "version": 3
   },
   "file_extension": ".py",
   "mimetype": "text/x-python",
   "name": "python",
   "nbconvert_exporter": "python",
   "pygments_lexer": "ipython3",
   "version": "3.9.12"
  }
 },
 "nbformat": 4,
 "nbformat_minor": 5
}
