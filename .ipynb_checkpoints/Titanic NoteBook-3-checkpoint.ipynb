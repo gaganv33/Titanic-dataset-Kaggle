{
 "cells": [
  {
   "cell_type": "code",
   "execution_count": 1,
   "id": "23015050",
   "metadata": {},
   "outputs": [],
   "source": [
    "import numpy as np\n",
    "import pandas as pd\n",
    "import matplotlib.pyplot as plt"
   ]
  },
  {
   "cell_type": "code",
   "execution_count": 2,
   "id": "61bae317",
   "metadata": {},
   "outputs": [],
   "source": [
    "def sigmoid(z):\n",
    "    return 1/(1+np.exp(-z))"
   ]
  },
  {
   "cell_type": "code",
   "execution_count": 3,
   "id": "864f3c0b",
   "metadata": {},
   "outputs": [],
   "source": [
    "def compute_cost(x, y, w, b):\n",
    "    m, n = x.shape\n",
    "    \n",
    "    z = np.dot(x,w) + b\n",
    "    f_wb = sigmoid(z)\n",
    "    \n",
    "    cost = -(1.0 / m) * np.sum((y * np.log(f_wb)) + (1 - y) * np.log(1 - f_wb))\n",
    "    return cost"
   ]
  },
  {
   "cell_type": "code",
   "execution_count": 4,
   "id": "32418966",
   "metadata": {},
   "outputs": [],
   "source": [
    "def compute_gradient_descent(x, y, w, b):\n",
    "    m, n = x.shape\n",
    "    \n",
    "    dw = np.zeros((n, ))\n",
    "    db = 0.0\n",
    "    for i in range(m):\n",
    "        f_wb_i = sigmoid(np.dot(x[i], w) + b)\n",
    "        err = f_wb_i - y[i]\n",
    "        for j in range(n):\n",
    "            dw[j] = dw[j] + err * x[i, j]\n",
    "        db = db + err\n",
    "    dw = dw / m\n",
    "    db = db / m\n",
    "    return dw, db"
   ]
  },
  {
   "cell_type": "code",
   "execution_count": 5,
   "id": "60269f17",
   "metadata": {},
   "outputs": [],
   "source": [
    "def gradient_descent(x, y):\n",
    "    m, n = x.shape\n",
    "    \n",
    "    w = np.zeros((n ,))\n",
    "    b = 0.0\n",
    "    alpha = 1e-2\n",
    "    max_iter = 10000\n",
    "    \n",
    "    losses = []\n",
    "    for i in range(max_iter):\n",
    "        cost = compute_cost(x, y, w, b)\n",
    "        losses.append(cost)\n",
    "        \n",
    "        if i%50 == 0:\n",
    "            print(f\"Iteration: {i}, Cost: {losses[i]}\")\n",
    "        dw, db = compute_gradient_descent(x, y, w, b)\n",
    "        \n",
    "        w = w - (alpha * dw)\n",
    "        b = b - (alpha * db)\n",
    "    return w, b"
   ]
  },
  {
   "cell_type": "code",
   "execution_count": 6,
   "id": "0f9e8221",
   "metadata": {},
   "outputs": [],
   "source": [
    "df = pd.read_csv('train.csv')"
   ]
  },
  {
   "cell_type": "code",
   "execution_count": 7,
   "id": "fdc6777f",
   "metadata": {},
   "outputs": [],
   "source": [
    "df['Sex'].replace({\n",
    "    'male' : 1,\n",
    "    'female' : 0\n",
    "}, inplace=True)"
   ]
  },
  {
   "cell_type": "code",
   "execution_count": 8,
   "id": "c7324e1b",
   "metadata": {},
   "outputs": [],
   "source": [
    "df['Age'].replace({\n",
    "    np.nan : np.sum(df['Age'])/ df.shape[0]\n",
    "}, inplace=True)"
   ]
  },
  {
   "cell_type": "code",
   "execution_count": 9,
   "id": "02a800ff",
   "metadata": {},
   "outputs": [
    {
     "data": {
      "text/plain": [
       "array([22.        , 38.        , 26.        , 35.        , 23.79929293,\n",
       "       54.        ,  2.        , 27.        , 14.        ,  4.        ,\n",
       "       58.        , 20.        , 39.        , 55.        , 31.        ,\n",
       "       34.        , 15.        , 28.        ,  8.        , 19.        ,\n",
       "       40.        , 66.        , 42.        , 21.        , 18.        ,\n",
       "        3.        ,  7.        , 49.        , 29.        , 65.        ,\n",
       "       28.5       ,  5.        , 11.        , 45.        , 17.        ,\n",
       "       32.        , 16.        , 25.        ,  0.83      , 30.        ,\n",
       "       33.        , 23.        , 24.        , 46.        , 59.        ,\n",
       "       71.        , 37.        , 47.        , 14.5       , 70.5       ,\n",
       "       32.5       , 12.        ,  9.        , 36.5       , 51.        ,\n",
       "       55.5       , 40.5       , 44.        ,  1.        , 61.        ,\n",
       "       56.        , 50.        , 36.        , 45.5       , 20.5       ,\n",
       "       62.        , 41.        , 52.        , 63.        , 23.5       ,\n",
       "        0.92      , 43.        , 60.        , 10.        , 64.        ,\n",
       "       13.        , 48.        ,  0.75      , 53.        , 57.        ,\n",
       "       80.        , 70.        , 24.5       ,  6.        ,  0.67      ,\n",
       "       30.5       ,  0.42      , 34.5       , 74.        ])"
      ]
     },
     "execution_count": 9,
     "metadata": {},
     "output_type": "execute_result"
    }
   ],
   "source": [
    "df['Age'].unique()"
   ]
  },
  {
   "cell_type": "code",
   "execution_count": 10,
   "id": "3def016d",
   "metadata": {},
   "outputs": [],
   "source": [
    "X = np.array(df[['Pclass', 'Sex', 'Age']])"
   ]
  },
  {
   "cell_type": "code",
   "execution_count": 11,
   "id": "ac589e7f",
   "metadata": {},
   "outputs": [],
   "source": [
    "Y = np.array(df['Survived'])"
   ]
  },
  {
   "cell_type": "code",
   "execution_count": 12,
   "id": "bfa8a6be",
   "metadata": {},
   "outputs": [
    {
     "name": "stdout",
     "output_type": "stream",
     "text": [
      "Iteration: 0, Cost: 0.6931471805599454\n",
      "Iteration: 50, Cost: 0.7197046363769347\n",
      "Iteration: 100, Cost: 0.7123891153214511\n",
      "Iteration: 150, Cost: 0.7060111910817716\n",
      "Iteration: 200, Cost: 0.7001875325527279\n",
      "Iteration: 250, Cost: 0.6946920133820781\n",
      "Iteration: 300, Cost: 0.6894010046591178\n",
      "Iteration: 350, Cost: 0.6842502603280775\n",
      "Iteration: 400, Cost: 0.679207834083961\n",
      "Iteration: 450, Cost: 0.6742584412222787\n",
      "Iteration: 500, Cost: 0.6693948797793711\n",
      "Iteration: 550, Cost: 0.6646135351668581\n",
      "Iteration: 600, Cost: 0.6599121494262399\n",
      "Iteration: 650, Cost: 0.6552887990574339\n",
      "Iteration: 700, Cost: 0.6507414898000847\n",
      "Iteration: 750, Cost: 0.6462680476315923\n",
      "Iteration: 800, Cost: 0.6418661383798187\n",
      "Iteration: 850, Cost: 0.6375333324498795\n",
      "Iteration: 900, Cost: 0.633267175921015\n",
      "Iteration: 950, Cost: 0.6290652521817294\n",
      "Iteration: 1000, Cost: 0.6249252293890687\n",
      "Iteration: 1050, Cost: 0.620844893993409\n",
      "Iteration: 1100, Cost: 0.6168221724408116\n",
      "Iteration: 1150, Cost: 0.6128551435848483\n",
      "Iteration: 1200, Cost: 0.6089420441455478\n",
      "Iteration: 1250, Cost: 0.6050812691538395\n",
      "Iteration: 1300, Cost: 0.6012713689002038\n",
      "Iteration: 1350, Cost: 0.5975110435399933\n",
      "Iteration: 1400, Cost: 0.5937991362150299\n",
      "Iteration: 1450, Cost: 0.5901346253294618\n",
      "Iteration: 1500, Cost: 0.5865166164571259\n",
      "Iteration: 1550, Cost: 0.5829443342467051\n",
      "Iteration: 1600, Cost: 0.5794171146202877\n",
      "Iteration: 1650, Cost: 0.5759343975244641\n",
      "Iteration: 1700, Cost: 0.5724957204878358\n",
      "Iteration: 1750, Cost: 0.5691007132661576\n",
      "Iteration: 1800, Cost: 0.5657490939222292\n",
      "Iteration: 1850, Cost: 0.5624406668049777\n",
      "Iteration: 1900, Cost: 0.5591753230837996\n",
      "Iteration: 1950, Cost: 0.5559530447991553\n",
      "Iteration: 2000, Cost: 0.5527739138749075\n",
      "Iteration: 2050, Cost: 0.5496381283150987\n",
      "Iteration: 2100, Cost: 0.5465460290741433\n",
      "Iteration: 2150, Cost: 0.5434981431921908\n",
      "Iteration: 2200, Cost: 0.5404952523538127\n",
      "Iteration: 2250, Cost: 0.5375385022119306\n",
      "Iteration: 2300, Cost: 0.5346295787807606\n",
      "Iteration: 2350, Cost: 0.5317709980308563\n",
      "Iteration: 2400, Cost: 0.5289665912398936\n",
      "Iteration: 2450, Cost: 0.5262223357927479\n",
      "Iteration: 2500, Cost: 0.5235478021380092\n",
      "Iteration: 2550, Cost: 0.5209586872573391\n",
      "Iteration: 2600, Cost: 0.5184811441170798\n",
      "Iteration: 2650, Cost: 0.5161584886430542\n",
      "Iteration: 2700, Cost: 0.5140586319928359\n",
      "Iteration: 2750, Cost: 0.5122720174163531\n",
      "Iteration: 2800, Cost: 0.5108757819563469\n",
      "Iteration: 2850, Cost: 0.5098590818878422\n",
      "Iteration: 2900, Cost: 0.5090974229347062\n",
      "Iteration: 2950, Cost: 0.5084484001718851\n",
      "Iteration: 3000, Cost: 0.50783733147919\n",
      "Iteration: 3050, Cost: 0.5072431116209901\n",
      "Iteration: 3100, Cost: 0.5066619693451575\n",
      "Iteration: 3150, Cost: 0.5060931182290099\n",
      "Iteration: 3200, Cost: 0.505536090078808\n",
      "Iteration: 3250, Cost: 0.5049904560137013\n",
      "Iteration: 3300, Cost: 0.5044558077043796\n",
      "Iteration: 3350, Cost: 0.5039317554950956\n",
      "Iteration: 3400, Cost: 0.5034179273303256\n",
      "Iteration: 3450, Cost: 0.5029139678044284\n",
      "Iteration: 3500, Cost: 0.502419537293877\n",
      "Iteration: 3550, Cost: 0.5019343111556065\n",
      "Iteration: 3600, Cost: 0.5014579789803423\n",
      "Iteration: 3650, Cost: 0.5009902438930763\n",
      "Iteration: 3700, Cost: 0.5005308218950039\n",
      "Iteration: 3750, Cost: 0.5000794412426586\n",
      "Iteration: 3800, Cost: 0.4996358418609334\n",
      "Iteration: 3850, Cost: 0.49919977478731686\n",
      "Iteration: 3900, Cost: 0.4987710016451252\n",
      "Iteration: 3950, Cost: 0.4983492941438258\n",
      "Iteration: 4000, Cost: 0.4979344336047787\n",
      "Iteration: 4050, Cost: 0.4975262105108995\n",
      "Iteration: 4100, Cost: 0.4971244240788844\n",
      "Iteration: 4150, Cost: 0.49672888185274466\n",
      "Iteration: 4200, Cost: 0.49633939931749543\n",
      "Iteration: 4250, Cost: 0.4959557995319181\n",
      "Iteration: 4300, Cost: 0.4955779127793875\n",
      "Iteration: 4350, Cost: 0.4952055762358166\n",
      "Iteration: 4400, Cost: 0.49483863365382486\n",
      "Iteration: 4450, Cost: 0.49447693506229273\n",
      "Iteration: 4500, Cost: 0.49412033648050924\n",
      "Iteration: 4550, Cost: 0.4937686996461606\n",
      "Iteration: 4600, Cost: 0.4934218917564583\n",
      "Iteration: 4650, Cost: 0.4930797852217313\n",
      "Iteration: 4700, Cost: 0.49274225743085576\n",
      "Iteration: 4750, Cost: 0.4924091905279188\n",
      "Iteration: 4800, Cost: 0.4920804711995528\n",
      "Iteration: 4850, Cost: 0.4917559904724015\n",
      "Iteration: 4900, Cost: 0.49143564352021246\n",
      "Iteration: 4950, Cost: 0.4911193294800716\n",
      "Iteration: 5000, Cost: 0.49080695127732715\n",
      "Iteration: 5050, Cost: 0.49049841545876843\n",
      "Iteration: 5100, Cost: 0.49019363203365174\n",
      "Iteration: 5150, Cost: 0.489892514322185\n",
      "Iteration: 5200, Cost: 0.48959497881110314\n",
      "Iteration: 5250, Cost: 0.48930094501598587\n",
      "Iteration: 5300, Cost: 0.48901033534998706\n",
      "Iteration: 5350, Cost: 0.48872307499866124\n",
      "Iteration: 5400, Cost: 0.4884390918005918\n",
      "Iteration: 5450, Cost: 0.4881583161335358\n",
      "Iteration: 5500, Cost: 0.4878806808058207\n",
      "Iteration: 5550, Cost: 0.48760612095273637\n",
      "Iteration: 5600, Cost: 0.4873345739376816\n",
      "Iteration: 5650, Cost: 0.48706597925783773\n",
      "Iteration: 5700, Cost: 0.4868002784541499\n",
      "Iteration: 5750, Cost: 0.4865374150254104\n",
      "Iteration: 5800, Cost: 0.48627733434624865\n",
      "Iteration: 5850, Cost: 0.4860199835888398\n",
      "Iteration: 5900, Cost: 0.4857653116481573\n",
      "Iteration: 5950, Cost: 0.4855132690705991\n",
      "Iteration: 6000, Cost: 0.4852638079858297\n",
      "Iteration: 6050, Cost: 0.4850168820416841\n",
      "Iteration: 6100, Cost: 0.48477244634199207\n",
      "Iteration: 6150, Cost: 0.48453045738718264\n",
      "Iteration: 6200, Cost: 0.4842908730175403\n",
      "Iteration: 6250, Cost: 0.48405365235898845\n",
      "Iteration: 6300, Cost: 0.48381875577128153\n",
      "Iteration: 6350, Cost: 0.4835861447984946\n",
      "Iteration: 6400, Cost: 0.4833557821217023\n",
      "Iteration: 6450, Cost: 0.48312763151374755\n",
      "Iteration: 6500, Cost: 0.4829016577960006\n",
      "Iteration: 6550, Cost: 0.4826778267970195\n",
      "Iteration: 6600, Cost: 0.4824561053130222\n",
      "Iteration: 6650, Cost: 0.48223646107008794\n",
      "Iteration: 6700, Cost: 0.48201886268800836\n",
      "Iteration: 6750, Cost: 0.4818032796457124\n",
      "Iteration: 6800, Cost: 0.48158968224819404\n",
      "Iteration: 6850, Cost: 0.4813780415948734\n",
      "Iteration: 6900, Cost: 0.48116832954932637\n",
      "Iteration: 6950, Cost: 0.48096051871032036\n",
      "Iteration: 7000, Cost: 0.48075458238409696\n",
      "Iteration: 7050, Cost: 0.4805504945578457\n",
      "Iteration: 7100, Cost: 0.4803482298743144\n",
      "Iteration: 7150, Cost: 0.4801477636075044\n",
      "Iteration: 7200, Cost: 0.47994907163940354\n",
      "Iteration: 7250, Cost: 0.47975213043770815\n",
      "Iteration: 7300, Cost: 0.4795569170344922\n",
      "Iteration: 7350, Cost: 0.4793634090057777\n",
      "Iteration: 7400, Cost: 0.47917158445197\n",
      "Iteration: 7450, Cost: 0.4789814219791165\n",
      "Iteration: 7500, Cost: 0.4787929006809535\n",
      "Iteration: 7550, Cost: 0.47860600012170584\n",
      "Iteration: 7600, Cost: 0.4784207003196052\n",
      "Iteration: 7650, Cost: 0.4782369817310968\n",
      "Iteration: 7700, Cost: 0.47805482523570236\n",
      "Iteration: 7750, Cost: 0.4778742121215114\n",
      "Iteration: 7800, Cost: 0.47769512407127285\n",
      "Iteration: 7850, Cost: 0.47751754314906036\n",
      "Iteration: 7900, Cost: 0.47734145178748616\n",
      "Iteration: 7950, Cost: 0.47716683277544003\n",
      "Iteration: 8000, Cost: 0.47699366924632924\n",
      "Iteration: 8050, Cost: 0.4768219446667984\n",
      "Iteration: 8100, Cost: 0.47665164282590794\n",
      "Iteration: 8150, Cost: 0.4764827478247512\n",
      "Iteration: 8200, Cost: 0.47631524406649134\n",
      "Iteration: 8250, Cost: 0.4761491162467991\n",
      "Iteration: 8300, Cost: 0.4759843493446751\n",
      "Iteration: 8350, Cost: 0.47582092861363856\n",
      "Iteration: 8400, Cost: 0.4756588395732685\n",
      "Iteration: 8450, Cost: 0.4754980680010797\n",
      "Iteration: 8500, Cost: 0.47533859992472194\n",
      "Iteration: 8550, Cost: 0.47518042161448554\n",
      "Iteration: 8600, Cost: 0.4750235195761022\n",
      "Iteration: 8650, Cost: 0.47486788054382834\n",
      "Iteration: 8700, Cost: 0.4747134914737969\n",
      "Iteration: 8750, Cost: 0.4745603395376282\n",
      "Iteration: 8800, Cost: 0.4744084121162885\n",
      "Iteration: 8850, Cost: 0.47425769679418417\n",
      "Iteration: 8900, Cost: 0.474108181353483\n",
      "Iteration: 8950, Cost: 0.4739598537686529\n",
      "Iteration: 9000, Cost: 0.47381270220120714\n",
      "Iteration: 9050, Cost: 0.47366671499464985\n",
      "Iteration: 9100, Cost: 0.473521880669611\n",
      "Iteration: 9150, Cost: 0.4733781879191643\n",
      "Iteration: 9200, Cost: 0.4732356256043201\n",
      "Iteration: 9250, Cost: 0.4730941827496849\n",
      "Iteration: 9300, Cost: 0.4729538485392815\n",
      "Iteration: 9350, Cost: 0.47281461231252386\n",
      "Iteration: 9400, Cost: 0.4726764635603371\n",
      "Iteration: 9450, Cost: 0.47253939192141997\n",
      "Iteration: 9500, Cost: 0.47240338717864233\n",
      "Iteration: 9550, Cost: 0.4722684392555717\n",
      "Iteration: 9600, Cost: 0.47213453821312384\n",
      "Iteration: 9650, Cost: 0.472001674246333\n",
      "Iteration: 9700, Cost: 0.47186983768123564\n"
     ]
    },
    {
     "name": "stdout",
     "output_type": "stream",
     "text": [
      "Iteration: 9750, Cost: 0.47173901897186316\n",
      "Iteration: 9800, Cost: 0.47160920869734047\n",
      "Iteration: 9850, Cost: 0.4714803975590844\n",
      "Iteration: 9900, Cost: 0.4713525763780977\n",
      "Iteration: 9950, Cost: 0.4712257360923573\n"
     ]
    }
   ],
   "source": [
    "w, b = gradient_descent(X, Y)"
   ]
  },
  {
   "cell_type": "code",
   "execution_count": 13,
   "id": "5939cee6",
   "metadata": {},
   "outputs": [],
   "source": [
    "y_pred = sigmoid(np.dot(X, w) + b)"
   ]
  },
  {
   "cell_type": "code",
   "execution_count": 14,
   "id": "4da361ef",
   "metadata": {},
   "outputs": [],
   "source": [
    "output = []\n",
    "m = X.shape[0]\n",
    "for i in range(m):\n",
    "    value = sigmoid(np.dot(X[i], w) + b)\n",
    "    if value >= 0.65:\n",
    "        output.append(1)\n",
    "    else:\n",
    "        output.append(0)"
   ]
  },
  {
   "cell_type": "code",
   "execution_count": 15,
   "id": "96a73069",
   "metadata": {},
   "outputs": [],
   "source": [
    "output = np.array(output)"
   ]
  },
  {
   "cell_type": "code",
   "execution_count": 16,
   "id": "b141d649",
   "metadata": {},
   "outputs": [
    {
     "data": {
      "text/plain": [
       "(891,)"
      ]
     },
     "execution_count": 16,
     "metadata": {},
     "output_type": "execute_result"
    }
   ],
   "source": [
    "output.shape"
   ]
  },
  {
   "cell_type": "code",
   "execution_count": 17,
   "id": "a7e3bbb4",
   "metadata": {},
   "outputs": [],
   "source": [
    "count_wrong = 0\n",
    "for i in range(m):\n",
    "    if output[i] != Y[i]:\n",
    "        count_wrong +=1"
   ]
  },
  {
   "cell_type": "code",
   "execution_count": 18,
   "id": "5c3d468b",
   "metadata": {},
   "outputs": [
    {
     "data": {
      "text/plain": [
       "190"
      ]
     },
     "execution_count": 18,
     "metadata": {},
     "output_type": "execute_result"
    }
   ],
   "source": [
    "count_wrong"
   ]
  },
  {
   "cell_type": "code",
   "execution_count": 19,
   "id": "26d180b7",
   "metadata": {},
   "outputs": [
    {
     "data": {
      "text/plain": [
       "78.67564534231201"
      ]
     },
     "execution_count": 19,
     "metadata": {},
     "output_type": "execute_result"
    }
   ],
   "source": [
    "((m - count_wrong) / m) * 100"
   ]
  },
  {
   "cell_type": "code",
   "execution_count": 20,
   "id": "c79fee50",
   "metadata": {},
   "outputs": [],
   "source": [
    "test = pd.read_csv('test.csv')"
   ]
  },
  {
   "cell_type": "code",
   "execution_count": 21,
   "id": "9fd6c62a",
   "metadata": {},
   "outputs": [
    {
     "data": {
      "text/html": [
       "<div>\n",
       "<style scoped>\n",
       "    .dataframe tbody tr th:only-of-type {\n",
       "        vertical-align: middle;\n",
       "    }\n",
       "\n",
       "    .dataframe tbody tr th {\n",
       "        vertical-align: top;\n",
       "    }\n",
       "\n",
       "    .dataframe thead th {\n",
       "        text-align: right;\n",
       "    }\n",
       "</style>\n",
       "<table border=\"1\" class=\"dataframe\">\n",
       "  <thead>\n",
       "    <tr style=\"text-align: right;\">\n",
       "      <th></th>\n",
       "      <th>PassengerId</th>\n",
       "      <th>Pclass</th>\n",
       "      <th>Name</th>\n",
       "      <th>Sex</th>\n",
       "      <th>Age</th>\n",
       "      <th>SibSp</th>\n",
       "      <th>Parch</th>\n",
       "      <th>Ticket</th>\n",
       "      <th>Fare</th>\n",
       "      <th>Cabin</th>\n",
       "      <th>Embarked</th>\n",
       "    </tr>\n",
       "  </thead>\n",
       "  <tbody>\n",
       "    <tr>\n",
       "      <th>0</th>\n",
       "      <td>892</td>\n",
       "      <td>3</td>\n",
       "      <td>Kelly, Mr. James</td>\n",
       "      <td>male</td>\n",
       "      <td>34.5</td>\n",
       "      <td>0</td>\n",
       "      <td>0</td>\n",
       "      <td>330911</td>\n",
       "      <td>7.8292</td>\n",
       "      <td>NaN</td>\n",
       "      <td>Q</td>\n",
       "    </tr>\n",
       "    <tr>\n",
       "      <th>1</th>\n",
       "      <td>893</td>\n",
       "      <td>3</td>\n",
       "      <td>Wilkes, Mrs. James (Ellen Needs)</td>\n",
       "      <td>female</td>\n",
       "      <td>47.0</td>\n",
       "      <td>1</td>\n",
       "      <td>0</td>\n",
       "      <td>363272</td>\n",
       "      <td>7.0000</td>\n",
       "      <td>NaN</td>\n",
       "      <td>S</td>\n",
       "    </tr>\n",
       "    <tr>\n",
       "      <th>2</th>\n",
       "      <td>894</td>\n",
       "      <td>2</td>\n",
       "      <td>Myles, Mr. Thomas Francis</td>\n",
       "      <td>male</td>\n",
       "      <td>62.0</td>\n",
       "      <td>0</td>\n",
       "      <td>0</td>\n",
       "      <td>240276</td>\n",
       "      <td>9.6875</td>\n",
       "      <td>NaN</td>\n",
       "      <td>Q</td>\n",
       "    </tr>\n",
       "    <tr>\n",
       "      <th>3</th>\n",
       "      <td>895</td>\n",
       "      <td>3</td>\n",
       "      <td>Wirz, Mr. Albert</td>\n",
       "      <td>male</td>\n",
       "      <td>27.0</td>\n",
       "      <td>0</td>\n",
       "      <td>0</td>\n",
       "      <td>315154</td>\n",
       "      <td>8.6625</td>\n",
       "      <td>NaN</td>\n",
       "      <td>S</td>\n",
       "    </tr>\n",
       "    <tr>\n",
       "      <th>4</th>\n",
       "      <td>896</td>\n",
       "      <td>3</td>\n",
       "      <td>Hirvonen, Mrs. Alexander (Helga E Lindqvist)</td>\n",
       "      <td>female</td>\n",
       "      <td>22.0</td>\n",
       "      <td>1</td>\n",
       "      <td>1</td>\n",
       "      <td>3101298</td>\n",
       "      <td>12.2875</td>\n",
       "      <td>NaN</td>\n",
       "      <td>S</td>\n",
       "    </tr>\n",
       "  </tbody>\n",
       "</table>\n",
       "</div>"
      ],
      "text/plain": [
       "   PassengerId  Pclass                                          Name     Sex  \\\n",
       "0          892       3                              Kelly, Mr. James    male   \n",
       "1          893       3              Wilkes, Mrs. James (Ellen Needs)  female   \n",
       "2          894       2                     Myles, Mr. Thomas Francis    male   \n",
       "3          895       3                              Wirz, Mr. Albert    male   \n",
       "4          896       3  Hirvonen, Mrs. Alexander (Helga E Lindqvist)  female   \n",
       "\n",
       "    Age  SibSp  Parch   Ticket     Fare Cabin Embarked  \n",
       "0  34.5      0      0   330911   7.8292   NaN        Q  \n",
       "1  47.0      1      0   363272   7.0000   NaN        S  \n",
       "2  62.0      0      0   240276   9.6875   NaN        Q  \n",
       "3  27.0      0      0   315154   8.6625   NaN        S  \n",
       "4  22.0      1      1  3101298  12.2875   NaN        S  "
      ]
     },
     "execution_count": 21,
     "metadata": {},
     "output_type": "execute_result"
    }
   ],
   "source": [
    "test.head()"
   ]
  },
  {
   "cell_type": "code",
   "execution_count": 22,
   "id": "bf0cdb5b",
   "metadata": {},
   "outputs": [],
   "source": [
    "test['Sex'].replace({\n",
    "    'male': 1,\n",
    "    'female' : 0\n",
    "}, inplace=True)"
   ]
  },
  {
   "cell_type": "code",
   "execution_count": 23,
   "id": "e205b68f",
   "metadata": {},
   "outputs": [],
   "source": [
    "test['Age'].replace({\n",
    "    np.nan : np.sum(test['Age']) / test.shape[0]\n",
    "}, inplace=True)"
   ]
  },
  {
   "cell_type": "code",
   "execution_count": 24,
   "id": "6cf713fe",
   "metadata": {},
   "outputs": [
    {
     "data": {
      "text/plain": [
       "array([34.5       , 47.        , 62.        , 27.        , 22.        ,\n",
       "       14.        , 30.        , 26.        , 18.        , 21.        ,\n",
       "       24.04425837, 46.        , 23.        , 63.        , 24.        ,\n",
       "       35.        , 45.        , 55.        ,  9.        , 48.        ,\n",
       "       50.        , 22.5       , 41.        , 33.        , 18.5       ,\n",
       "       25.        , 39.        , 60.        , 36.        , 20.        ,\n",
       "       28.        , 10.        , 17.        , 32.        , 13.        ,\n",
       "       31.        , 29.        , 28.5       , 32.5       ,  6.        ,\n",
       "       67.        , 49.        ,  2.        , 76.        , 43.        ,\n",
       "       16.        ,  1.        , 12.        , 42.        , 53.        ,\n",
       "       26.5       , 40.        , 61.        , 60.5       ,  7.        ,\n",
       "       15.        , 54.        , 64.        , 37.        , 34.        ,\n",
       "       11.5       ,  8.        ,  0.33      , 38.        , 57.        ,\n",
       "       40.5       ,  0.92      , 19.        , 36.5       ,  0.75      ,\n",
       "        0.83      , 58.        ,  0.17      , 59.        , 14.5       ,\n",
       "       44.        ,  5.        , 51.        ,  3.        , 38.5       ])"
      ]
     },
     "execution_count": 24,
     "metadata": {},
     "output_type": "execute_result"
    }
   ],
   "source": [
    "test['Age'].unique()"
   ]
  },
  {
   "cell_type": "code",
   "execution_count": 25,
   "id": "b751ccf7",
   "metadata": {},
   "outputs": [],
   "source": [
    "X_test = np.array(test[['Pclass', 'Sex', 'Age']])"
   ]
  },
  {
   "cell_type": "code",
   "execution_count": 26,
   "id": "11fd0735",
   "metadata": {},
   "outputs": [],
   "source": [
    "output_test = []\n",
    "for i in range(X_test.shape[0]):\n",
    "    value = sigmoid(np.dot(X_test[i], w) + b)\n",
    "    if value >= 0.65:\n",
    "        output_test.append(1)\n",
    "    else:\n",
    "        output_test.append(0)\n",
    "output_test = np.array(output_test)"
   ]
  },
  {
   "cell_type": "code",
   "execution_count": 27,
   "id": "06b64455",
   "metadata": {},
   "outputs": [],
   "source": [
    "passengerId = np.array(test['PassengerId'])"
   ]
  },
  {
   "cell_type": "code",
   "execution_count": 28,
   "id": "0dc7f3d1",
   "metadata": {},
   "outputs": [],
   "source": [
    "final_df = pd.DataFrame([passengerId, output_test])"
   ]
  },
  {
   "cell_type": "code",
   "execution_count": 29,
   "id": "ada8f1af",
   "metadata": {},
   "outputs": [],
   "source": [
    "final_df = final_df.T "
   ]
  },
  {
   "cell_type": "code",
   "execution_count": 30,
   "id": "a9be027b",
   "metadata": {},
   "outputs": [
    {
     "data": {
      "text/html": [
       "<div>\n",
       "<style scoped>\n",
       "    .dataframe tbody tr th:only-of-type {\n",
       "        vertical-align: middle;\n",
       "    }\n",
       "\n",
       "    .dataframe tbody tr th {\n",
       "        vertical-align: top;\n",
       "    }\n",
       "\n",
       "    .dataframe thead th {\n",
       "        text-align: right;\n",
       "    }\n",
       "</style>\n",
       "<table border=\"1\" class=\"dataframe\">\n",
       "  <thead>\n",
       "    <tr style=\"text-align: right;\">\n",
       "      <th></th>\n",
       "      <th>0</th>\n",
       "      <th>1</th>\n",
       "    </tr>\n",
       "  </thead>\n",
       "  <tbody>\n",
       "    <tr>\n",
       "      <th>0</th>\n",
       "      <td>892</td>\n",
       "      <td>0</td>\n",
       "    </tr>\n",
       "    <tr>\n",
       "      <th>1</th>\n",
       "      <td>893</td>\n",
       "      <td>0</td>\n",
       "    </tr>\n",
       "    <tr>\n",
       "      <th>2</th>\n",
       "      <td>894</td>\n",
       "      <td>0</td>\n",
       "    </tr>\n",
       "    <tr>\n",
       "      <th>3</th>\n",
       "      <td>895</td>\n",
       "      <td>0</td>\n",
       "    </tr>\n",
       "    <tr>\n",
       "      <th>4</th>\n",
       "      <td>896</td>\n",
       "      <td>0</td>\n",
       "    </tr>\n",
       "    <tr>\n",
       "      <th>...</th>\n",
       "      <td>...</td>\n",
       "      <td>...</td>\n",
       "    </tr>\n",
       "    <tr>\n",
       "      <th>413</th>\n",
       "      <td>1305</td>\n",
       "      <td>0</td>\n",
       "    </tr>\n",
       "    <tr>\n",
       "      <th>414</th>\n",
       "      <td>1306</td>\n",
       "      <td>1</td>\n",
       "    </tr>\n",
       "    <tr>\n",
       "      <th>415</th>\n",
       "      <td>1307</td>\n",
       "      <td>0</td>\n",
       "    </tr>\n",
       "    <tr>\n",
       "      <th>416</th>\n",
       "      <td>1308</td>\n",
       "      <td>0</td>\n",
       "    </tr>\n",
       "    <tr>\n",
       "      <th>417</th>\n",
       "      <td>1309</td>\n",
       "      <td>0</td>\n",
       "    </tr>\n",
       "  </tbody>\n",
       "</table>\n",
       "<p>418 rows × 2 columns</p>\n",
       "</div>"
      ],
      "text/plain": [
       "        0  1\n",
       "0     892  0\n",
       "1     893  0\n",
       "2     894  0\n",
       "3     895  0\n",
       "4     896  0\n",
       "..    ... ..\n",
       "413  1305  0\n",
       "414  1306  1\n",
       "415  1307  0\n",
       "416  1308  0\n",
       "417  1309  0\n",
       "\n",
       "[418 rows x 2 columns]"
      ]
     },
     "execution_count": 30,
     "metadata": {},
     "output_type": "execute_result"
    }
   ],
   "source": [
    "final_df"
   ]
  },
  {
   "cell_type": "code",
   "execution_count": 31,
   "id": "5c548fb1",
   "metadata": {},
   "outputs": [],
   "source": [
    "final_df.rename(columns = {0:'PassengerId', 1:'Survived'}, inplace = True)"
   ]
  },
  {
   "cell_type": "code",
   "execution_count": 32,
   "id": "1de64898",
   "metadata": {},
   "outputs": [
    {
     "data": {
      "text/html": [
       "<div>\n",
       "<style scoped>\n",
       "    .dataframe tbody tr th:only-of-type {\n",
       "        vertical-align: middle;\n",
       "    }\n",
       "\n",
       "    .dataframe tbody tr th {\n",
       "        vertical-align: top;\n",
       "    }\n",
       "\n",
       "    .dataframe thead th {\n",
       "        text-align: right;\n",
       "    }\n",
       "</style>\n",
       "<table border=\"1\" class=\"dataframe\">\n",
       "  <thead>\n",
       "    <tr style=\"text-align: right;\">\n",
       "      <th></th>\n",
       "      <th>PassengerId</th>\n",
       "      <th>Survived</th>\n",
       "    </tr>\n",
       "  </thead>\n",
       "  <tbody>\n",
       "    <tr>\n",
       "      <th>0</th>\n",
       "      <td>892</td>\n",
       "      <td>0</td>\n",
       "    </tr>\n",
       "    <tr>\n",
       "      <th>1</th>\n",
       "      <td>893</td>\n",
       "      <td>0</td>\n",
       "    </tr>\n",
       "    <tr>\n",
       "      <th>2</th>\n",
       "      <td>894</td>\n",
       "      <td>0</td>\n",
       "    </tr>\n",
       "    <tr>\n",
       "      <th>3</th>\n",
       "      <td>895</td>\n",
       "      <td>0</td>\n",
       "    </tr>\n",
       "    <tr>\n",
       "      <th>4</th>\n",
       "      <td>896</td>\n",
       "      <td>0</td>\n",
       "    </tr>\n",
       "    <tr>\n",
       "      <th>...</th>\n",
       "      <td>...</td>\n",
       "      <td>...</td>\n",
       "    </tr>\n",
       "    <tr>\n",
       "      <th>413</th>\n",
       "      <td>1305</td>\n",
       "      <td>0</td>\n",
       "    </tr>\n",
       "    <tr>\n",
       "      <th>414</th>\n",
       "      <td>1306</td>\n",
       "      <td>1</td>\n",
       "    </tr>\n",
       "    <tr>\n",
       "      <th>415</th>\n",
       "      <td>1307</td>\n",
       "      <td>0</td>\n",
       "    </tr>\n",
       "    <tr>\n",
       "      <th>416</th>\n",
       "      <td>1308</td>\n",
       "      <td>0</td>\n",
       "    </tr>\n",
       "    <tr>\n",
       "      <th>417</th>\n",
       "      <td>1309</td>\n",
       "      <td>0</td>\n",
       "    </tr>\n",
       "  </tbody>\n",
       "</table>\n",
       "<p>418 rows × 2 columns</p>\n",
       "</div>"
      ],
      "text/plain": [
       "     PassengerId  Survived\n",
       "0            892         0\n",
       "1            893         0\n",
       "2            894         0\n",
       "3            895         0\n",
       "4            896         0\n",
       "..           ...       ...\n",
       "413         1305         0\n",
       "414         1306         1\n",
       "415         1307         0\n",
       "416         1308         0\n",
       "417         1309         0\n",
       "\n",
       "[418 rows x 2 columns]"
      ]
     },
     "execution_count": 32,
     "metadata": {},
     "output_type": "execute_result"
    }
   ],
   "source": [
    "final_df"
   ]
  },
  {
   "cell_type": "code",
   "execution_count": 33,
   "id": "4568ea74",
   "metadata": {},
   "outputs": [],
   "source": [
    "final_df.to_csv('gender_submission.csv', index=False)"
   ]
  },
  {
   "cell_type": "code",
   "execution_count": 39,
   "id": "c63043f9",
   "metadata": {},
   "outputs": [],
   "source": [
    "output_test = list(output_test)"
   ]
  },
  {
   "cell_type": "code",
   "execution_count": 40,
   "id": "3ceda189",
   "metadata": {},
   "outputs": [
    {
     "data": {
      "text/plain": [
       "80"
      ]
     },
     "execution_count": 40,
     "metadata": {},
     "output_type": "execute_result"
    }
   ],
   "source": [
    "output_test.count(1)"
   ]
  },
  {
   "cell_type": "code",
   "execution_count": 41,
   "id": "11ad423d",
   "metadata": {},
   "outputs": [
    {
     "data": {
      "text/plain": [
       "338"
      ]
     },
     "execution_count": 41,
     "metadata": {},
     "output_type": "execute_result"
    }
   ],
   "source": [
    "output_test.count(0)"
   ]
  },
  {
   "cell_type": "code",
   "execution_count": null,
   "id": "b4f29988",
   "metadata": {},
   "outputs": [],
   "source": []
  }
 ],
 "metadata": {
  "kernelspec": {
   "display_name": "Python 3 (ipykernel)",
   "language": "python",
   "name": "python3"
  },
  "language_info": {
   "codemirror_mode": {
    "name": "ipython",
    "version": 3
   },
   "file_extension": ".py",
   "mimetype": "text/x-python",
   "name": "python",
   "nbconvert_exporter": "python",
   "pygments_lexer": "ipython3",
   "version": "3.9.12"
  }
 },
 "nbformat": 4,
 "nbformat_minor": 5
}
