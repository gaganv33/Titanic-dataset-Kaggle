{
 "cells": [
  {
   "cell_type": "code",
   "execution_count": 2,
   "id": "90c54002",
   "metadata": {},
   "outputs": [],
   "source": [
    "import numpy as np\n",
    "import pandas as pd"
   ]
  },
  {
   "cell_type": "code",
   "execution_count": 3,
   "id": "449c66c6",
   "metadata": {},
   "outputs": [],
   "source": [
    "import tensorflow as tf"
   ]
  },
  {
   "cell_type": "code",
   "execution_count": 4,
   "id": "9ada1451",
   "metadata": {},
   "outputs": [],
   "source": [
    "train = pd.read_csv('train.csv')"
   ]
  },
  {
   "cell_type": "code",
   "execution_count": 5,
   "id": "5bc0ea26",
   "metadata": {},
   "outputs": [
    {
     "data": {
      "text/html": [
       "<div>\n",
       "<style scoped>\n",
       "    .dataframe tbody tr th:only-of-type {\n",
       "        vertical-align: middle;\n",
       "    }\n",
       "\n",
       "    .dataframe tbody tr th {\n",
       "        vertical-align: top;\n",
       "    }\n",
       "\n",
       "    .dataframe thead th {\n",
       "        text-align: right;\n",
       "    }\n",
       "</style>\n",
       "<table border=\"1\" class=\"dataframe\">\n",
       "  <thead>\n",
       "    <tr style=\"text-align: right;\">\n",
       "      <th></th>\n",
       "      <th>PassengerId</th>\n",
       "      <th>Survived</th>\n",
       "      <th>Pclass</th>\n",
       "      <th>Name</th>\n",
       "      <th>Sex</th>\n",
       "      <th>Age</th>\n",
       "      <th>SibSp</th>\n",
       "      <th>Parch</th>\n",
       "      <th>Ticket</th>\n",
       "      <th>Fare</th>\n",
       "      <th>Cabin</th>\n",
       "      <th>Embarked</th>\n",
       "    </tr>\n",
       "  </thead>\n",
       "  <tbody>\n",
       "    <tr>\n",
       "      <th>0</th>\n",
       "      <td>1</td>\n",
       "      <td>0</td>\n",
       "      <td>3</td>\n",
       "      <td>Braund, Mr. Owen Harris</td>\n",
       "      <td>male</td>\n",
       "      <td>22.0</td>\n",
       "      <td>1</td>\n",
       "      <td>0</td>\n",
       "      <td>A/5 21171</td>\n",
       "      <td>7.2500</td>\n",
       "      <td>NaN</td>\n",
       "      <td>S</td>\n",
       "    </tr>\n",
       "    <tr>\n",
       "      <th>1</th>\n",
       "      <td>2</td>\n",
       "      <td>1</td>\n",
       "      <td>1</td>\n",
       "      <td>Cumings, Mrs. John Bradley (Florence Briggs Th...</td>\n",
       "      <td>female</td>\n",
       "      <td>38.0</td>\n",
       "      <td>1</td>\n",
       "      <td>0</td>\n",
       "      <td>PC 17599</td>\n",
       "      <td>71.2833</td>\n",
       "      <td>C85</td>\n",
       "      <td>C</td>\n",
       "    </tr>\n",
       "    <tr>\n",
       "      <th>2</th>\n",
       "      <td>3</td>\n",
       "      <td>1</td>\n",
       "      <td>3</td>\n",
       "      <td>Heikkinen, Miss. Laina</td>\n",
       "      <td>female</td>\n",
       "      <td>26.0</td>\n",
       "      <td>0</td>\n",
       "      <td>0</td>\n",
       "      <td>STON/O2. 3101282</td>\n",
       "      <td>7.9250</td>\n",
       "      <td>NaN</td>\n",
       "      <td>S</td>\n",
       "    </tr>\n",
       "    <tr>\n",
       "      <th>3</th>\n",
       "      <td>4</td>\n",
       "      <td>1</td>\n",
       "      <td>1</td>\n",
       "      <td>Futrelle, Mrs. Jacques Heath (Lily May Peel)</td>\n",
       "      <td>female</td>\n",
       "      <td>35.0</td>\n",
       "      <td>1</td>\n",
       "      <td>0</td>\n",
       "      <td>113803</td>\n",
       "      <td>53.1000</td>\n",
       "      <td>C123</td>\n",
       "      <td>S</td>\n",
       "    </tr>\n",
       "    <tr>\n",
       "      <th>4</th>\n",
       "      <td>5</td>\n",
       "      <td>0</td>\n",
       "      <td>3</td>\n",
       "      <td>Allen, Mr. William Henry</td>\n",
       "      <td>male</td>\n",
       "      <td>35.0</td>\n",
       "      <td>0</td>\n",
       "      <td>0</td>\n",
       "      <td>373450</td>\n",
       "      <td>8.0500</td>\n",
       "      <td>NaN</td>\n",
       "      <td>S</td>\n",
       "    </tr>\n",
       "  </tbody>\n",
       "</table>\n",
       "</div>"
      ],
      "text/plain": [
       "   PassengerId  Survived  Pclass  \\\n",
       "0            1         0       3   \n",
       "1            2         1       1   \n",
       "2            3         1       3   \n",
       "3            4         1       1   \n",
       "4            5         0       3   \n",
       "\n",
       "                                                Name     Sex   Age  SibSp  \\\n",
       "0                            Braund, Mr. Owen Harris    male  22.0      1   \n",
       "1  Cumings, Mrs. John Bradley (Florence Briggs Th...  female  38.0      1   \n",
       "2                             Heikkinen, Miss. Laina  female  26.0      0   \n",
       "3       Futrelle, Mrs. Jacques Heath (Lily May Peel)  female  35.0      1   \n",
       "4                           Allen, Mr. William Henry    male  35.0      0   \n",
       "\n",
       "   Parch            Ticket     Fare Cabin Embarked  \n",
       "0      0         A/5 21171   7.2500   NaN        S  \n",
       "1      0          PC 17599  71.2833   C85        C  \n",
       "2      0  STON/O2. 3101282   7.9250   NaN        S  \n",
       "3      0            113803  53.1000  C123        S  \n",
       "4      0            373450   8.0500   NaN        S  "
      ]
     },
     "execution_count": 5,
     "metadata": {},
     "output_type": "execute_result"
    }
   ],
   "source": [
    "train.head()"
   ]
  },
  {
   "cell_type": "code",
   "execution_count": 7,
   "id": "dcc6a54c",
   "metadata": {},
   "outputs": [],
   "source": [
    "train['Sex'].replace({\n",
    "    'male' : 1,\n",
    "    'female' : 0\n",
    "}, inplace=True)"
   ]
  },
  {
   "cell_type": "code",
   "execution_count": 8,
   "id": "74120361",
   "metadata": {},
   "outputs": [
    {
     "data": {
      "text/html": [
       "<div>\n",
       "<style scoped>\n",
       "    .dataframe tbody tr th:only-of-type {\n",
       "        vertical-align: middle;\n",
       "    }\n",
       "\n",
       "    .dataframe tbody tr th {\n",
       "        vertical-align: top;\n",
       "    }\n",
       "\n",
       "    .dataframe thead th {\n",
       "        text-align: right;\n",
       "    }\n",
       "</style>\n",
       "<table border=\"1\" class=\"dataframe\">\n",
       "  <thead>\n",
       "    <tr style=\"text-align: right;\">\n",
       "      <th></th>\n",
       "      <th>PassengerId</th>\n",
       "      <th>Survived</th>\n",
       "      <th>Pclass</th>\n",
       "      <th>Name</th>\n",
       "      <th>Sex</th>\n",
       "      <th>Age</th>\n",
       "      <th>SibSp</th>\n",
       "      <th>Parch</th>\n",
       "      <th>Ticket</th>\n",
       "      <th>Fare</th>\n",
       "      <th>Cabin</th>\n",
       "      <th>Embarked</th>\n",
       "    </tr>\n",
       "  </thead>\n",
       "  <tbody>\n",
       "    <tr>\n",
       "      <th>0</th>\n",
       "      <td>1</td>\n",
       "      <td>0</td>\n",
       "      <td>3</td>\n",
       "      <td>Braund, Mr. Owen Harris</td>\n",
       "      <td>1</td>\n",
       "      <td>22.0</td>\n",
       "      <td>1</td>\n",
       "      <td>0</td>\n",
       "      <td>A/5 21171</td>\n",
       "      <td>7.25</td>\n",
       "      <td>NaN</td>\n",
       "      <td>S</td>\n",
       "    </tr>\n",
       "  </tbody>\n",
       "</table>\n",
       "</div>"
      ],
      "text/plain": [
       "   PassengerId  Survived  Pclass                     Name  Sex   Age  SibSp  \\\n",
       "0            1         0       3  Braund, Mr. Owen Harris    1  22.0      1   \n",
       "\n",
       "   Parch     Ticket  Fare Cabin Embarked  \n",
       "0      0  A/5 21171  7.25   NaN        S  "
      ]
     },
     "execution_count": 8,
     "metadata": {},
     "output_type": "execute_result"
    }
   ],
   "source": [
    "train.head(1)"
   ]
  },
  {
   "cell_type": "code",
   "execution_count": 11,
   "id": "85a99f5d",
   "metadata": {},
   "outputs": [],
   "source": [
    "train['Age'].replace({\n",
    "    np.nan : np.sum(train['Age']) / train.shape[0]\n",
    "}, inplace=True)"
   ]
  },
  {
   "cell_type": "code",
   "execution_count": 12,
   "id": "ec696623",
   "metadata": {},
   "outputs": [
    {
     "data": {
      "text/plain": [
       "(891, 12)"
      ]
     },
     "execution_count": 12,
     "metadata": {},
     "output_type": "execute_result"
    }
   ],
   "source": [
    "train.shape"
   ]
  },
  {
   "cell_type": "code",
   "execution_count": 13,
   "id": "55e74794",
   "metadata": {},
   "outputs": [
    {
     "data": {
      "text/plain": [
       "array([22.        , 38.        , 26.        , 35.        , 23.79929293,\n",
       "       54.        ,  2.        , 27.        , 14.        ,  4.        ,\n",
       "       58.        , 20.        , 39.        , 55.        , 31.        ,\n",
       "       34.        , 15.        , 28.        ,  8.        , 19.        ,\n",
       "       40.        , 66.        , 42.        , 21.        , 18.        ,\n",
       "        3.        ,  7.        , 49.        , 29.        , 65.        ,\n",
       "       28.5       ,  5.        , 11.        , 45.        , 17.        ,\n",
       "       32.        , 16.        , 25.        ,  0.83      , 30.        ,\n",
       "       33.        , 23.        , 24.        , 46.        , 59.        ,\n",
       "       71.        , 37.        , 47.        , 14.5       , 70.5       ,\n",
       "       32.5       , 12.        ,  9.        , 36.5       , 51.        ,\n",
       "       55.5       , 40.5       , 44.        ,  1.        , 61.        ,\n",
       "       56.        , 50.        , 36.        , 45.5       , 20.5       ,\n",
       "       62.        , 41.        , 52.        , 63.        , 23.5       ,\n",
       "        0.92      , 43.        , 60.        , 10.        , 64.        ,\n",
       "       13.        , 48.        ,  0.75      , 53.        , 57.        ,\n",
       "       80.        , 70.        , 24.5       ,  6.        ,  0.67      ,\n",
       "       30.5       ,  0.42      , 34.5       , 74.        ])"
      ]
     },
     "execution_count": 13,
     "metadata": {},
     "output_type": "execute_result"
    }
   ],
   "source": [
    "train['Age'].unique()"
   ]
  },
  {
   "cell_type": "code",
   "execution_count": 14,
   "id": "b1efc35b",
   "metadata": {},
   "outputs": [],
   "source": [
    "total_entries = train.shape[0]"
   ]
  },
  {
   "cell_type": "code",
   "execution_count": 15,
   "id": "2f4ab62c",
   "metadata": {},
   "outputs": [
    {
     "data": {
      "text/plain": [
       "891"
      ]
     },
     "execution_count": 15,
     "metadata": {},
     "output_type": "execute_result"
    }
   ],
   "source": [
    "total_entries"
   ]
  },
  {
   "cell_type": "code",
   "execution_count": 16,
   "id": "dd2dc462",
   "metadata": {},
   "outputs": [],
   "source": [
    "training_entries = np.round((60 * total_entries) / 100)"
   ]
  },
  {
   "cell_type": "code",
   "execution_count": 17,
   "id": "01aa8096",
   "metadata": {},
   "outputs": [],
   "source": [
    "cv_entries = np.round((20 * total_entries) / 100)"
   ]
  },
  {
   "cell_type": "code",
   "execution_count": 18,
   "id": "7c9fbb68",
   "metadata": {},
   "outputs": [],
   "source": [
    "test_entries = total_entries - training_entries - cv_entries"
   ]
  },
  {
   "cell_type": "code",
   "execution_count": 19,
   "id": "5e867a55",
   "metadata": {},
   "outputs": [],
   "source": [
    "# Sepreating the training dataset from the complete dataset\n",
    "Y = np.array(train['Survived'])"
   ]
  },
  {
   "cell_type": "code",
   "execution_count": 22,
   "id": "e83c722b",
   "metadata": {},
   "outputs": [
    {
     "data": {
      "text/plain": [
       "(891,)"
      ]
     },
     "execution_count": 22,
     "metadata": {},
     "output_type": "execute_result"
    }
   ],
   "source": [
    "Y.shape"
   ]
  },
  {
   "cell_type": "code",
   "execution_count": 24,
   "id": "a5c30869",
   "metadata": {},
   "outputs": [],
   "source": [
    "y_train = Y[:int(training_entries)]"
   ]
  },
  {
   "cell_type": "code",
   "execution_count": 25,
   "id": "bad5b342",
   "metadata": {},
   "outputs": [
    {
     "data": {
      "text/plain": [
       "(535,)"
      ]
     },
     "execution_count": 25,
     "metadata": {},
     "output_type": "execute_result"
    }
   ],
   "source": [
    "y_train.shape"
   ]
  },
  {
   "cell_type": "code",
   "execution_count": 26,
   "id": "f9ea8592",
   "metadata": {},
   "outputs": [],
   "source": [
    "y_cv = Y[int(training_entries) : int(training_entries + cv_entries)]"
   ]
  },
  {
   "cell_type": "code",
   "execution_count": 27,
   "id": "98519ab6",
   "metadata": {},
   "outputs": [],
   "source": [
    "y_test = Y[int(training_entries + cv_entries) : int(training_entries + cv_entries + test_entries)]"
   ]
  },
  {
   "cell_type": "markdown",
   "id": "460afff6",
   "metadata": {},
   "source": [
    "## Using Pclass and Sex Columns"
   ]
  },
  {
   "cell_type": "code",
   "execution_count": 37,
   "id": "0770e27c",
   "metadata": {},
   "outputs": [],
   "source": [
    "X1 = train[['Pclass', 'Sex']]"
   ]
  },
  {
   "cell_type": "code",
   "execution_count": 38,
   "id": "46ca28d4",
   "metadata": {},
   "outputs": [],
   "source": [
    "X1 = np.array(X1)"
   ]
  },
  {
   "cell_type": "code",
   "execution_count": 39,
   "id": "aa0b8fba",
   "metadata": {},
   "outputs": [
    {
     "data": {
      "text/plain": [
       "(891, 2)"
      ]
     },
     "execution_count": 39,
     "metadata": {},
     "output_type": "execute_result"
    }
   ],
   "source": [
    "X1.shape"
   ]
  },
  {
   "cell_type": "code",
   "execution_count": 40,
   "id": "29278466",
   "metadata": {},
   "outputs": [],
   "source": [
    "x_train = X1[:int(training_entries), :]"
   ]
  },
  {
   "cell_type": "code",
   "execution_count": 41,
   "id": "9d15bb47",
   "metadata": {},
   "outputs": [
    {
     "data": {
      "text/plain": [
       "(535, 2)"
      ]
     },
     "execution_count": 41,
     "metadata": {},
     "output_type": "execute_result"
    }
   ],
   "source": [
    "x_train.shape"
   ]
  },
  {
   "cell_type": "code",
   "execution_count": 42,
   "id": "2ac48c2d",
   "metadata": {},
   "outputs": [],
   "source": [
    "x_cv = X1[int(training_entries):int(training_entries+cv_entries), :]"
   ]
  },
  {
   "cell_type": "code",
   "execution_count": 43,
   "id": "5b880f24",
   "metadata": {},
   "outputs": [],
   "source": [
    "x_test = X1[int(training_entries+cv_entries) : int(training_entries+cv_entries+test_entries), :]"
   ]
  },
  {
   "cell_type": "code",
   "execution_count": 45,
   "id": "a0a433f3",
   "metadata": {},
   "outputs": [
    {
     "data": {
      "text/plain": [
       "(178, 2)"
      ]
     },
     "execution_count": 45,
     "metadata": {},
     "output_type": "execute_result"
    }
   ],
   "source": [
    "x_cv.shape"
   ]
  },
  {
   "cell_type": "code",
   "execution_count": 46,
   "id": "40801f86",
   "metadata": {},
   "outputs": [
    {
     "data": {
      "text/plain": [
       "(178, 2)"
      ]
     },
     "execution_count": 46,
     "metadata": {},
     "output_type": "execute_result"
    }
   ],
   "source": [
    "x_test.shape"
   ]
  },
  {
   "cell_type": "code",
   "execution_count": 47,
   "id": "8a7bd629",
   "metadata": {},
   "outputs": [],
   "source": [
    "def map_feature(x1, x2, degree):\n",
    "    x1 = np.atleast_1d(x1)\n",
    "    x2 = np.atleast_1d(x2)\n",
    "    \n",
    "    output = []\n",
    "    for i in range(1, degree + 1):\n",
    "        for j in range(i + 1):\n",
    "            output.append((x1 ** (i - j)) * (x2 ** j))\n",
    "    return np.stack(output, axis=1)"
   ]
  },
  {
   "cell_type": "code",
   "execution_count": 54,
   "id": "d1179c00",
   "metadata": {},
   "outputs": [],
   "source": [
    "# Normalizing the x_train i.e. , training dataset\n",
    "norm1 = tf.keras.layers.Normalization(axis=-1)"
   ]
  },
  {
   "cell_type": "code",
   "execution_count": 55,
   "id": "efe189c9",
   "metadata": {},
   "outputs": [],
   "source": [
    "norm1.adapt(x_train)"
   ]
  },
  {
   "cell_type": "code",
   "execution_count": 56,
   "id": "dc0b2427",
   "metadata": {},
   "outputs": [],
   "source": [
    "x_train = norm1(x_train)"
   ]
  },
  {
   "cell_type": "code",
   "execution_count": 57,
   "id": "9adac500",
   "metadata": {},
   "outputs": [],
   "source": [
    "from sklearn.linear_model import LogisticRegression"
   ]
  },
  {
   "cell_type": "code",
   "execution_count": 58,
   "id": "630898e0",
   "metadata": {},
   "outputs": [],
   "source": [
    "model1 = LogisticRegression(max_iter=5000)"
   ]
  },
  {
   "cell_type": "code",
   "execution_count": 60,
   "id": "9a8149fd",
   "metadata": {},
   "outputs": [
    {
     "data": {
      "text/plain": [
       "LogisticRegression(max_iter=5000)"
      ]
     },
     "execution_count": 60,
     "metadata": {},
     "output_type": "execute_result"
    }
   ],
   "source": [
    "model1.fit(x_train, y_train)"
   ]
  },
  {
   "cell_type": "code",
   "execution_count": 62,
   "id": "9bd0efa3",
   "metadata": {},
   "outputs": [],
   "source": [
    "y_pred_train_1 = model1.predict(x_train)"
   ]
  },
  {
   "cell_type": "code",
   "execution_count": 75,
   "id": "119d5af3",
   "metadata": {},
   "outputs": [],
   "source": [
    "def accuracy_logistic_regression(y_pred, y):\n",
    "    m = y.shape[0]\n",
    "    count = 0\n",
    "    for i in range(m):\n",
    "        if y_pred[i] != y[i]:\n",
    "            count += 1\n",
    "    accuracy = ((m - count) / m) * 100\n",
    "    return accuracy, count"
   ]
  },
  {
   "cell_type": "code",
   "execution_count": 76,
   "id": "d9935854",
   "metadata": {},
   "outputs": [],
   "source": [
    "accuracy_train_1 = accuracy_logistic_regression(y_pred_train_1, y_train)"
   ]
  },
  {
   "cell_type": "code",
   "execution_count": 77,
   "id": "5bb4df7e",
   "metadata": {},
   "outputs": [
    {
     "data": {
      "text/plain": [
       "(79.81308411214954, 108)"
      ]
     },
     "execution_count": 77,
     "metadata": {},
     "output_type": "execute_result"
    }
   ],
   "source": [
    "accuracy_train_1"
   ]
  },
  {
   "cell_type": "markdown",
   "id": "373f9125",
   "metadata": {},
   "source": [
    "## Using degree = 2"
   ]
  },
  {
   "cell_type": "code",
   "execution_count": 78,
   "id": "7c1f8388",
   "metadata": {},
   "outputs": [],
   "source": [
    "x_train_2 = map_feature(x_train[:, 0], x_train[:, 1], 2)"
   ]
  },
  {
   "cell_type": "code",
   "execution_count": 79,
   "id": "d5adf9ea",
   "metadata": {},
   "outputs": [
    {
     "data": {
      "text/plain": [
       "(535, 5)"
      ]
     },
     "execution_count": 79,
     "metadata": {},
     "output_type": "execute_result"
    }
   ],
   "source": [
    "x_train_2.shape"
   ]
  },
  {
   "cell_type": "code",
   "execution_count": 80,
   "id": "5af676b6",
   "metadata": {},
   "outputs": [],
   "source": [
    "model2 = LogisticRegression(max_iter=10000)"
   ]
  },
  {
   "cell_type": "code",
   "execution_count": 81,
   "id": "f95246fe",
   "metadata": {},
   "outputs": [
    {
     "data": {
      "text/plain": [
       "LogisticRegression(max_iter=10000)"
      ]
     },
     "execution_count": 81,
     "metadata": {},
     "output_type": "execute_result"
    }
   ],
   "source": [
    "model2.fit(x_train_2, y_train)"
   ]
  },
  {
   "cell_type": "code",
   "execution_count": 82,
   "id": "03bcc365",
   "metadata": {},
   "outputs": [],
   "source": [
    "y_pred_train_2 = model2.predict(x_train_2)"
   ]
  },
  {
   "cell_type": "code",
   "execution_count": 83,
   "id": "ecd25881",
   "metadata": {},
   "outputs": [],
   "source": [
    "accuracy_train_2 = accuracy_logistic_regression(y_pred_train_2, y_train)"
   ]
  },
  {
   "cell_type": "code",
   "execution_count": 84,
   "id": "1972d921",
   "metadata": {},
   "outputs": [
    {
     "data": {
      "text/plain": [
       "(79.81308411214954, 108)"
      ]
     },
     "execution_count": 84,
     "metadata": {},
     "output_type": "execute_result"
    }
   ],
   "source": [
    "accuracy_train_2"
   ]
  },
  {
   "cell_type": "markdown",
   "id": "9e091561",
   "metadata": {},
   "source": [
    "## Using degree = 3"
   ]
  },
  {
   "cell_type": "code",
   "execution_count": 85,
   "id": "7e2238e4",
   "metadata": {},
   "outputs": [],
   "source": [
    "x_train_3 = map_feature(x_train[:, 0], x_train[:, 1], 3)"
   ]
  },
  {
   "cell_type": "code",
   "execution_count": 87,
   "id": "70b374dd",
   "metadata": {},
   "outputs": [
    {
     "data": {
      "text/plain": [
       "(535, 9)"
      ]
     },
     "execution_count": 87,
     "metadata": {},
     "output_type": "execute_result"
    }
   ],
   "source": [
    "x_train_3.shape"
   ]
  },
  {
   "cell_type": "code",
   "execution_count": 88,
   "id": "376586af",
   "metadata": {},
   "outputs": [],
   "source": [
    "model3 = LogisticRegression(max_iter=10000)"
   ]
  },
  {
   "cell_type": "code",
   "execution_count": 89,
   "id": "2f7c9a9b",
   "metadata": {},
   "outputs": [
    {
     "data": {
      "text/plain": [
       "LogisticRegression(max_iter=10000)"
      ]
     },
     "execution_count": 89,
     "metadata": {},
     "output_type": "execute_result"
    }
   ],
   "source": [
    "model3.fit(x_train_3, y_train)"
   ]
  },
  {
   "cell_type": "code",
   "execution_count": 90,
   "id": "94250ef1",
   "metadata": {},
   "outputs": [],
   "source": [
    "y_pred_train_3 = model3.predict(x_train_3)"
   ]
  },
  {
   "cell_type": "code",
   "execution_count": 91,
   "id": "e235bc33",
   "metadata": {},
   "outputs": [],
   "source": [
    "accuracy_train_3 = accuracy_logistic_regression(y_pred_train_3, y_train)"
   ]
  },
  {
   "cell_type": "code",
   "execution_count": 92,
   "id": "ad3a9b20",
   "metadata": {},
   "outputs": [
    {
     "data": {
      "text/plain": [
       "(79.81308411214954, 108)"
      ]
     },
     "execution_count": 92,
     "metadata": {},
     "output_type": "execute_result"
    }
   ],
   "source": [
    "accuracy_train_3"
   ]
  },
  {
   "cell_type": "markdown",
   "id": "da9d7e2f",
   "metadata": {},
   "source": [
    "# Using Degree = 4"
   ]
  },
  {
   "cell_type": "code",
   "execution_count": 94,
   "id": "9350b3ca",
   "metadata": {},
   "outputs": [],
   "source": [
    "x_train_4 = map_feature(x_train[:, 0], x_train[:, 1], 4)"
   ]
  },
  {
   "cell_type": "code",
   "execution_count": 97,
   "id": "4a7a8185",
   "metadata": {},
   "outputs": [],
   "source": [
    "norm2 = tf.keras.layers.Normalization(axis=-1)"
   ]
  },
  {
   "cell_type": "code",
   "execution_count": 98,
   "id": "2e617d9c",
   "metadata": {},
   "outputs": [],
   "source": [
    "norm2.adapt(x_train_4)"
   ]
  },
  {
   "cell_type": "code",
   "execution_count": 99,
   "id": "2c3b7b93",
   "metadata": {},
   "outputs": [],
   "source": [
    "x_train_4 = norm2(x_train_4)"
   ]
  },
  {
   "cell_type": "code",
   "execution_count": 103,
   "id": "68fee1c4",
   "metadata": {},
   "outputs": [],
   "source": [
    "x_train_4 = np.array(x_train_4)"
   ]
  },
  {
   "cell_type": "code",
   "execution_count": 104,
   "id": "38de8a6a",
   "metadata": {},
   "outputs": [
    {
     "data": {
      "text/plain": [
       "2.7301471"
      ]
     },
     "execution_count": 104,
     "metadata": {},
     "output_type": "execute_result"
    }
   ],
   "source": [
    "x_train_4.max()"
   ]
  },
  {
   "cell_type": "code",
   "execution_count": 105,
   "id": "00bdf616",
   "metadata": {},
   "outputs": [],
   "source": [
    "model4 = LogisticRegression(max_iter=10000)"
   ]
  },
  {
   "cell_type": "code",
   "execution_count": 106,
   "id": "1af546db",
   "metadata": {},
   "outputs": [
    {
     "data": {
      "text/plain": [
       "LogisticRegression(max_iter=10000)"
      ]
     },
     "execution_count": 106,
     "metadata": {},
     "output_type": "execute_result"
    }
   ],
   "source": [
    "model4.fit(x_train_4, y_train)"
   ]
  },
  {
   "cell_type": "code",
   "execution_count": 107,
   "id": "e15b5cea",
   "metadata": {},
   "outputs": [],
   "source": [
    "y_pred_train_4 = model4.predict(x_train_4)"
   ]
  },
  {
   "cell_type": "code",
   "execution_count": 108,
   "id": "f601fe99",
   "metadata": {},
   "outputs": [],
   "source": [
    "accuracy_train_4 = accuracy_logistic_regression(y_pred_train_4, y_train)"
   ]
  },
  {
   "cell_type": "code",
   "execution_count": 109,
   "id": "4bcb379b",
   "metadata": {},
   "outputs": [
    {
     "data": {
      "text/plain": [
       "(79.81308411214954, 108)"
      ]
     },
     "execution_count": 109,
     "metadata": {},
     "output_type": "execute_result"
    }
   ],
   "source": [
    "accuracy_train_4"
   ]
  },
  {
   "cell_type": "code",
   "execution_count": 110,
   "id": "6fd48eb7",
   "metadata": {},
   "outputs": [],
   "source": [
    "x_cv_4 = map_feature(x_cv[:, 0], x_cv[:, 1], 4)"
   ]
  },
  {
   "cell_type": "code",
   "execution_count": 111,
   "id": "b507f5a0",
   "metadata": {},
   "outputs": [],
   "source": [
    "x_cv_4 = norm2(x_cv_4)"
   ]
  },
  {
   "cell_type": "code",
   "execution_count": 112,
   "id": "8179e168",
   "metadata": {},
   "outputs": [],
   "source": [
    "x_cv_4 = np.array(x_cv_4)"
   ]
  },
  {
   "cell_type": "code",
   "execution_count": 114,
   "id": "02e8e200",
   "metadata": {},
   "outputs": [],
   "source": [
    "y_pred_cv_4 = model4.predict(x_cv_4)"
   ]
  },
  {
   "cell_type": "code",
   "execution_count": 115,
   "id": "bfe0b49b",
   "metadata": {},
   "outputs": [],
   "source": [
    "accuracy_cv_4 = accuracy_logistic_regression(y_pred_cv_4, y_cv)"
   ]
  },
  {
   "cell_type": "code",
   "execution_count": 116,
   "id": "70391093",
   "metadata": {},
   "outputs": [
    {
     "data": {
      "text/plain": [
       "(59.55056179775281, 72)"
      ]
     },
     "execution_count": 116,
     "metadata": {},
     "output_type": "execute_result"
    }
   ],
   "source": [
    "accuracy_cv_4"
   ]
  },
  {
   "cell_type": "markdown",
   "id": "2e59a136",
   "metadata": {},
   "source": [
    "## Using degree = 1"
   ]
  },
  {
   "cell_type": "code",
   "execution_count": 117,
   "id": "2f0e030c",
   "metadata": {},
   "outputs": [],
   "source": [
    "x_cv = norm1(x_cv)"
   ]
  },
  {
   "cell_type": "code",
   "execution_count": 118,
   "id": "3f4c02b2",
   "metadata": {},
   "outputs": [],
   "source": [
    "x_cv = np.array(x_cv)"
   ]
  },
  {
   "cell_type": "code",
   "execution_count": 121,
   "id": "bf208795",
   "metadata": {},
   "outputs": [],
   "source": [
    "x_test = norm1(x_test)"
   ]
  },
  {
   "cell_type": "code",
   "execution_count": 122,
   "id": "e9976092",
   "metadata": {},
   "outputs": [],
   "source": [
    "x_test = np.array(x_test)"
   ]
  },
  {
   "cell_type": "code",
   "execution_count": 123,
   "id": "12641f41",
   "metadata": {},
   "outputs": [],
   "source": [
    "model = LogisticRegression(max_iter=10000)"
   ]
  },
  {
   "cell_type": "code",
   "execution_count": 124,
   "id": "e3f16aae",
   "metadata": {},
   "outputs": [
    {
     "data": {
      "text/plain": [
       "LogisticRegression(max_iter=10000)"
      ]
     },
     "execution_count": 124,
     "metadata": {},
     "output_type": "execute_result"
    }
   ],
   "source": [
    "model.fit(x_train, y_train)"
   ]
  },
  {
   "cell_type": "code",
   "execution_count": 125,
   "id": "668eebe0",
   "metadata": {},
   "outputs": [],
   "source": [
    "y_pred_train = model.predict(x_train)"
   ]
  },
  {
   "cell_type": "code",
   "execution_count": 126,
   "id": "56c678ac",
   "metadata": {},
   "outputs": [],
   "source": [
    "accuracy_train = accuracy_logistic_regression(y_pred_train, y_train)"
   ]
  },
  {
   "cell_type": "code",
   "execution_count": 127,
   "id": "fcfe3bc1",
   "metadata": {},
   "outputs": [
    {
     "data": {
      "text/plain": [
       "(79.81308411214954, 108)"
      ]
     },
     "execution_count": 127,
     "metadata": {},
     "output_type": "execute_result"
    }
   ],
   "source": [
    "accuracy_train"
   ]
  },
  {
   "cell_type": "code",
   "execution_count": 128,
   "id": "6350da5e",
   "metadata": {},
   "outputs": [],
   "source": [
    "y_pred_cv = model.predict(x_cv)"
   ]
  },
  {
   "cell_type": "code",
   "execution_count": 129,
   "id": "f210ca37",
   "metadata": {},
   "outputs": [
    {
     "data": {
      "text/plain": [
       "(59.55056179775281, 72)"
      ]
     },
     "execution_count": 129,
     "metadata": {},
     "output_type": "execute_result"
    }
   ],
   "source": [
    "accuracy_logistic_regression(y_pred_cv, y_cv)"
   ]
  },
  {
   "cell_type": "code",
   "execution_count": null,
   "id": "6261fd1c",
   "metadata": {},
   "outputs": [],
   "source": []
  }
 ],
 "metadata": {
  "kernelspec": {
   "display_name": "Python 3 (ipykernel)",
   "language": "python",
   "name": "python3"
  },
  "language_info": {
   "codemirror_mode": {
    "name": "ipython",
    "version": 3
   },
   "file_extension": ".py",
   "mimetype": "text/x-python",
   "name": "python",
   "nbconvert_exporter": "python",
   "pygments_lexer": "ipython3",
   "version": "3.9.12"
  }
 },
 "nbformat": 4,
 "nbformat_minor": 5
}
